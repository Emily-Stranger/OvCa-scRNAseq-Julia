{
 "cells": [
  {
   "cell_type": "markdown",
   "id": "12c6feca",
   "metadata": {},
   "source": [
    "# Use SingleCellProjection Package "
   ]
  },
  {
   "cell_type": "code",
   "execution_count": 1,
   "id": "3bdd743a",
   "metadata": {},
   "outputs": [
    {
     "name": "stderr",
     "output_type": "stream",
     "text": [
      "\u001b[32m\u001b[1m  Activating\u001b[22m\u001b[39m project at `~/Julia`\n"
     ]
    }
   ],
   "source": [
    "]activate ."
   ]
  },
  {
   "cell_type": "code",
   "execution_count": 2,
   "id": "24d17921",
   "metadata": {},
   "outputs": [
    {
     "data": {
      "application/vnd.webio.node+json": {
       "children": [],
       "instanceArgs": {
        "namespace": "html",
        "tag": "div"
       },
       "nodeType": "DOM",
       "props": {},
       "type": "node"
      },
      "text/html": [
       "<div style=\"padding: 1em; background-color: #f8d6da; border: 1px solid #f5c6cb; font-weight: bold;\">\n",
       "<p>The WebIO Jupyter extension was not detected. See the\n",
       "<a href=\"https://juliagizmos.github.io/WebIO.jl/latest/providers/ijulia/\" target=\"_blank\">\n",
       "    WebIO Jupyter integration documentation\n",
       "</a>\n",
       "for more information.\n",
       "</div>\n"
      ],
      "text/plain": [
       "WebIO._IJuliaInit()"
      ]
     },
     "metadata": {
      "application/vnd.webio.node+json": {
       "kernelId": "3ba1c655-07d0-4a9f-ab5d-902897b453b2"
      }
     },
     "output_type": "display_data"
    }
   ],
   "source": [
    "using SingleCellProjections\n",
    "using DataFrames\n",
    "using CSV\n",
    "using Statistics\n",
    "using UMAP\n",
    "using LinearAlgebra\n",
    "using SCTransform\n",
    "using PlotlyJS\n",
    "using SparseArrays\n",
    "using TSne\n",
    "using Clustering\n",
    "using JLD2"
   ]
  },
  {
   "cell_type": "markdown",
   "id": "45c83fb6",
   "metadata": {},
   "source": [
    "## Load data from A2780 Seurat Object "
   ]
  },
  {
   "cell_type": "code",
   "execution_count": 3,
   "id": "3232238d",
   "metadata": {
    "scrolled": true
   },
   "outputs": [
    {
     "data": {
      "text/html": [
       "<div><div style = \"float: left;\"><span>33538×3871 DataFrame</span></div><div style = \"float: right;\"><span style = \"font-style: italic;\">3771 columns and 33513 rows omitted</span></div><div style = \"clear: both;\"></div></div><div class = \"data-frame\" style = \"overflow-x: scroll;\"><table class = \"data-frame\" style = \"margin-bottom: 6px;\"><thead><tr class = \"header\"><th class = \"rowNumber\" style = \"font-weight: bold; text-align: right;\">Row</th><th style = \"text-align: left;\">Genes</th><th style = \"text-align: left;\">A2780S_CT_S_AAACCTGCAGGGTATG</th><th style = \"text-align: left;\">A2780S_CT_S_AAACCTGGTAGCGTCC</th><th style = \"text-align: left;\">A2780S_CT_S_AAACCTGGTATAGGGC</th><th style = \"text-align: left;\">A2780S_CT_S_AAACCTGGTGAAGGCT</th><th style = \"text-align: left;\">A2780S_CT_S_AAACCTGGTGCCTTGG</th><th style = \"text-align: left;\">A2780S_CT_S_AAACCTGTCAGTTTGG</th><th style = \"text-align: left;\">A2780S_CT_S_AAACCTGTCATGCAAC</th><th style = \"text-align: left;\">A2780S_CT_S_AAACGGGCAAGGTGTG</th><th style = \"text-align: left;\">A2780S_CT_S_AAACGGGCACATCTTT</th><th style = \"text-align: left;\">A2780S_CT_S_AAACGGGCAGGCGATA</th><th style = \"text-align: left;\">A2780S_CT_S_AAACGGGTCCGAAGAG</th><th style = \"text-align: left;\">A2780S_CT_S_AAACGGGTCCTTTCGG</th><th style = \"text-align: left;\">A2780S_CT_S_AAACGGGTCTTCAACT</th><th style = \"text-align: left;\">A2780S_CT_S_AAAGATGAGGCCCTTG</th><th style = \"text-align: left;\">A2780S_CT_S_AAAGATGTCCGCTGTT</th><th style = \"text-align: left;\">A2780S_CT_S_AAAGATGTCGATCCCT</th><th style = \"text-align: left;\">A2780S_CT_S_AAAGCAACACGGTGTC</th><th style = \"text-align: left;\">A2780S_CT_S_AAAGCAACACTTCTGC</th><th style = \"text-align: left;\">A2780S_CT_S_AAAGCAAGTCACTTCC</th><th style = \"text-align: left;\">A2780S_CT_S_AAAGCAAGTGCGATAG</th><th style = \"text-align: left;\">A2780S_CT_S_AAAGCAATCCAGAAGG</th><th style = \"text-align: left;\">A2780S_CT_S_AAAGCAATCGAGGTAG</th><th style = \"text-align: left;\">A2780S_CT_S_AAAGTAGAGCCTTGAT</th><th style = \"text-align: left;\">A2780S_CT_S_AAAGTAGCACATCCAA</th><th style = \"text-align: left;\">A2780S_CT_S_AAAGTAGCAGTCAGCC</th><th style = \"text-align: left;\">A2780S_CT_S_AAAGTAGCATCTACGA</th><th style = \"text-align: left;\">A2780S_CT_S_AAAGTAGGTCGAACAG</th><th style = \"text-align: left;\">A2780S_CT_S_AAAGTAGTCACGCGGT</th><th style = \"text-align: left;\">A2780S_CT_S_AAATGCCAGTACGACG</th><th style = \"text-align: left;\">A2780S_CT_S_AAATGCCGTTAAAGTG</th><th style = \"text-align: left;\">A2780S_CT_S_AACACGTAGAGAACAG</th><th style = \"text-align: left;\">A2780S_CT_S_AACACGTCAGGGTTAG</th><th style = \"text-align: left;\">A2780S_CT_S_AACACGTCATACTCTT</th><th style = \"text-align: left;\">A2780S_CT_S_AACACGTCATCCTAGA</th><th style = \"text-align: left;\">A2780S_CT_S_AACACGTTCCACTGGG</th><th style = \"text-align: left;\">A2780S_CT_S_AACCATGAGACTTGAA</th><th style = \"text-align: left;\">A2780S_CT_S_AACCATGAGTACACCT</th><th style = \"text-align: left;\">A2780S_CT_S_AACCATGAGTGGCACA</th><th style = \"text-align: left;\">A2780S_CT_S_AACCATGCAGCTCCGA</th><th style = \"text-align: left;\">A2780S_CT_S_AACCATGGTCATCCCT</th><th style = \"text-align: left;\">A2780S_CT_S_AACCATGGTGAGGGAG</th><th style = \"text-align: left;\">A2780S_CT_S_AACCATGGTTACGGAG</th><th style = \"text-align: left;\">A2780S_CT_S_AACCATGTCACGAAGG</th><th style = \"text-align: left;\">A2780S_CT_S_AACCATGTCGCATGAT</th><th style = \"text-align: left;\">A2780S_CT_S_AACCATGTCTGCCAGG</th><th style = \"text-align: left;\">A2780S_CT_S_AACCGCGAGATGGCGT</th><th style = \"text-align: left;\">A2780S_CT_S_AACCGCGAGATGTTAG</th><th style = \"text-align: left;\">A2780S_CT_S_AACCGCGAGTCAATAG</th><th style = \"text-align: left;\">A2780S_CT_S_AACCGCGCACCGAATT</th><th style = \"text-align: left;\">A2780S_CT_S_AACCGCGGTAAAGGAG</th><th style = \"text-align: left;\">A2780S_CT_S_AACCGCGGTTTGGGCC</th><th style = \"text-align: left;\">A2780S_CT_S_AACGTTGAGCTAGCCC</th><th style = \"text-align: left;\">A2780S_CT_S_AACGTTGCACGGCCAT</th><th style = \"text-align: left;\">A2780S_CT_S_AACGTTGCACTACAGT</th><th style = \"text-align: left;\">A2780S_CT_S_AACGTTGCAGCTCGAC</th><th style = \"text-align: left;\">A2780S_CT_S_AACGTTGCAGTTAACC</th><th style = \"text-align: left;\">A2780S_CT_S_AACGTTGGTCAATACC</th><th style = \"text-align: left;\">A2780S_CT_S_AACGTTGGTGTTAAGA</th><th style = \"text-align: left;\">A2780S_CT_S_AACGTTGTCGCTTAGA</th><th style = \"text-align: left;\">A2780S_CT_S_AACGTTGTCTCCCTGA</th><th style = \"text-align: left;\">A2780S_CT_S_AACTCAGCATGTCCTC</th><th style = \"text-align: left;\">A2780S_CT_S_AACTCAGTCAACACAC</th><th style = \"text-align: left;\">A2780S_CT_S_AACTCAGTCCAGGGCT</th><th style = \"text-align: left;\">A2780S_CT_S_AACTCAGTCCGTTGTC</th><th style = \"text-align: left;\">A2780S_CT_S_AACTCCCAGCTCTCGG</th><th style = \"text-align: left;\">A2780S_CT_S_AACTCCCAGGCAGTCA</th><th style = \"text-align: left;\">A2780S_CT_S_AACTCCCCAGGACGTA</th><th style = \"text-align: left;\">A2780S_CT_S_AACTCCCGTGCATCTA</th><th style = \"text-align: left;\">A2780S_CT_S_AACTCCCTCAGCTCGG</th><th style = \"text-align: left;\">A2780S_CT_S_AACTCTTAGAGTACCG</th><th style = \"text-align: left;\">A2780S_CT_S_AACTCTTCAAGAAGAG</th><th style = \"text-align: left;\">A2780S_CT_S_AACTCTTCAATGAATG</th><th style = \"text-align: left;\">A2780S_CT_S_AACTCTTCATAGGATA</th><th style = \"text-align: left;\">A2780S_CT_S_AACTCTTGTTCCGGCA</th><th style = \"text-align: left;\">A2780S_CT_S_AACTCTTTCAGCATGT</th><th style = \"text-align: left;\">A2780S_CT_S_AACTGGTAGCCAGTAG</th><th style = \"text-align: left;\">A2780S_CT_S_AACTGGTAGTTGTCGT</th><th style = \"text-align: left;\">A2780S_CT_S_AACTGGTCATCGGAAG</th><th style = \"text-align: left;\">A2780S_CT_S_AACTGGTGTACCGCTG</th><th style = \"text-align: left;\">A2780S_CT_S_AACTTTCCAGCCAATT</th><th style = \"text-align: left;\">A2780S_CT_S_AACTTTCGTGTTAAGA</th><th style = \"text-align: left;\">A2780S_CT_S_AACTTTCGTTAGTGGG</th><th style = \"text-align: left;\">A2780S_CT_S_AACTTTCGTTCCCGAG</th><th style = \"text-align: left;\">A2780S_CT_S_AACTTTCTCAGCGATT</th><th style = \"text-align: left;\">A2780S_CT_S_AACTTTCTCAGTTGAC</th><th style = \"text-align: left;\">A2780S_CT_S_AACTTTCTCTTGTCAT</th><th style = \"text-align: left;\">A2780S_CT_S_AAGACCTGTACCGTAT</th><th style = \"text-align: left;\">A2780S_CT_S_AAGACCTGTTACGACT</th><th style = \"text-align: left;\">A2780S_CT_S_AAGACCTTCCTGCAGG</th><th style = \"text-align: left;\">A2780S_CT_S_AAGCCGCAGGATGGAA</th><th style = \"text-align: left;\">A2780S_CT_S_AAGCCGCCAGATGGGT</th><th style = \"text-align: left;\">A2780S_CT_S_AAGCCGCCAGTCAGAG</th><th style = \"text-align: left;\">A2780S_CT_S_AAGCCGCCAGTTCATG</th><th style = \"text-align: left;\">A2780S_CT_S_AAGCCGCGTCGCATAT</th><th style = \"text-align: left;\">A2780S_CT_S_AAGCCGCTCTAACTGG</th><th style = \"text-align: left;\">A2780S_CT_S_AAGCCGCTCTTGTTTG</th><th style = \"text-align: left;\">A2780S_CT_S_AAGGAGCCAATGGATA</th><th style = \"text-align: left;\">A2780S_CT_S_AAGGAGCGTCCCTTGT</th><th style = \"text-align: left;\">A2780S_CT_S_AAGGCAGCACCAGTTA</th><th style = \"text-align: right;\">&ctdot;</th></tr><tr class = \"subheader headerLastRow\"><th class = \"rowNumber\" style = \"font-weight: bold; text-align: right;\"></th><th title = \"String31\" style = \"text-align: left;\">String31</th><th title = \"Int64\" style = \"text-align: left;\">Int64</th><th title = \"Int64\" style = \"text-align: left;\">Int64</th><th title = \"Int64\" style = \"text-align: left;\">Int64</th><th title = \"Int64\" style = \"text-align: left;\">Int64</th><th title = \"Int64\" style = \"text-align: left;\">Int64</th><th title = \"Int64\" style = \"text-align: left;\">Int64</th><th title = \"Int64\" style = \"text-align: left;\">Int64</th><th title = \"Int64\" style = \"text-align: left;\">Int64</th><th title = \"Int64\" style = \"text-align: left;\">Int64</th><th title = \"Int64\" style = \"text-align: left;\">Int64</th><th title = \"Int64\" style = \"text-align: left;\">Int64</th><th title = \"Int64\" style = \"text-align: left;\">Int64</th><th title = \"Int64\" style = \"text-align: left;\">Int64</th><th title = \"Int64\" style = \"text-align: left;\">Int64</th><th title = \"Int64\" style = \"text-align: left;\">Int64</th><th title = \"Int64\" style = \"text-align: left;\">Int64</th><th title = \"Int64\" style = \"text-align: left;\">Int64</th><th title = \"Int64\" style = \"text-align: left;\">Int64</th><th title = \"Int64\" style = \"text-align: left;\">Int64</th><th title = \"Int64\" style = \"text-align: left;\">Int64</th><th title = \"Int64\" style = \"text-align: left;\">Int64</th><th title = \"Int64\" style = \"text-align: left;\">Int64</th><th title = \"Int64\" style = \"text-align: left;\">Int64</th><th title = \"Int64\" style = \"text-align: left;\">Int64</th><th title = \"Int64\" style = \"text-align: left;\">Int64</th><th title = \"Int64\" style = \"text-align: left;\">Int64</th><th title = \"Int64\" style = \"text-align: left;\">Int64</th><th title = \"Int64\" style = \"text-align: left;\">Int64</th><th title = \"Int64\" style = \"text-align: left;\">Int64</th><th title = \"Int64\" style = \"text-align: left;\">Int64</th><th title = \"Int64\" style = \"text-align: left;\">Int64</th><th title = \"Int64\" style = \"text-align: left;\">Int64</th><th title = \"Int64\" style = \"text-align: left;\">Int64</th><th title = \"Int64\" style = \"text-align: left;\">Int64</th><th title = \"Int64\" style = \"text-align: left;\">Int64</th><th title = \"Int64\" style = \"text-align: left;\">Int64</th><th title = \"Int64\" style = \"text-align: left;\">Int64</th><th title = \"Int64\" style = \"text-align: left;\">Int64</th><th title = \"Int64\" style = \"text-align: left;\">Int64</th><th title = \"Int64\" style = \"text-align: left;\">Int64</th><th title = \"Int64\" style = \"text-align: left;\">Int64</th><th title = \"Int64\" style = \"text-align: left;\">Int64</th><th title = \"Int64\" style = \"text-align: left;\">Int64</th><th title = \"Int64\" style = \"text-align: left;\">Int64</th><th title = \"Int64\" style = \"text-align: left;\">Int64</th><th title = \"Int64\" style = \"text-align: left;\">Int64</th><th title = \"Int64\" style = \"text-align: left;\">Int64</th><th title = \"Int64\" style = \"text-align: left;\">Int64</th><th title = \"Int64\" style = \"text-align: left;\">Int64</th><th title = \"Int64\" style = \"text-align: left;\">Int64</th><th title = \"Int64\" style = \"text-align: left;\">Int64</th><th title = \"Int64\" style = \"text-align: left;\">Int64</th><th title = \"Int64\" style = \"text-align: left;\">Int64</th><th title = \"Int64\" style = \"text-align: left;\">Int64</th><th title = \"Int64\" style = \"text-align: left;\">Int64</th><th title = \"Int64\" style = \"text-align: left;\">Int64</th><th title = \"Int64\" style = \"text-align: left;\">Int64</th><th title = \"Int64\" style = \"text-align: left;\">Int64</th><th title = \"Int64\" style = \"text-align: left;\">Int64</th><th title = \"Int64\" style = \"text-align: left;\">Int64</th><th title = \"Int64\" style = \"text-align: left;\">Int64</th><th title = \"Int64\" style = \"text-align: left;\">Int64</th><th title = \"Int64\" style = \"text-align: left;\">Int64</th><th title = \"Int64\" style = \"text-align: left;\">Int64</th><th title = \"Int64\" style = \"text-align: left;\">Int64</th><th title = \"Int64\" style = \"text-align: left;\">Int64</th><th title = \"Int64\" style = \"text-align: left;\">Int64</th><th title = \"Int64\" style = \"text-align: left;\">Int64</th><th title = \"Int64\" style = \"text-align: left;\">Int64</th><th title = \"Int64\" style = \"text-align: left;\">Int64</th><th title = \"Int64\" style = \"text-align: left;\">Int64</th><th title = \"Int64\" style = \"text-align: left;\">Int64</th><th title = \"Int64\" style = \"text-align: left;\">Int64</th><th title = \"Int64\" style = \"text-align: left;\">Int64</th><th title = \"Int64\" style = \"text-align: left;\">Int64</th><th title = \"Int64\" style = \"text-align: left;\">Int64</th><th title = \"Int64\" style = \"text-align: left;\">Int64</th><th title = \"Int64\" style = \"text-align: left;\">Int64</th><th title = \"Int64\" style = \"text-align: left;\">Int64</th><th title = \"Int64\" style = \"text-align: left;\">Int64</th><th title = \"Int64\" style = \"text-align: left;\">Int64</th><th title = \"Int64\" style = \"text-align: left;\">Int64</th><th title = \"Int64\" style = \"text-align: left;\">Int64</th><th title = \"Int64\" style = \"text-align: left;\">Int64</th><th title = \"Int64\" style = \"text-align: left;\">Int64</th><th title = \"Int64\" style = \"text-align: left;\">Int64</th><th title = \"Int64\" style = \"text-align: left;\">Int64</th><th title = \"Int64\" style = \"text-align: left;\">Int64</th><th title = \"Int64\" style = \"text-align: left;\">Int64</th><th title = \"Int64\" style = \"text-align: left;\">Int64</th><th title = \"Int64\" style = \"text-align: left;\">Int64</th><th title = \"Int64\" style = \"text-align: left;\">Int64</th><th title = \"Int64\" style = \"text-align: left;\">Int64</th><th title = \"Int64\" style = \"text-align: left;\">Int64</th><th title = \"Int64\" style = \"text-align: left;\">Int64</th><th title = \"Int64\" style = \"text-align: left;\">Int64</th><th title = \"Int64\" style = \"text-align: left;\">Int64</th><th title = \"Int64\" style = \"text-align: left;\">Int64</th><th title = \"Int64\" style = \"text-align: left;\">Int64</th><th title = \"Int64\" style = \"text-align: right;\">&ctdot;</th></tr></thead><tbody><tr><td class = \"rowNumber\" style = \"font-weight: bold; text-align: right;\">1</td><td style = \"text-align: left;\">MIR1302-2HG</td><td style = \"text-align: right;\">0</td><td style = \"text-align: right;\">0</td><td style = \"text-align: right;\">0</td><td style = \"text-align: right;\">0</td><td style = \"text-align: right;\">0</td><td style = \"text-align: right;\">0</td><td style = \"text-align: right;\">0</td><td style = \"text-align: right;\">0</td><td style = \"text-align: right;\">0</td><td style = \"text-align: right;\">0</td><td style = \"text-align: right;\">0</td><td style = \"text-align: right;\">0</td><td style = \"text-align: right;\">0</td><td style = \"text-align: right;\">0</td><td style = \"text-align: right;\">0</td><td style = \"text-align: right;\">0</td><td style = \"text-align: right;\">0</td><td style = \"text-align: right;\">0</td><td style = \"text-align: right;\">0</td><td style = \"text-align: right;\">0</td><td style = \"text-align: right;\">0</td><td style = \"text-align: right;\">0</td><td style = \"text-align: right;\">0</td><td style = \"text-align: right;\">0</td><td style = \"text-align: right;\">0</td><td style = \"text-align: right;\">0</td><td style = \"text-align: right;\">0</td><td style = \"text-align: right;\">0</td><td style = \"text-align: right;\">0</td><td style = \"text-align: right;\">0</td><td style = \"text-align: right;\">0</td><td style = \"text-align: right;\">0</td><td style = \"text-align: right;\">0</td><td style = \"text-align: right;\">0</td><td style = \"text-align: right;\">0</td><td style = \"text-align: right;\">0</td><td style = \"text-align: right;\">0</td><td style = \"text-align: right;\">0</td><td style = \"text-align: right;\">0</td><td style = \"text-align: right;\">0</td><td style = \"text-align: right;\">0</td><td style = \"text-align: right;\">0</td><td style = \"text-align: right;\">0</td><td style = \"text-align: right;\">0</td><td style = \"text-align: right;\">0</td><td style = \"text-align: right;\">0</td><td style = \"text-align: right;\">0</td><td style = \"text-align: right;\">0</td><td style = \"text-align: right;\">0</td><td style = \"text-align: right;\">0</td><td style = \"text-align: right;\">0</td><td style = \"text-align: right;\">0</td><td style = \"text-align: right;\">0</td><td style = \"text-align: right;\">0</td><td style = \"text-align: right;\">0</td><td style = \"text-align: right;\">0</td><td style = \"text-align: right;\">0</td><td style = \"text-align: right;\">0</td><td style = \"text-align: right;\">0</td><td style = \"text-align: right;\">0</td><td style = \"text-align: right;\">0</td><td style = \"text-align: right;\">0</td><td style = \"text-align: right;\">0</td><td style = \"text-align: right;\">0</td><td style = \"text-align: right;\">0</td><td style = \"text-align: right;\">0</td><td style = \"text-align: right;\">0</td><td style = \"text-align: right;\">0</td><td style = \"text-align: right;\">0</td><td style = \"text-align: right;\">0</td><td style = \"text-align: right;\">0</td><td style = \"text-align: right;\">0</td><td style = \"text-align: right;\">0</td><td style = \"text-align: right;\">0</td><td style = \"text-align: right;\">0</td><td style = \"text-align: right;\">0</td><td style = \"text-align: right;\">0</td><td style = \"text-align: right;\">0</td><td style = \"text-align: right;\">0</td><td style = \"text-align: right;\">0</td><td style = \"text-align: right;\">0</td><td style = \"text-align: right;\">0</td><td style = \"text-align: right;\">0</td><td style = \"text-align: right;\">0</td><td style = \"text-align: right;\">0</td><td style = \"text-align: right;\">0</td><td style = \"text-align: right;\">0</td><td style = \"text-align: right;\">0</td><td style = \"text-align: right;\">0</td><td style = \"text-align: right;\">0</td><td style = \"text-align: right;\">0</td><td style = \"text-align: right;\">0</td><td style = \"text-align: right;\">0</td><td style = \"text-align: right;\">0</td><td style = \"text-align: right;\">0</td><td style = \"text-align: right;\">0</td><td style = \"text-align: right;\">0</td><td style = \"text-align: right;\">0</td><td style = \"text-align: right;\">0</td><td style = \"text-align: right;\">&ctdot;</td></tr><tr><td class = \"rowNumber\" style = \"font-weight: bold; text-align: right;\">2</td><td style = \"text-align: left;\">FAM138A</td><td style = \"text-align: right;\">0</td><td style = \"text-align: right;\">0</td><td style = \"text-align: right;\">0</td><td style = \"text-align: right;\">0</td><td style = \"text-align: right;\">0</td><td style = \"text-align: right;\">0</td><td style = \"text-align: right;\">0</td><td style = \"text-align: right;\">0</td><td style = \"text-align: right;\">0</td><td style = \"text-align: right;\">0</td><td style = \"text-align: right;\">0</td><td style = \"text-align: right;\">0</td><td style = \"text-align: right;\">0</td><td style = \"text-align: right;\">0</td><td style = \"text-align: right;\">0</td><td style = \"text-align: right;\">0</td><td style = \"text-align: right;\">0</td><td style = \"text-align: right;\">0</td><td style = \"text-align: right;\">0</td><td style = \"text-align: right;\">0</td><td style = \"text-align: right;\">0</td><td style = \"text-align: right;\">0</td><td style = \"text-align: right;\">0</td><td style = \"text-align: right;\">0</td><td style = \"text-align: right;\">0</td><td style = \"text-align: right;\">0</td><td style = \"text-align: right;\">0</td><td style = \"text-align: right;\">0</td><td style = \"text-align: right;\">0</td><td style = \"text-align: right;\">0</td><td style = \"text-align: right;\">0</td><td style = \"text-align: right;\">0</td><td style = \"text-align: right;\">0</td><td style = \"text-align: right;\">0</td><td style = \"text-align: right;\">0</td><td style = \"text-align: right;\">0</td><td style = \"text-align: right;\">0</td><td style = \"text-align: right;\">0</td><td style = \"text-align: right;\">0</td><td style = \"text-align: right;\">0</td><td style = \"text-align: right;\">0</td><td style = \"text-align: right;\">0</td><td style = \"text-align: right;\">0</td><td style = \"text-align: right;\">0</td><td style = \"text-align: right;\">0</td><td style = \"text-align: right;\">0</td><td style = \"text-align: right;\">0</td><td style = \"text-align: right;\">0</td><td style = \"text-align: right;\">0</td><td style = \"text-align: right;\">0</td><td style = \"text-align: right;\">0</td><td style = \"text-align: right;\">0</td><td style = \"text-align: right;\">0</td><td style = \"text-align: right;\">0</td><td style = \"text-align: right;\">0</td><td style = \"text-align: right;\">0</td><td style = \"text-align: right;\">0</td><td style = \"text-align: right;\">0</td><td style = \"text-align: right;\">0</td><td style = \"text-align: right;\">0</td><td style = \"text-align: right;\">0</td><td style = \"text-align: right;\">0</td><td style = \"text-align: right;\">0</td><td style = \"text-align: right;\">0</td><td style = \"text-align: right;\">0</td><td style = \"text-align: right;\">0</td><td style = \"text-align: right;\">0</td><td style = \"text-align: right;\">0</td><td style = \"text-align: right;\">0</td><td style = \"text-align: right;\">0</td><td style = \"text-align: right;\">0</td><td style = \"text-align: right;\">0</td><td style = \"text-align: right;\">0</td><td style = \"text-align: right;\">0</td><td style = \"text-align: right;\">0</td><td style = \"text-align: right;\">0</td><td style = \"text-align: right;\">0</td><td style = \"text-align: right;\">0</td><td style = \"text-align: right;\">0</td><td style = \"text-align: right;\">0</td><td style = \"text-align: right;\">0</td><td style = \"text-align: right;\">0</td><td style = \"text-align: right;\">0</td><td style = \"text-align: right;\">0</td><td style = \"text-align: right;\">0</td><td style = \"text-align: right;\">0</td><td style = \"text-align: right;\">0</td><td style = \"text-align: right;\">0</td><td style = \"text-align: right;\">0</td><td style = \"text-align: right;\">0</td><td style = \"text-align: right;\">0</td><td style = \"text-align: right;\">0</td><td style = \"text-align: right;\">0</td><td style = \"text-align: right;\">0</td><td style = \"text-align: right;\">0</td><td style = \"text-align: right;\">0</td><td style = \"text-align: right;\">0</td><td style = \"text-align: right;\">0</td><td style = \"text-align: right;\">0</td><td style = \"text-align: right;\">&ctdot;</td></tr><tr><td class = \"rowNumber\" style = \"font-weight: bold; text-align: right;\">3</td><td style = \"text-align: left;\">OR4F5</td><td style = \"text-align: right;\">0</td><td style = \"text-align: right;\">0</td><td style = \"text-align: right;\">0</td><td style = \"text-align: right;\">0</td><td style = \"text-align: right;\">0</td><td style = \"text-align: right;\">0</td><td style = \"text-align: right;\">0</td><td style = \"text-align: right;\">0</td><td style = \"text-align: right;\">0</td><td style = \"text-align: right;\">0</td><td style = \"text-align: right;\">0</td><td style = \"text-align: right;\">0</td><td style = \"text-align: right;\">0</td><td style = \"text-align: right;\">0</td><td style = \"text-align: right;\">0</td><td style = \"text-align: right;\">0</td><td style = \"text-align: right;\">0</td><td style = \"text-align: right;\">0</td><td style = \"text-align: right;\">0</td><td style = \"text-align: right;\">0</td><td style = \"text-align: right;\">0</td><td style = \"text-align: right;\">0</td><td style = \"text-align: right;\">0</td><td style = \"text-align: right;\">0</td><td style = \"text-align: right;\">0</td><td style = \"text-align: right;\">0</td><td style = \"text-align: right;\">0</td><td style = \"text-align: right;\">0</td><td style = \"text-align: right;\">0</td><td style = \"text-align: right;\">0</td><td style = \"text-align: right;\">0</td><td style = \"text-align: right;\">0</td><td style = \"text-align: right;\">0</td><td style = \"text-align: right;\">0</td><td style = \"text-align: right;\">0</td><td style = \"text-align: right;\">0</td><td style = \"text-align: right;\">0</td><td style = \"text-align: right;\">0</td><td style = \"text-align: right;\">0</td><td style = \"text-align: right;\">0</td><td style = \"text-align: right;\">0</td><td style = \"text-align: right;\">0</td><td style = \"text-align: right;\">0</td><td style = \"text-align: right;\">0</td><td style = \"text-align: right;\">0</td><td style = \"text-align: right;\">0</td><td style = \"text-align: right;\">0</td><td style = \"text-align: right;\">0</td><td style = \"text-align: right;\">0</td><td style = \"text-align: right;\">0</td><td style = \"text-align: right;\">0</td><td style = \"text-align: right;\">0</td><td style = \"text-align: right;\">0</td><td style = \"text-align: right;\">0</td><td style = \"text-align: right;\">0</td><td style = \"text-align: right;\">0</td><td style = \"text-align: right;\">0</td><td style = \"text-align: right;\">0</td><td style = \"text-align: right;\">0</td><td style = \"text-align: right;\">0</td><td style = \"text-align: right;\">0</td><td style = \"text-align: right;\">0</td><td style = \"text-align: right;\">0</td><td style = \"text-align: right;\">0</td><td style = \"text-align: right;\">0</td><td style = \"text-align: right;\">0</td><td style = \"text-align: right;\">0</td><td style = \"text-align: right;\">0</td><td style = \"text-align: right;\">0</td><td style = \"text-align: right;\">0</td><td style = \"text-align: right;\">0</td><td style = \"text-align: right;\">0</td><td style = \"text-align: right;\">0</td><td style = \"text-align: right;\">0</td><td style = \"text-align: right;\">0</td><td style = \"text-align: right;\">0</td><td style = \"text-align: right;\">0</td><td style = \"text-align: right;\">0</td><td style = \"text-align: right;\">0</td><td style = \"text-align: right;\">0</td><td style = \"text-align: right;\">0</td><td style = \"text-align: right;\">0</td><td style = \"text-align: right;\">0</td><td style = \"text-align: right;\">0</td><td style = \"text-align: right;\">0</td><td style = \"text-align: right;\">0</td><td style = \"text-align: right;\">0</td><td style = \"text-align: right;\">0</td><td style = \"text-align: right;\">0</td><td style = \"text-align: right;\">0</td><td style = \"text-align: right;\">0</td><td style = \"text-align: right;\">0</td><td style = \"text-align: right;\">0</td><td style = \"text-align: right;\">0</td><td style = \"text-align: right;\">0</td><td style = \"text-align: right;\">0</td><td style = \"text-align: right;\">0</td><td style = \"text-align: right;\">0</td><td style = \"text-align: right;\">0</td><td style = \"text-align: right;\">&ctdot;</td></tr><tr><td class = \"rowNumber\" style = \"font-weight: bold; text-align: right;\">4</td><td style = \"text-align: left;\">AL627309.1</td><td style = \"text-align: right;\">0</td><td style = \"text-align: right;\">0</td><td style = \"text-align: right;\">0</td><td style = \"text-align: right;\">0</td><td style = \"text-align: right;\">0</td><td style = \"text-align: right;\">0</td><td style = \"text-align: right;\">0</td><td style = \"text-align: right;\">0</td><td style = \"text-align: right;\">0</td><td style = \"text-align: right;\">0</td><td style = \"text-align: right;\">0</td><td style = \"text-align: right;\">0</td><td style = \"text-align: right;\">0</td><td style = \"text-align: right;\">0</td><td style = \"text-align: right;\">0</td><td style = \"text-align: right;\">0</td><td style = \"text-align: right;\">0</td><td style = \"text-align: right;\">0</td><td style = \"text-align: right;\">0</td><td style = \"text-align: right;\">0</td><td style = \"text-align: right;\">0</td><td style = \"text-align: right;\">0</td><td style = \"text-align: right;\">0</td><td style = \"text-align: right;\">0</td><td style = \"text-align: right;\">0</td><td style = \"text-align: right;\">0</td><td style = \"text-align: right;\">0</td><td style = \"text-align: right;\">0</td><td style = \"text-align: right;\">0</td><td style = \"text-align: right;\">0</td><td style = \"text-align: right;\">0</td><td style = \"text-align: right;\">0</td><td style = \"text-align: right;\">0</td><td style = \"text-align: right;\">0</td><td style = \"text-align: right;\">0</td><td style = \"text-align: right;\">0</td><td style = \"text-align: right;\">0</td><td style = \"text-align: right;\">0</td><td style = \"text-align: right;\">0</td><td style = \"text-align: right;\">0</td><td style = \"text-align: right;\">0</td><td style = \"text-align: right;\">0</td><td style = \"text-align: right;\">0</td><td style = \"text-align: right;\">0</td><td style = \"text-align: right;\">0</td><td style = \"text-align: right;\">0</td><td style = \"text-align: right;\">0</td><td style = \"text-align: right;\">0</td><td style = \"text-align: right;\">0</td><td style = \"text-align: right;\">0</td><td style = \"text-align: right;\">0</td><td style = \"text-align: right;\">0</td><td style = \"text-align: right;\">0</td><td style = \"text-align: right;\">0</td><td style = \"text-align: right;\">0</td><td style = \"text-align: right;\">0</td><td style = \"text-align: right;\">0</td><td style = \"text-align: right;\">0</td><td style = \"text-align: right;\">0</td><td style = \"text-align: right;\">0</td><td style = \"text-align: right;\">0</td><td style = \"text-align: right;\">0</td><td style = \"text-align: right;\">0</td><td style = \"text-align: right;\">0</td><td style = \"text-align: right;\">0</td><td style = \"text-align: right;\">0</td><td style = \"text-align: right;\">0</td><td style = \"text-align: right;\">0</td><td style = \"text-align: right;\">0</td><td style = \"text-align: right;\">0</td><td style = \"text-align: right;\">0</td><td style = \"text-align: right;\">0</td><td style = \"text-align: right;\">0</td><td style = \"text-align: right;\">0</td><td style = \"text-align: right;\">0</td><td style = \"text-align: right;\">0</td><td style = \"text-align: right;\">0</td><td style = \"text-align: right;\">0</td><td style = \"text-align: right;\">0</td><td style = \"text-align: right;\">0</td><td style = \"text-align: right;\">0</td><td style = \"text-align: right;\">0</td><td style = \"text-align: right;\">0</td><td style = \"text-align: right;\">0</td><td style = \"text-align: right;\">0</td><td style = \"text-align: right;\">0</td><td style = \"text-align: right;\">0</td><td style = \"text-align: right;\">0</td><td style = \"text-align: right;\">0</td><td style = \"text-align: right;\">0</td><td style = \"text-align: right;\">0</td><td style = \"text-align: right;\">0</td><td style = \"text-align: right;\">0</td><td style = \"text-align: right;\">0</td><td style = \"text-align: right;\">0</td><td style = \"text-align: right;\">0</td><td style = \"text-align: right;\">0</td><td style = \"text-align: right;\">0</td><td style = \"text-align: right;\">0</td><td style = \"text-align: right;\">&ctdot;</td></tr><tr><td class = \"rowNumber\" style = \"font-weight: bold; text-align: right;\">5</td><td style = \"text-align: left;\">AL627309.3</td><td style = \"text-align: right;\">0</td><td style = \"text-align: right;\">0</td><td style = \"text-align: right;\">0</td><td style = \"text-align: right;\">0</td><td style = \"text-align: right;\">0</td><td style = \"text-align: right;\">0</td><td style = \"text-align: right;\">0</td><td style = \"text-align: right;\">0</td><td style = \"text-align: right;\">0</td><td style = \"text-align: right;\">0</td><td style = \"text-align: right;\">0</td><td style = \"text-align: right;\">0</td><td style = \"text-align: right;\">0</td><td style = \"text-align: right;\">0</td><td style = \"text-align: right;\">0</td><td style = \"text-align: right;\">0</td><td style = \"text-align: right;\">0</td><td style = \"text-align: right;\">0</td><td style = \"text-align: right;\">0</td><td style = \"text-align: right;\">0</td><td style = \"text-align: right;\">0</td><td style = \"text-align: right;\">0</td><td style = \"text-align: right;\">0</td><td style = \"text-align: right;\">0</td><td style = \"text-align: right;\">0</td><td style = \"text-align: right;\">0</td><td style = \"text-align: right;\">0</td><td style = \"text-align: right;\">0</td><td style = \"text-align: right;\">0</td><td style = \"text-align: right;\">0</td><td style = \"text-align: right;\">0</td><td style = \"text-align: right;\">0</td><td style = \"text-align: right;\">0</td><td style = \"text-align: right;\">0</td><td style = \"text-align: right;\">0</td><td style = \"text-align: right;\">0</td><td style = \"text-align: right;\">0</td><td style = \"text-align: right;\">0</td><td style = \"text-align: right;\">0</td><td style = \"text-align: right;\">0</td><td style = \"text-align: right;\">0</td><td style = \"text-align: right;\">0</td><td style = \"text-align: right;\">0</td><td style = \"text-align: right;\">0</td><td style = \"text-align: right;\">0</td><td style = \"text-align: right;\">0</td><td style = \"text-align: right;\">0</td><td style = \"text-align: right;\">0</td><td style = \"text-align: right;\">0</td><td style = \"text-align: right;\">0</td><td style = \"text-align: right;\">0</td><td style = \"text-align: right;\">0</td><td style = \"text-align: right;\">0</td><td style = \"text-align: right;\">0</td><td style = \"text-align: right;\">0</td><td style = \"text-align: right;\">0</td><td style = \"text-align: right;\">0</td><td style = \"text-align: right;\">0</td><td style = \"text-align: right;\">0</td><td style = \"text-align: right;\">0</td><td style = \"text-align: right;\">0</td><td style = \"text-align: right;\">0</td><td style = \"text-align: right;\">0</td><td style = \"text-align: right;\">0</td><td style = \"text-align: right;\">0</td><td style = \"text-align: right;\">0</td><td style = \"text-align: right;\">0</td><td style = \"text-align: right;\">0</td><td style = \"text-align: right;\">0</td><td style = \"text-align: right;\">0</td><td style = \"text-align: right;\">0</td><td style = \"text-align: right;\">0</td><td style = \"text-align: right;\">0</td><td style = \"text-align: right;\">0</td><td style = \"text-align: right;\">0</td><td style = \"text-align: right;\">0</td><td style = \"text-align: right;\">0</td><td style = \"text-align: right;\">0</td><td style = \"text-align: right;\">0</td><td style = \"text-align: right;\">0</td><td style = \"text-align: right;\">0</td><td style = \"text-align: right;\">0</td><td style = \"text-align: right;\">0</td><td style = \"text-align: right;\">0</td><td style = \"text-align: right;\">0</td><td style = \"text-align: right;\">0</td><td style = \"text-align: right;\">0</td><td style = \"text-align: right;\">0</td><td style = \"text-align: right;\">0</td><td style = \"text-align: right;\">0</td><td style = \"text-align: right;\">0</td><td style = \"text-align: right;\">0</td><td style = \"text-align: right;\">0</td><td style = \"text-align: right;\">0</td><td style = \"text-align: right;\">0</td><td style = \"text-align: right;\">0</td><td style = \"text-align: right;\">0</td><td style = \"text-align: right;\">0</td><td style = \"text-align: right;\">0</td><td style = \"text-align: right;\">&ctdot;</td></tr><tr><td class = \"rowNumber\" style = \"font-weight: bold; text-align: right;\">6</td><td style = \"text-align: left;\">AL627309.2</td><td style = \"text-align: right;\">0</td><td style = \"text-align: right;\">0</td><td style = \"text-align: right;\">0</td><td style = \"text-align: right;\">0</td><td style = \"text-align: right;\">0</td><td style = \"text-align: right;\">0</td><td style = \"text-align: right;\">0</td><td style = \"text-align: right;\">0</td><td style = \"text-align: right;\">0</td><td style = \"text-align: right;\">0</td><td style = \"text-align: right;\">0</td><td style = \"text-align: right;\">0</td><td style = \"text-align: right;\">0</td><td style = \"text-align: right;\">0</td><td style = \"text-align: right;\">0</td><td style = \"text-align: right;\">0</td><td style = \"text-align: right;\">0</td><td style = \"text-align: right;\">0</td><td style = \"text-align: right;\">0</td><td style = \"text-align: right;\">0</td><td style = \"text-align: right;\">0</td><td style = \"text-align: right;\">0</td><td style = \"text-align: right;\">0</td><td style = \"text-align: right;\">0</td><td style = \"text-align: right;\">0</td><td style = \"text-align: right;\">0</td><td style = \"text-align: right;\">0</td><td style = \"text-align: right;\">0</td><td style = \"text-align: right;\">0</td><td style = \"text-align: right;\">0</td><td style = \"text-align: right;\">0</td><td style = \"text-align: right;\">0</td><td style = \"text-align: right;\">0</td><td style = \"text-align: right;\">0</td><td style = \"text-align: right;\">0</td><td style = \"text-align: right;\">0</td><td style = \"text-align: right;\">0</td><td style = \"text-align: right;\">0</td><td style = \"text-align: right;\">0</td><td style = \"text-align: right;\">0</td><td style = \"text-align: right;\">0</td><td style = \"text-align: right;\">0</td><td style = \"text-align: right;\">0</td><td style = \"text-align: right;\">0</td><td style = \"text-align: right;\">0</td><td style = \"text-align: right;\">0</td><td style = \"text-align: right;\">0</td><td style = \"text-align: right;\">0</td><td style = \"text-align: right;\">0</td><td style = \"text-align: right;\">0</td><td style = \"text-align: right;\">0</td><td style = \"text-align: right;\">0</td><td style = \"text-align: right;\">0</td><td style = \"text-align: right;\">0</td><td style = \"text-align: right;\">0</td><td style = \"text-align: right;\">0</td><td style = \"text-align: right;\">0</td><td style = \"text-align: right;\">0</td><td style = \"text-align: right;\">0</td><td style = \"text-align: right;\">0</td><td style = \"text-align: right;\">0</td><td style = \"text-align: right;\">0</td><td style = \"text-align: right;\">0</td><td style = \"text-align: right;\">0</td><td style = \"text-align: right;\">0</td><td style = \"text-align: right;\">0</td><td style = \"text-align: right;\">0</td><td style = \"text-align: right;\">0</td><td style = \"text-align: right;\">0</td><td style = \"text-align: right;\">0</td><td style = \"text-align: right;\">0</td><td style = \"text-align: right;\">0</td><td style = \"text-align: right;\">0</td><td style = \"text-align: right;\">0</td><td style = \"text-align: right;\">0</td><td style = \"text-align: right;\">0</td><td style = \"text-align: right;\">0</td><td style = \"text-align: right;\">0</td><td style = \"text-align: right;\">0</td><td style = \"text-align: right;\">0</td><td style = \"text-align: right;\">0</td><td style = \"text-align: right;\">0</td><td style = \"text-align: right;\">0</td><td style = \"text-align: right;\">0</td><td style = \"text-align: right;\">0</td><td style = \"text-align: right;\">0</td><td style = \"text-align: right;\">0</td><td style = \"text-align: right;\">0</td><td style = \"text-align: right;\">0</td><td style = \"text-align: right;\">0</td><td style = \"text-align: right;\">0</td><td style = \"text-align: right;\">0</td><td style = \"text-align: right;\">0</td><td style = \"text-align: right;\">0</td><td style = \"text-align: right;\">0</td><td style = \"text-align: right;\">0</td><td style = \"text-align: right;\">0</td><td style = \"text-align: right;\">0</td><td style = \"text-align: right;\">0</td><td style = \"text-align: right;\">&ctdot;</td></tr><tr><td class = \"rowNumber\" style = \"font-weight: bold; text-align: right;\">7</td><td style = \"text-align: left;\">AL627309.4</td><td style = \"text-align: right;\">0</td><td style = \"text-align: right;\">0</td><td style = \"text-align: right;\">0</td><td style = \"text-align: right;\">0</td><td style = \"text-align: right;\">0</td><td style = \"text-align: right;\">0</td><td style = \"text-align: right;\">0</td><td style = \"text-align: right;\">0</td><td style = \"text-align: right;\">0</td><td style = \"text-align: right;\">0</td><td style = \"text-align: right;\">0</td><td style = \"text-align: right;\">0</td><td style = \"text-align: right;\">0</td><td style = \"text-align: right;\">0</td><td style = \"text-align: right;\">0</td><td style = \"text-align: right;\">0</td><td style = \"text-align: right;\">0</td><td style = \"text-align: right;\">0</td><td style = \"text-align: right;\">0</td><td style = \"text-align: right;\">0</td><td style = \"text-align: right;\">0</td><td style = \"text-align: right;\">0</td><td style = \"text-align: right;\">0</td><td style = \"text-align: right;\">0</td><td style = \"text-align: right;\">0</td><td style = \"text-align: right;\">0</td><td style = \"text-align: right;\">0</td><td style = \"text-align: right;\">0</td><td style = \"text-align: right;\">0</td><td style = \"text-align: right;\">0</td><td style = \"text-align: right;\">0</td><td style = \"text-align: right;\">0</td><td style = \"text-align: right;\">0</td><td style = \"text-align: right;\">0</td><td style = \"text-align: right;\">0</td><td style = \"text-align: right;\">0</td><td style = \"text-align: right;\">0</td><td style = \"text-align: right;\">0</td><td style = \"text-align: right;\">0</td><td style = \"text-align: right;\">0</td><td style = \"text-align: right;\">0</td><td style = \"text-align: right;\">0</td><td style = \"text-align: right;\">0</td><td style = \"text-align: right;\">0</td><td style = \"text-align: right;\">0</td><td style = \"text-align: right;\">0</td><td style = \"text-align: right;\">0</td><td style = \"text-align: right;\">0</td><td style = \"text-align: right;\">0</td><td style = \"text-align: right;\">0</td><td style = \"text-align: right;\">0</td><td style = \"text-align: right;\">0</td><td style = \"text-align: right;\">0</td><td style = \"text-align: right;\">0</td><td style = \"text-align: right;\">0</td><td style = \"text-align: right;\">0</td><td style = \"text-align: right;\">0</td><td style = \"text-align: right;\">0</td><td style = \"text-align: right;\">0</td><td style = \"text-align: right;\">0</td><td style = \"text-align: right;\">0</td><td style = \"text-align: right;\">0</td><td style = \"text-align: right;\">0</td><td style = \"text-align: right;\">0</td><td style = \"text-align: right;\">0</td><td style = \"text-align: right;\">0</td><td style = \"text-align: right;\">0</td><td style = \"text-align: right;\">0</td><td style = \"text-align: right;\">0</td><td style = \"text-align: right;\">0</td><td style = \"text-align: right;\">0</td><td style = \"text-align: right;\">0</td><td style = \"text-align: right;\">0</td><td style = \"text-align: right;\">0</td><td style = \"text-align: right;\">0</td><td style = \"text-align: right;\">0</td><td style = \"text-align: right;\">0</td><td style = \"text-align: right;\">0</td><td style = \"text-align: right;\">0</td><td style = \"text-align: right;\">0</td><td style = \"text-align: right;\">0</td><td style = \"text-align: right;\">0</td><td style = \"text-align: right;\">0</td><td style = \"text-align: right;\">0</td><td style = \"text-align: right;\">0</td><td style = \"text-align: right;\">0</td><td style = \"text-align: right;\">0</td><td style = \"text-align: right;\">0</td><td style = \"text-align: right;\">0</td><td style = \"text-align: right;\">0</td><td style = \"text-align: right;\">0</td><td style = \"text-align: right;\">0</td><td style = \"text-align: right;\">0</td><td style = \"text-align: right;\">0</td><td style = \"text-align: right;\">0</td><td style = \"text-align: right;\">0</td><td style = \"text-align: right;\">0</td><td style = \"text-align: right;\">0</td><td style = \"text-align: right;\">0</td><td style = \"text-align: right;\">&ctdot;</td></tr><tr><td class = \"rowNumber\" style = \"font-weight: bold; text-align: right;\">8</td><td style = \"text-align: left;\">AL732372.1</td><td style = \"text-align: right;\">0</td><td style = \"text-align: right;\">0</td><td style = \"text-align: right;\">0</td><td style = \"text-align: right;\">0</td><td style = \"text-align: right;\">0</td><td style = \"text-align: right;\">0</td><td style = \"text-align: right;\">0</td><td style = \"text-align: right;\">0</td><td style = \"text-align: right;\">0</td><td style = \"text-align: right;\">0</td><td style = \"text-align: right;\">0</td><td style = \"text-align: right;\">0</td><td style = \"text-align: right;\">0</td><td style = \"text-align: right;\">0</td><td style = \"text-align: right;\">0</td><td style = \"text-align: right;\">0</td><td style = \"text-align: right;\">0</td><td style = \"text-align: right;\">0</td><td style = \"text-align: right;\">0</td><td style = \"text-align: right;\">0</td><td style = \"text-align: right;\">0</td><td style = \"text-align: right;\">0</td><td style = \"text-align: right;\">0</td><td style = \"text-align: right;\">0</td><td style = \"text-align: right;\">0</td><td style = \"text-align: right;\">0</td><td style = \"text-align: right;\">0</td><td style = \"text-align: right;\">0</td><td style = \"text-align: right;\">0</td><td style = \"text-align: right;\">0</td><td style = \"text-align: right;\">0</td><td style = \"text-align: right;\">0</td><td style = \"text-align: right;\">0</td><td style = \"text-align: right;\">0</td><td style = \"text-align: right;\">0</td><td style = \"text-align: right;\">0</td><td style = \"text-align: right;\">0</td><td style = \"text-align: right;\">0</td><td style = \"text-align: right;\">0</td><td style = \"text-align: right;\">0</td><td style = \"text-align: right;\">0</td><td style = \"text-align: right;\">0</td><td style = \"text-align: right;\">0</td><td style = \"text-align: right;\">0</td><td style = \"text-align: right;\">0</td><td style = \"text-align: right;\">0</td><td style = \"text-align: right;\">0</td><td style = \"text-align: right;\">0</td><td style = \"text-align: right;\">0</td><td style = \"text-align: right;\">0</td><td style = \"text-align: right;\">0</td><td style = \"text-align: right;\">0</td><td style = \"text-align: right;\">0</td><td style = \"text-align: right;\">0</td><td style = \"text-align: right;\">0</td><td style = \"text-align: right;\">0</td><td style = \"text-align: right;\">0</td><td style = \"text-align: right;\">0</td><td style = \"text-align: right;\">0</td><td style = \"text-align: right;\">0</td><td style = \"text-align: right;\">0</td><td style = \"text-align: right;\">0</td><td style = \"text-align: right;\">0</td><td style = \"text-align: right;\">0</td><td style = \"text-align: right;\">0</td><td style = \"text-align: right;\">0</td><td style = \"text-align: right;\">0</td><td style = \"text-align: right;\">0</td><td style = \"text-align: right;\">0</td><td style = \"text-align: right;\">0</td><td style = \"text-align: right;\">0</td><td style = \"text-align: right;\">0</td><td style = \"text-align: right;\">0</td><td style = \"text-align: right;\">0</td><td style = \"text-align: right;\">0</td><td style = \"text-align: right;\">0</td><td style = \"text-align: right;\">0</td><td style = \"text-align: right;\">0</td><td style = \"text-align: right;\">0</td><td style = \"text-align: right;\">0</td><td style = \"text-align: right;\">0</td><td style = \"text-align: right;\">0</td><td style = \"text-align: right;\">0</td><td style = \"text-align: right;\">0</td><td style = \"text-align: right;\">0</td><td style = \"text-align: right;\">0</td><td style = \"text-align: right;\">0</td><td style = \"text-align: right;\">0</td><td style = \"text-align: right;\">0</td><td style = \"text-align: right;\">0</td><td style = \"text-align: right;\">0</td><td style = \"text-align: right;\">0</td><td style = \"text-align: right;\">0</td><td style = \"text-align: right;\">0</td><td style = \"text-align: right;\">0</td><td style = \"text-align: right;\">0</td><td style = \"text-align: right;\">0</td><td style = \"text-align: right;\">0</td><td style = \"text-align: right;\">0</td><td style = \"text-align: right;\">&ctdot;</td></tr><tr><td class = \"rowNumber\" style = \"font-weight: bold; text-align: right;\">9</td><td style = \"text-align: left;\">OR4F29</td><td style = \"text-align: right;\">0</td><td style = \"text-align: right;\">0</td><td style = \"text-align: right;\">0</td><td style = \"text-align: right;\">0</td><td style = \"text-align: right;\">0</td><td style = \"text-align: right;\">0</td><td style = \"text-align: right;\">0</td><td style = \"text-align: right;\">0</td><td style = \"text-align: right;\">0</td><td style = \"text-align: right;\">0</td><td style = \"text-align: right;\">0</td><td style = \"text-align: right;\">0</td><td style = \"text-align: right;\">0</td><td style = \"text-align: right;\">0</td><td style = \"text-align: right;\">0</td><td style = \"text-align: right;\">0</td><td style = \"text-align: right;\">0</td><td style = \"text-align: right;\">0</td><td style = \"text-align: right;\">0</td><td style = \"text-align: right;\">0</td><td style = \"text-align: right;\">0</td><td style = \"text-align: right;\">0</td><td style = \"text-align: right;\">0</td><td style = \"text-align: right;\">0</td><td style = \"text-align: right;\">0</td><td style = \"text-align: right;\">0</td><td style = \"text-align: right;\">0</td><td style = \"text-align: right;\">0</td><td style = \"text-align: right;\">0</td><td style = \"text-align: right;\">0</td><td style = \"text-align: right;\">0</td><td style = \"text-align: right;\">0</td><td style = \"text-align: right;\">0</td><td style = \"text-align: right;\">0</td><td style = \"text-align: right;\">0</td><td style = \"text-align: right;\">0</td><td style = \"text-align: right;\">0</td><td style = \"text-align: right;\">0</td><td style = \"text-align: right;\">0</td><td style = \"text-align: right;\">0</td><td style = \"text-align: right;\">0</td><td style = \"text-align: right;\">0</td><td style = \"text-align: right;\">0</td><td style = \"text-align: right;\">0</td><td style = \"text-align: right;\">0</td><td style = \"text-align: right;\">0</td><td style = \"text-align: right;\">0</td><td style = \"text-align: right;\">0</td><td style = \"text-align: right;\">0</td><td style = \"text-align: right;\">0</td><td style = \"text-align: right;\">0</td><td style = \"text-align: right;\">0</td><td style = \"text-align: right;\">0</td><td style = \"text-align: right;\">0</td><td style = \"text-align: right;\">0</td><td style = \"text-align: right;\">0</td><td style = \"text-align: right;\">0</td><td style = \"text-align: right;\">0</td><td style = \"text-align: right;\">0</td><td style = \"text-align: right;\">0</td><td style = \"text-align: right;\">0</td><td style = \"text-align: right;\">0</td><td style = \"text-align: right;\">0</td><td style = \"text-align: right;\">0</td><td style = \"text-align: right;\">0</td><td style = \"text-align: right;\">0</td><td style = \"text-align: right;\">0</td><td style = \"text-align: right;\">0</td><td style = \"text-align: right;\">0</td><td style = \"text-align: right;\">0</td><td style = \"text-align: right;\">0</td><td style = \"text-align: right;\">0</td><td style = \"text-align: right;\">0</td><td style = \"text-align: right;\">0</td><td style = \"text-align: right;\">0</td><td style = \"text-align: right;\">0</td><td style = \"text-align: right;\">0</td><td style = \"text-align: right;\">0</td><td style = \"text-align: right;\">0</td><td style = \"text-align: right;\">0</td><td style = \"text-align: right;\">0</td><td style = \"text-align: right;\">0</td><td style = \"text-align: right;\">0</td><td style = \"text-align: right;\">0</td><td style = \"text-align: right;\">0</td><td style = \"text-align: right;\">0</td><td style = \"text-align: right;\">0</td><td style = \"text-align: right;\">0</td><td style = \"text-align: right;\">0</td><td style = \"text-align: right;\">0</td><td style = \"text-align: right;\">0</td><td style = \"text-align: right;\">0</td><td style = \"text-align: right;\">0</td><td style = \"text-align: right;\">0</td><td style = \"text-align: right;\">0</td><td style = \"text-align: right;\">0</td><td style = \"text-align: right;\">0</td><td style = \"text-align: right;\">0</td><td style = \"text-align: right;\">0</td><td style = \"text-align: right;\">&ctdot;</td></tr><tr><td class = \"rowNumber\" style = \"font-weight: bold; text-align: right;\">10</td><td style = \"text-align: left;\">AC114498.1</td><td style = \"text-align: right;\">0</td><td style = \"text-align: right;\">0</td><td style = \"text-align: right;\">0</td><td style = \"text-align: right;\">0</td><td style = \"text-align: right;\">0</td><td style = \"text-align: right;\">0</td><td style = \"text-align: right;\">0</td><td style = \"text-align: right;\">0</td><td style = \"text-align: right;\">0</td><td style = \"text-align: right;\">0</td><td style = \"text-align: right;\">0</td><td style = \"text-align: right;\">0</td><td style = \"text-align: right;\">0</td><td style = \"text-align: right;\">0</td><td style = \"text-align: right;\">0</td><td style = \"text-align: right;\">0</td><td style = \"text-align: right;\">0</td><td style = \"text-align: right;\">0</td><td style = \"text-align: right;\">0</td><td style = \"text-align: right;\">0</td><td style = \"text-align: right;\">0</td><td style = \"text-align: right;\">0</td><td style = \"text-align: right;\">0</td><td style = \"text-align: right;\">0</td><td style = \"text-align: right;\">0</td><td style = \"text-align: right;\">0</td><td style = \"text-align: right;\">0</td><td style = \"text-align: right;\">0</td><td style = \"text-align: right;\">0</td><td style = \"text-align: right;\">0</td><td style = \"text-align: right;\">0</td><td style = \"text-align: right;\">0</td><td style = \"text-align: right;\">0</td><td style = \"text-align: right;\">0</td><td style = \"text-align: right;\">0</td><td style = \"text-align: right;\">0</td><td style = \"text-align: right;\">0</td><td style = \"text-align: right;\">0</td><td style = \"text-align: right;\">0</td><td style = \"text-align: right;\">0</td><td style = \"text-align: right;\">0</td><td style = \"text-align: right;\">0</td><td style = \"text-align: right;\">0</td><td style = \"text-align: right;\">0</td><td style = \"text-align: right;\">0</td><td style = \"text-align: right;\">0</td><td style = \"text-align: right;\">0</td><td style = \"text-align: right;\">0</td><td style = \"text-align: right;\">0</td><td style = \"text-align: right;\">0</td><td style = \"text-align: right;\">0</td><td style = \"text-align: right;\">0</td><td style = \"text-align: right;\">0</td><td style = \"text-align: right;\">0</td><td style = \"text-align: right;\">0</td><td style = \"text-align: right;\">0</td><td style = \"text-align: right;\">0</td><td style = \"text-align: right;\">0</td><td style = \"text-align: right;\">0</td><td style = \"text-align: right;\">0</td><td style = \"text-align: right;\">0</td><td style = \"text-align: right;\">0</td><td style = \"text-align: right;\">0</td><td style = \"text-align: right;\">0</td><td style = \"text-align: right;\">0</td><td style = \"text-align: right;\">0</td><td style = \"text-align: right;\">0</td><td style = \"text-align: right;\">0</td><td style = \"text-align: right;\">0</td><td style = \"text-align: right;\">0</td><td style = \"text-align: right;\">0</td><td style = \"text-align: right;\">0</td><td style = \"text-align: right;\">0</td><td style = \"text-align: right;\">0</td><td style = \"text-align: right;\">0</td><td style = \"text-align: right;\">0</td><td style = \"text-align: right;\">0</td><td style = \"text-align: right;\">0</td><td style = \"text-align: right;\">0</td><td style = \"text-align: right;\">0</td><td style = \"text-align: right;\">0</td><td style = \"text-align: right;\">0</td><td style = \"text-align: right;\">0</td><td style = \"text-align: right;\">0</td><td style = \"text-align: right;\">0</td><td style = \"text-align: right;\">0</td><td style = \"text-align: right;\">0</td><td style = \"text-align: right;\">0</td><td style = \"text-align: right;\">0</td><td style = \"text-align: right;\">0</td><td style = \"text-align: right;\">0</td><td style = \"text-align: right;\">0</td><td style = \"text-align: right;\">0</td><td style = \"text-align: right;\">0</td><td style = \"text-align: right;\">0</td><td style = \"text-align: right;\">0</td><td style = \"text-align: right;\">0</td><td style = \"text-align: right;\">0</td><td style = \"text-align: right;\">0</td><td style = \"text-align: right;\">&ctdot;</td></tr><tr><td class = \"rowNumber\" style = \"font-weight: bold; text-align: right;\">11</td><td style = \"text-align: left;\">OR4F16</td><td style = \"text-align: right;\">0</td><td style = \"text-align: right;\">0</td><td style = \"text-align: right;\">0</td><td style = \"text-align: right;\">0</td><td style = \"text-align: right;\">0</td><td style = \"text-align: right;\">0</td><td style = \"text-align: right;\">0</td><td style = \"text-align: right;\">0</td><td style = \"text-align: right;\">0</td><td style = \"text-align: right;\">0</td><td style = \"text-align: right;\">0</td><td style = \"text-align: right;\">0</td><td style = \"text-align: right;\">0</td><td style = \"text-align: right;\">0</td><td style = \"text-align: right;\">0</td><td style = \"text-align: right;\">0</td><td style = \"text-align: right;\">0</td><td style = \"text-align: right;\">0</td><td style = \"text-align: right;\">0</td><td style = \"text-align: right;\">0</td><td style = \"text-align: right;\">0</td><td style = \"text-align: right;\">0</td><td style = \"text-align: right;\">0</td><td style = \"text-align: right;\">0</td><td style = \"text-align: right;\">0</td><td style = \"text-align: right;\">0</td><td style = \"text-align: right;\">0</td><td style = \"text-align: right;\">0</td><td style = \"text-align: right;\">0</td><td style = \"text-align: right;\">0</td><td style = \"text-align: right;\">0</td><td style = \"text-align: right;\">0</td><td style = \"text-align: right;\">0</td><td style = \"text-align: right;\">0</td><td style = \"text-align: right;\">0</td><td style = \"text-align: right;\">0</td><td style = \"text-align: right;\">0</td><td style = \"text-align: right;\">0</td><td style = \"text-align: right;\">0</td><td style = \"text-align: right;\">0</td><td style = \"text-align: right;\">0</td><td style = \"text-align: right;\">0</td><td style = \"text-align: right;\">0</td><td style = \"text-align: right;\">0</td><td style = \"text-align: right;\">0</td><td style = \"text-align: right;\">0</td><td style = \"text-align: right;\">0</td><td style = \"text-align: right;\">0</td><td style = \"text-align: right;\">0</td><td style = \"text-align: right;\">0</td><td style = \"text-align: right;\">0</td><td style = \"text-align: right;\">0</td><td style = \"text-align: right;\">0</td><td style = \"text-align: right;\">0</td><td style = \"text-align: right;\">0</td><td style = \"text-align: right;\">0</td><td style = \"text-align: right;\">0</td><td style = \"text-align: right;\">0</td><td style = \"text-align: right;\">0</td><td style = \"text-align: right;\">0</td><td style = \"text-align: right;\">0</td><td style = \"text-align: right;\">0</td><td style = \"text-align: right;\">0</td><td style = \"text-align: right;\">0</td><td style = \"text-align: right;\">0</td><td style = \"text-align: right;\">0</td><td style = \"text-align: right;\">0</td><td style = \"text-align: right;\">0</td><td style = \"text-align: right;\">0</td><td style = \"text-align: right;\">0</td><td style = \"text-align: right;\">0</td><td style = \"text-align: right;\">0</td><td style = \"text-align: right;\">0</td><td style = \"text-align: right;\">0</td><td style = \"text-align: right;\">0</td><td style = \"text-align: right;\">0</td><td style = \"text-align: right;\">0</td><td style = \"text-align: right;\">0</td><td style = \"text-align: right;\">0</td><td style = \"text-align: right;\">0</td><td style = \"text-align: right;\">0</td><td style = \"text-align: right;\">0</td><td style = \"text-align: right;\">0</td><td style = \"text-align: right;\">0</td><td style = \"text-align: right;\">0</td><td style = \"text-align: right;\">0</td><td style = \"text-align: right;\">0</td><td style = \"text-align: right;\">0</td><td style = \"text-align: right;\">0</td><td style = \"text-align: right;\">0</td><td style = \"text-align: right;\">0</td><td style = \"text-align: right;\">0</td><td style = \"text-align: right;\">0</td><td style = \"text-align: right;\">0</td><td style = \"text-align: right;\">0</td><td style = \"text-align: right;\">0</td><td style = \"text-align: right;\">0</td><td style = \"text-align: right;\">0</td><td style = \"text-align: right;\">0</td><td style = \"text-align: right;\">&ctdot;</td></tr><tr><td class = \"rowNumber\" style = \"font-weight: bold; text-align: right;\">12</td><td style = \"text-align: left;\">AL669831.2</td><td style = \"text-align: right;\">0</td><td style = \"text-align: right;\">0</td><td style = \"text-align: right;\">0</td><td style = \"text-align: right;\">0</td><td style = \"text-align: right;\">0</td><td style = \"text-align: right;\">0</td><td style = \"text-align: right;\">0</td><td style = \"text-align: right;\">0</td><td style = \"text-align: right;\">0</td><td style = \"text-align: right;\">0</td><td style = \"text-align: right;\">0</td><td style = \"text-align: right;\">0</td><td style = \"text-align: right;\">0</td><td style = \"text-align: right;\">0</td><td style = \"text-align: right;\">0</td><td style = \"text-align: right;\">0</td><td style = \"text-align: right;\">0</td><td style = \"text-align: right;\">0</td><td style = \"text-align: right;\">0</td><td style = \"text-align: right;\">0</td><td style = \"text-align: right;\">0</td><td style = \"text-align: right;\">0</td><td style = \"text-align: right;\">0</td><td style = \"text-align: right;\">0</td><td style = \"text-align: right;\">0</td><td style = \"text-align: right;\">0</td><td style = \"text-align: right;\">0</td><td style = \"text-align: right;\">0</td><td style = \"text-align: right;\">0</td><td style = \"text-align: right;\">0</td><td style = \"text-align: right;\">0</td><td style = \"text-align: right;\">0</td><td style = \"text-align: right;\">0</td><td style = \"text-align: right;\">0</td><td style = \"text-align: right;\">0</td><td style = \"text-align: right;\">0</td><td style = \"text-align: right;\">0</td><td style = \"text-align: right;\">0</td><td style = \"text-align: right;\">0</td><td style = \"text-align: right;\">0</td><td style = \"text-align: right;\">0</td><td style = \"text-align: right;\">0</td><td style = \"text-align: right;\">0</td><td style = \"text-align: right;\">0</td><td style = \"text-align: right;\">0</td><td style = \"text-align: right;\">0</td><td style = \"text-align: right;\">0</td><td style = \"text-align: right;\">0</td><td style = \"text-align: right;\">0</td><td style = \"text-align: right;\">0</td><td style = \"text-align: right;\">0</td><td style = \"text-align: right;\">0</td><td style = \"text-align: right;\">0</td><td style = \"text-align: right;\">0</td><td style = \"text-align: right;\">0</td><td style = \"text-align: right;\">0</td><td style = \"text-align: right;\">0</td><td style = \"text-align: right;\">0</td><td style = \"text-align: right;\">0</td><td style = \"text-align: right;\">0</td><td style = \"text-align: right;\">0</td><td style = \"text-align: right;\">0</td><td style = \"text-align: right;\">0</td><td style = \"text-align: right;\">0</td><td style = \"text-align: right;\">0</td><td style = \"text-align: right;\">0</td><td style = \"text-align: right;\">0</td><td style = \"text-align: right;\">0</td><td style = \"text-align: right;\">0</td><td style = \"text-align: right;\">0</td><td style = \"text-align: right;\">0</td><td style = \"text-align: right;\">0</td><td style = \"text-align: right;\">0</td><td style = \"text-align: right;\">0</td><td style = \"text-align: right;\">0</td><td style = \"text-align: right;\">0</td><td style = \"text-align: right;\">0</td><td style = \"text-align: right;\">0</td><td style = \"text-align: right;\">0</td><td style = \"text-align: right;\">0</td><td style = \"text-align: right;\">0</td><td style = \"text-align: right;\">0</td><td style = \"text-align: right;\">0</td><td style = \"text-align: right;\">0</td><td style = \"text-align: right;\">0</td><td style = \"text-align: right;\">0</td><td style = \"text-align: right;\">0</td><td style = \"text-align: right;\">0</td><td style = \"text-align: right;\">0</td><td style = \"text-align: right;\">0</td><td style = \"text-align: right;\">0</td><td style = \"text-align: right;\">0</td><td style = \"text-align: right;\">0</td><td style = \"text-align: right;\">0</td><td style = \"text-align: right;\">0</td><td style = \"text-align: right;\">0</td><td style = \"text-align: right;\">0</td><td style = \"text-align: right;\">0</td><td style = \"text-align: right;\">0</td><td style = \"text-align: right;\">&ctdot;</td></tr><tr><td class = \"rowNumber\" style = \"font-weight: bold; text-align: right;\">13</td><td style = \"text-align: left;\">AL669831.5</td><td style = \"text-align: right;\">0</td><td style = \"text-align: right;\">0</td><td style = \"text-align: right;\">0</td><td style = \"text-align: right;\">0</td><td style = \"text-align: right;\">0</td><td style = \"text-align: right;\">0</td><td style = \"text-align: right;\">0</td><td style = \"text-align: right;\">0</td><td style = \"text-align: right;\">0</td><td style = \"text-align: right;\">0</td><td style = \"text-align: right;\">0</td><td style = \"text-align: right;\">0</td><td style = \"text-align: right;\">0</td><td style = \"text-align: right;\">0</td><td style = \"text-align: right;\">0</td><td style = \"text-align: right;\">0</td><td style = \"text-align: right;\">0</td><td style = \"text-align: right;\">0</td><td style = \"text-align: right;\">0</td><td style = \"text-align: right;\">0</td><td style = \"text-align: right;\">0</td><td style = \"text-align: right;\">0</td><td style = \"text-align: right;\">0</td><td style = \"text-align: right;\">0</td><td style = \"text-align: right;\">0</td><td style = \"text-align: right;\">0</td><td style = \"text-align: right;\">0</td><td style = \"text-align: right;\">0</td><td style = \"text-align: right;\">0</td><td style = \"text-align: right;\">0</td><td style = \"text-align: right;\">0</td><td style = \"text-align: right;\">0</td><td style = \"text-align: right;\">0</td><td style = \"text-align: right;\">0</td><td style = \"text-align: right;\">0</td><td style = \"text-align: right;\">1</td><td style = \"text-align: right;\">0</td><td style = \"text-align: right;\">0</td><td style = \"text-align: right;\">0</td><td style = \"text-align: right;\">0</td><td style = \"text-align: right;\">0</td><td style = \"text-align: right;\">1</td><td style = \"text-align: right;\">0</td><td style = \"text-align: right;\">0</td><td style = \"text-align: right;\">0</td><td style = \"text-align: right;\">0</td><td style = \"text-align: right;\">0</td><td style = \"text-align: right;\">0</td><td style = \"text-align: right;\">0</td><td style = \"text-align: right;\">0</td><td style = \"text-align: right;\">0</td><td style = \"text-align: right;\">0</td><td style = \"text-align: right;\">0</td><td style = \"text-align: right;\">0</td><td style = \"text-align: right;\">0</td><td style = \"text-align: right;\">0</td><td style = \"text-align: right;\">0</td><td style = \"text-align: right;\">0</td><td style = \"text-align: right;\">0</td><td style = \"text-align: right;\">0</td><td style = \"text-align: right;\">0</td><td style = \"text-align: right;\">0</td><td style = \"text-align: right;\">0</td><td style = \"text-align: right;\">0</td><td style = \"text-align: right;\">0</td><td style = \"text-align: right;\">0</td><td style = \"text-align: right;\">0</td><td style = \"text-align: right;\">0</td><td style = \"text-align: right;\">0</td><td style = \"text-align: right;\">0</td><td style = \"text-align: right;\">0</td><td style = \"text-align: right;\">0</td><td style = \"text-align: right;\">0</td><td style = \"text-align: right;\">0</td><td style = \"text-align: right;\">0</td><td style = \"text-align: right;\">0</td><td style = \"text-align: right;\">0</td><td style = \"text-align: right;\">0</td><td style = \"text-align: right;\">0</td><td style = \"text-align: right;\">0</td><td style = \"text-align: right;\">0</td><td style = \"text-align: right;\">0</td><td style = \"text-align: right;\">0</td><td style = \"text-align: right;\">0</td><td style = \"text-align: right;\">0</td><td style = \"text-align: right;\">0</td><td style = \"text-align: right;\">0</td><td style = \"text-align: right;\">0</td><td style = \"text-align: right;\">0</td><td style = \"text-align: right;\">0</td><td style = \"text-align: right;\">0</td><td style = \"text-align: right;\">0</td><td style = \"text-align: right;\">0</td><td style = \"text-align: right;\">0</td><td style = \"text-align: right;\">0</td><td style = \"text-align: right;\">0</td><td style = \"text-align: right;\">0</td><td style = \"text-align: right;\">0</td><td style = \"text-align: right;\">0</td><td style = \"text-align: right;\">&ctdot;</td></tr><tr><td style = \"text-align: right;\">&vellip;</td><td style = \"text-align: right;\">&vellip;</td><td style = \"text-align: right;\">&vellip;</td><td style = \"text-align: right;\">&vellip;</td><td style = \"text-align: right;\">&vellip;</td><td style = \"text-align: right;\">&vellip;</td><td style = \"text-align: right;\">&vellip;</td><td style = \"text-align: right;\">&vellip;</td><td style = \"text-align: right;\">&vellip;</td><td style = \"text-align: right;\">&vellip;</td><td style = \"text-align: right;\">&vellip;</td><td style = \"text-align: right;\">&vellip;</td><td style = \"text-align: right;\">&vellip;</td><td style = \"text-align: right;\">&vellip;</td><td style = \"text-align: right;\">&vellip;</td><td style = \"text-align: right;\">&vellip;</td><td style = \"text-align: right;\">&vellip;</td><td style = \"text-align: right;\">&vellip;</td><td style = \"text-align: right;\">&vellip;</td><td style = \"text-align: right;\">&vellip;</td><td style = \"text-align: right;\">&vellip;</td><td style = \"text-align: right;\">&vellip;</td><td style = \"text-align: right;\">&vellip;</td><td style = \"text-align: right;\">&vellip;</td><td style = \"text-align: right;\">&vellip;</td><td style = \"text-align: right;\">&vellip;</td><td style = \"text-align: right;\">&vellip;</td><td style = \"text-align: right;\">&vellip;</td><td style = \"text-align: right;\">&vellip;</td><td style = \"text-align: right;\">&vellip;</td><td style = \"text-align: right;\">&vellip;</td><td style = \"text-align: right;\">&vellip;</td><td style = \"text-align: right;\">&vellip;</td><td style = \"text-align: right;\">&vellip;</td><td style = \"text-align: right;\">&vellip;</td><td style = \"text-align: right;\">&vellip;</td><td style = \"text-align: right;\">&vellip;</td><td style = \"text-align: right;\">&vellip;</td><td style = \"text-align: right;\">&vellip;</td><td style = \"text-align: right;\">&vellip;</td><td style = \"text-align: right;\">&vellip;</td><td style = \"text-align: right;\">&vellip;</td><td style = \"text-align: right;\">&vellip;</td><td style = \"text-align: right;\">&vellip;</td><td style = \"text-align: right;\">&vellip;</td><td style = \"text-align: right;\">&vellip;</td><td style = \"text-align: right;\">&vellip;</td><td style = \"text-align: right;\">&vellip;</td><td style = \"text-align: right;\">&vellip;</td><td style = \"text-align: right;\">&vellip;</td><td style = \"text-align: right;\">&vellip;</td><td style = \"text-align: right;\">&vellip;</td><td style = \"text-align: right;\">&vellip;</td><td style = \"text-align: right;\">&vellip;</td><td style = \"text-align: right;\">&vellip;</td><td style = \"text-align: right;\">&vellip;</td><td style = \"text-align: right;\">&vellip;</td><td style = \"text-align: right;\">&vellip;</td><td style = \"text-align: right;\">&vellip;</td><td style = \"text-align: right;\">&vellip;</td><td style = \"text-align: right;\">&vellip;</td><td style = \"text-align: right;\">&vellip;</td><td style = \"text-align: right;\">&vellip;</td><td style = \"text-align: right;\">&vellip;</td><td style = \"text-align: right;\">&vellip;</td><td style = \"text-align: right;\">&vellip;</td><td style = \"text-align: right;\">&vellip;</td><td style = \"text-align: right;\">&vellip;</td><td style = \"text-align: right;\">&vellip;</td><td style = \"text-align: right;\">&vellip;</td><td style = \"text-align: right;\">&vellip;</td><td style = \"text-align: right;\">&vellip;</td><td style = \"text-align: right;\">&vellip;</td><td style = \"text-align: right;\">&vellip;</td><td style = \"text-align: right;\">&vellip;</td><td style = \"text-align: right;\">&vellip;</td><td style = \"text-align: right;\">&vellip;</td><td style = \"text-align: right;\">&vellip;</td><td style = \"text-align: right;\">&vellip;</td><td style = \"text-align: right;\">&vellip;</td><td style = \"text-align: right;\">&vellip;</td><td style = \"text-align: right;\">&vellip;</td><td style = \"text-align: right;\">&vellip;</td><td style = \"text-align: right;\">&vellip;</td><td style = \"text-align: right;\">&vellip;</td><td style = \"text-align: right;\">&vellip;</td><td style = \"text-align: right;\">&vellip;</td><td style = \"text-align: right;\">&vellip;</td><td style = \"text-align: right;\">&vellip;</td><td style = \"text-align: right;\">&vellip;</td><td style = \"text-align: right;\">&vellip;</td><td style = \"text-align: right;\">&vellip;</td><td style = \"text-align: right;\">&vellip;</td><td style = \"text-align: right;\">&vellip;</td><td style = \"text-align: right;\">&vellip;</td><td style = \"text-align: right;\">&vellip;</td><td style = \"text-align: right;\">&vellip;</td><td style = \"text-align: right;\">&vellip;</td><td style = \"text-align: right;\">&vellip;</td><td style = \"text-align: right;\">&vellip;</td><td style = \"text-align: right;\">&vellip;</td><td style = \"text-align: right;\">&dtdot;</td></tr><tr><td class = \"rowNumber\" style = \"font-weight: bold; text-align: right;\">33527</td><td style = \"text-align: left;\">AC007325.1</td><td style = \"text-align: right;\">0</td><td style = \"text-align: right;\">0</td><td style = \"text-align: right;\">0</td><td style = \"text-align: right;\">0</td><td style = \"text-align: right;\">0</td><td style = \"text-align: right;\">0</td><td style = \"text-align: right;\">0</td><td style = \"text-align: right;\">0</td><td style = \"text-align: right;\">0</td><td style = \"text-align: right;\">0</td><td style = \"text-align: right;\">0</td><td style = \"text-align: right;\">0</td><td style = \"text-align: right;\">0</td><td style = \"text-align: right;\">0</td><td style = \"text-align: right;\">0</td><td style = \"text-align: right;\">0</td><td style = \"text-align: right;\">0</td><td style = \"text-align: right;\">0</td><td style = \"text-align: right;\">0</td><td style = \"text-align: right;\">0</td><td style = \"text-align: right;\">0</td><td style = \"text-align: right;\">0</td><td style = \"text-align: right;\">0</td><td style = \"text-align: right;\">0</td><td style = \"text-align: right;\">0</td><td style = \"text-align: right;\">0</td><td style = \"text-align: right;\">0</td><td style = \"text-align: right;\">0</td><td style = \"text-align: right;\">0</td><td style = \"text-align: right;\">0</td><td style = \"text-align: right;\">0</td><td style = \"text-align: right;\">0</td><td style = \"text-align: right;\">0</td><td style = \"text-align: right;\">0</td><td style = \"text-align: right;\">0</td><td style = \"text-align: right;\">0</td><td style = \"text-align: right;\">0</td><td style = \"text-align: right;\">0</td><td style = \"text-align: right;\">0</td><td style = \"text-align: right;\">0</td><td style = \"text-align: right;\">0</td><td style = \"text-align: right;\">0</td><td style = \"text-align: right;\">0</td><td style = \"text-align: right;\">0</td><td style = \"text-align: right;\">0</td><td style = \"text-align: right;\">0</td><td style = \"text-align: right;\">0</td><td style = \"text-align: right;\">0</td><td style = \"text-align: right;\">0</td><td style = \"text-align: right;\">0</td><td style = \"text-align: right;\">0</td><td style = \"text-align: right;\">0</td><td style = \"text-align: right;\">0</td><td style = \"text-align: right;\">0</td><td style = \"text-align: right;\">0</td><td style = \"text-align: right;\">0</td><td style = \"text-align: right;\">0</td><td style = \"text-align: right;\">0</td><td style = \"text-align: right;\">0</td><td style = \"text-align: right;\">0</td><td style = \"text-align: right;\">0</td><td style = \"text-align: right;\">0</td><td style = \"text-align: right;\">0</td><td style = \"text-align: right;\">0</td><td style = \"text-align: right;\">0</td><td style = \"text-align: right;\">0</td><td style = \"text-align: right;\">0</td><td style = \"text-align: right;\">0</td><td style = \"text-align: right;\">0</td><td style = \"text-align: right;\">0</td><td style = \"text-align: right;\">0</td><td style = \"text-align: right;\">0</td><td style = \"text-align: right;\">0</td><td style = \"text-align: right;\">0</td><td style = \"text-align: right;\">0</td><td style = \"text-align: right;\">0</td><td style = \"text-align: right;\">0</td><td style = \"text-align: right;\">0</td><td style = \"text-align: right;\">0</td><td style = \"text-align: right;\">0</td><td style = \"text-align: right;\">0</td><td style = \"text-align: right;\">0</td><td style = \"text-align: right;\">0</td><td style = \"text-align: right;\">0</td><td style = \"text-align: right;\">0</td><td style = \"text-align: right;\">0</td><td style = \"text-align: right;\">0</td><td style = \"text-align: right;\">0</td><td style = \"text-align: right;\">0</td><td style = \"text-align: right;\">0</td><td style = \"text-align: right;\">0</td><td style = \"text-align: right;\">0</td><td style = \"text-align: right;\">0</td><td style = \"text-align: right;\">0</td><td style = \"text-align: right;\">0</td><td style = \"text-align: right;\">0</td><td style = \"text-align: right;\">0</td><td style = \"text-align: right;\">0</td><td style = \"text-align: right;\">0</td><td style = \"text-align: right;\">&ctdot;</td></tr><tr><td class = \"rowNumber\" style = \"font-weight: bold; text-align: right;\">33528</td><td style = \"text-align: left;\">AC007325.4</td><td style = \"text-align: right;\">0</td><td style = \"text-align: right;\">0</td><td style = \"text-align: right;\">0</td><td style = \"text-align: right;\">0</td><td style = \"text-align: right;\">0</td><td style = \"text-align: right;\">0</td><td style = \"text-align: right;\">0</td><td style = \"text-align: right;\">0</td><td style = \"text-align: right;\">0</td><td style = \"text-align: right;\">0</td><td style = \"text-align: right;\">0</td><td style = \"text-align: right;\">0</td><td style = \"text-align: right;\">0</td><td style = \"text-align: right;\">0</td><td style = \"text-align: right;\">0</td><td style = \"text-align: right;\">0</td><td style = \"text-align: right;\">0</td><td style = \"text-align: right;\">0</td><td style = \"text-align: right;\">0</td><td style = \"text-align: right;\">0</td><td style = \"text-align: right;\">0</td><td style = \"text-align: right;\">0</td><td style = \"text-align: right;\">0</td><td style = \"text-align: right;\">0</td><td style = \"text-align: right;\">0</td><td style = \"text-align: right;\">0</td><td style = \"text-align: right;\">0</td><td style = \"text-align: right;\">0</td><td style = \"text-align: right;\">0</td><td style = \"text-align: right;\">0</td><td style = \"text-align: right;\">0</td><td style = \"text-align: right;\">0</td><td style = \"text-align: right;\">0</td><td style = \"text-align: right;\">0</td><td style = \"text-align: right;\">0</td><td style = \"text-align: right;\">0</td><td style = \"text-align: right;\">0</td><td style = \"text-align: right;\">0</td><td style = \"text-align: right;\">0</td><td style = \"text-align: right;\">0</td><td style = \"text-align: right;\">0</td><td style = \"text-align: right;\">0</td><td style = \"text-align: right;\">0</td><td style = \"text-align: right;\">0</td><td style = \"text-align: right;\">0</td><td style = \"text-align: right;\">0</td><td style = \"text-align: right;\">0</td><td style = \"text-align: right;\">0</td><td style = \"text-align: right;\">0</td><td style = \"text-align: right;\">0</td><td style = \"text-align: right;\">0</td><td style = \"text-align: right;\">0</td><td style = \"text-align: right;\">0</td><td style = \"text-align: right;\">0</td><td style = \"text-align: right;\">0</td><td style = \"text-align: right;\">0</td><td style = \"text-align: right;\">0</td><td style = \"text-align: right;\">0</td><td style = \"text-align: right;\">0</td><td style = \"text-align: right;\">0</td><td style = \"text-align: right;\">0</td><td style = \"text-align: right;\">0</td><td style = \"text-align: right;\">0</td><td style = \"text-align: right;\">0</td><td style = \"text-align: right;\">0</td><td style = \"text-align: right;\">0</td><td style = \"text-align: right;\">0</td><td style = \"text-align: right;\">0</td><td style = \"text-align: right;\">0</td><td style = \"text-align: right;\">0</td><td style = \"text-align: right;\">0</td><td style = \"text-align: right;\">0</td><td style = \"text-align: right;\">0</td><td style = \"text-align: right;\">0</td><td style = \"text-align: right;\">0</td><td style = \"text-align: right;\">0</td><td style = \"text-align: right;\">0</td><td style = \"text-align: right;\">0</td><td style = \"text-align: right;\">0</td><td style = \"text-align: right;\">0</td><td style = \"text-align: right;\">0</td><td style = \"text-align: right;\">0</td><td style = \"text-align: right;\">0</td><td style = \"text-align: right;\">0</td><td style = \"text-align: right;\">0</td><td style = \"text-align: right;\">0</td><td style = \"text-align: right;\">0</td><td style = \"text-align: right;\">0</td><td style = \"text-align: right;\">0</td><td style = \"text-align: right;\">0</td><td style = \"text-align: right;\">0</td><td style = \"text-align: right;\">0</td><td style = \"text-align: right;\">0</td><td style = \"text-align: right;\">0</td><td style = \"text-align: right;\">0</td><td style = \"text-align: right;\">0</td><td style = \"text-align: right;\">0</td><td style = \"text-align: right;\">0</td><td style = \"text-align: right;\">0</td><td style = \"text-align: right;\">&ctdot;</td></tr><tr><td class = \"rowNumber\" style = \"font-weight: bold; text-align: right;\">33529</td><td style = \"text-align: left;\">AC007325.2</td><td style = \"text-align: right;\">0</td><td style = \"text-align: right;\">0</td><td style = \"text-align: right;\">0</td><td style = \"text-align: right;\">0</td><td style = \"text-align: right;\">0</td><td style = \"text-align: right;\">0</td><td style = \"text-align: right;\">0</td><td style = \"text-align: right;\">0</td><td style = \"text-align: right;\">0</td><td style = \"text-align: right;\">0</td><td style = \"text-align: right;\">0</td><td style = \"text-align: right;\">0</td><td style = \"text-align: right;\">0</td><td style = \"text-align: right;\">0</td><td style = \"text-align: right;\">0</td><td style = \"text-align: right;\">0</td><td style = \"text-align: right;\">0</td><td style = \"text-align: right;\">0</td><td style = \"text-align: right;\">0</td><td style = \"text-align: right;\">0</td><td style = \"text-align: right;\">0</td><td style = \"text-align: right;\">0</td><td style = \"text-align: right;\">0</td><td style = \"text-align: right;\">0</td><td style = \"text-align: right;\">0</td><td style = \"text-align: right;\">0</td><td style = \"text-align: right;\">0</td><td style = \"text-align: right;\">0</td><td style = \"text-align: right;\">0</td><td style = \"text-align: right;\">0</td><td style = \"text-align: right;\">0</td><td style = \"text-align: right;\">0</td><td style = \"text-align: right;\">0</td><td style = \"text-align: right;\">0</td><td style = \"text-align: right;\">0</td><td style = \"text-align: right;\">0</td><td style = \"text-align: right;\">0</td><td style = \"text-align: right;\">0</td><td style = \"text-align: right;\">0</td><td style = \"text-align: right;\">0</td><td style = \"text-align: right;\">0</td><td style = \"text-align: right;\">0</td><td style = \"text-align: right;\">0</td><td style = \"text-align: right;\">0</td><td style = \"text-align: right;\">0</td><td style = \"text-align: right;\">0</td><td style = \"text-align: right;\">0</td><td style = \"text-align: right;\">0</td><td style = \"text-align: right;\">0</td><td style = \"text-align: right;\">0</td><td style = \"text-align: right;\">0</td><td style = \"text-align: right;\">0</td><td style = \"text-align: right;\">0</td><td style = \"text-align: right;\">0</td><td style = \"text-align: right;\">0</td><td style = \"text-align: right;\">0</td><td style = \"text-align: right;\">0</td><td style = \"text-align: right;\">0</td><td style = \"text-align: right;\">0</td><td style = \"text-align: right;\">0</td><td style = \"text-align: right;\">0</td><td style = \"text-align: right;\">0</td><td style = \"text-align: right;\">0</td><td style = \"text-align: right;\">0</td><td style = \"text-align: right;\">0</td><td style = \"text-align: right;\">0</td><td style = \"text-align: right;\">0</td><td style = \"text-align: right;\">0</td><td style = \"text-align: right;\">0</td><td style = \"text-align: right;\">0</td><td style = \"text-align: right;\">0</td><td style = \"text-align: right;\">0</td><td style = \"text-align: right;\">0</td><td style = \"text-align: right;\">0</td><td style = \"text-align: right;\">0</td><td style = \"text-align: right;\">0</td><td style = \"text-align: right;\">0</td><td style = \"text-align: right;\">0</td><td style = \"text-align: right;\">0</td><td style = \"text-align: right;\">0</td><td style = \"text-align: right;\">0</td><td style = \"text-align: right;\">0</td><td style = \"text-align: right;\">0</td><td style = \"text-align: right;\">0</td><td style = \"text-align: right;\">0</td><td style = \"text-align: right;\">0</td><td style = \"text-align: right;\">0</td><td style = \"text-align: right;\">0</td><td style = \"text-align: right;\">0</td><td style = \"text-align: right;\">0</td><td style = \"text-align: right;\">0</td><td style = \"text-align: right;\">0</td><td style = \"text-align: right;\">0</td><td style = \"text-align: right;\">0</td><td style = \"text-align: right;\">0</td><td style = \"text-align: right;\">0</td><td style = \"text-align: right;\">0</td><td style = \"text-align: right;\">0</td><td style = \"text-align: right;\">0</td><td style = \"text-align: right;\">&ctdot;</td></tr><tr><td class = \"rowNumber\" style = \"font-weight: bold; text-align: right;\">33530</td><td style = \"text-align: left;\">BX072566.1</td><td style = \"text-align: right;\">0</td><td style = \"text-align: right;\">0</td><td style = \"text-align: right;\">0</td><td style = \"text-align: right;\">0</td><td style = \"text-align: right;\">0</td><td style = \"text-align: right;\">0</td><td style = \"text-align: right;\">0</td><td style = \"text-align: right;\">0</td><td style = \"text-align: right;\">0</td><td style = \"text-align: right;\">0</td><td style = \"text-align: right;\">0</td><td style = \"text-align: right;\">0</td><td style = \"text-align: right;\">0</td><td style = \"text-align: right;\">0</td><td style = \"text-align: right;\">0</td><td style = \"text-align: right;\">0</td><td style = \"text-align: right;\">0</td><td style = \"text-align: right;\">0</td><td style = \"text-align: right;\">0</td><td style = \"text-align: right;\">0</td><td style = \"text-align: right;\">0</td><td style = \"text-align: right;\">0</td><td style = \"text-align: right;\">0</td><td style = \"text-align: right;\">0</td><td style = \"text-align: right;\">0</td><td style = \"text-align: right;\">0</td><td style = \"text-align: right;\">0</td><td style = \"text-align: right;\">0</td><td style = \"text-align: right;\">0</td><td style = \"text-align: right;\">0</td><td style = \"text-align: right;\">0</td><td style = \"text-align: right;\">0</td><td style = \"text-align: right;\">0</td><td style = \"text-align: right;\">0</td><td style = \"text-align: right;\">0</td><td style = \"text-align: right;\">0</td><td style = \"text-align: right;\">0</td><td style = \"text-align: right;\">0</td><td style = \"text-align: right;\">0</td><td style = \"text-align: right;\">0</td><td style = \"text-align: right;\">0</td><td style = \"text-align: right;\">0</td><td style = \"text-align: right;\">0</td><td style = \"text-align: right;\">0</td><td style = \"text-align: right;\">0</td><td style = \"text-align: right;\">0</td><td style = \"text-align: right;\">0</td><td style = \"text-align: right;\">0</td><td style = \"text-align: right;\">0</td><td style = \"text-align: right;\">0</td><td style = \"text-align: right;\">0</td><td style = \"text-align: right;\">0</td><td style = \"text-align: right;\">0</td><td style = \"text-align: right;\">0</td><td style = \"text-align: right;\">0</td><td style = \"text-align: right;\">0</td><td style = \"text-align: right;\">0</td><td style = \"text-align: right;\">0</td><td style = \"text-align: right;\">0</td><td style = \"text-align: right;\">0</td><td style = \"text-align: right;\">0</td><td style = \"text-align: right;\">0</td><td style = \"text-align: right;\">0</td><td style = \"text-align: right;\">0</td><td style = \"text-align: right;\">0</td><td style = \"text-align: right;\">0</td><td style = \"text-align: right;\">0</td><td style = \"text-align: right;\">0</td><td style = \"text-align: right;\">0</td><td style = \"text-align: right;\">0</td><td style = \"text-align: right;\">0</td><td style = \"text-align: right;\">0</td><td style = \"text-align: right;\">0</td><td style = \"text-align: right;\">0</td><td style = \"text-align: right;\">0</td><td style = \"text-align: right;\">0</td><td style = \"text-align: right;\">0</td><td style = \"text-align: right;\">0</td><td style = \"text-align: right;\">0</td><td style = \"text-align: right;\">0</td><td style = \"text-align: right;\">0</td><td style = \"text-align: right;\">0</td><td style = \"text-align: right;\">0</td><td style = \"text-align: right;\">0</td><td style = \"text-align: right;\">0</td><td style = \"text-align: right;\">0</td><td style = \"text-align: right;\">0</td><td style = \"text-align: right;\">0</td><td style = \"text-align: right;\">0</td><td style = \"text-align: right;\">0</td><td style = \"text-align: right;\">0</td><td style = \"text-align: right;\">0</td><td style = \"text-align: right;\">0</td><td style = \"text-align: right;\">0</td><td style = \"text-align: right;\">0</td><td style = \"text-align: right;\">0</td><td style = \"text-align: right;\">0</td><td style = \"text-align: right;\">0</td><td style = \"text-align: right;\">0</td><td style = \"text-align: right;\">&ctdot;</td></tr><tr><td class = \"rowNumber\" style = \"font-weight: bold; text-align: right;\">33531</td><td style = \"text-align: left;\">AL354822.1</td><td style = \"text-align: right;\">0</td><td style = \"text-align: right;\">0</td><td style = \"text-align: right;\">0</td><td style = \"text-align: right;\">0</td><td style = \"text-align: right;\">0</td><td style = \"text-align: right;\">0</td><td style = \"text-align: right;\">0</td><td style = \"text-align: right;\">0</td><td style = \"text-align: right;\">0</td><td style = \"text-align: right;\">0</td><td style = \"text-align: right;\">0</td><td style = \"text-align: right;\">0</td><td style = \"text-align: right;\">0</td><td style = \"text-align: right;\">0</td><td style = \"text-align: right;\">0</td><td style = \"text-align: right;\">0</td><td style = \"text-align: right;\">0</td><td style = \"text-align: right;\">0</td><td style = \"text-align: right;\">0</td><td style = \"text-align: right;\">0</td><td style = \"text-align: right;\">0</td><td style = \"text-align: right;\">0</td><td style = \"text-align: right;\">0</td><td style = \"text-align: right;\">0</td><td style = \"text-align: right;\">0</td><td style = \"text-align: right;\">0</td><td style = \"text-align: right;\">0</td><td style = \"text-align: right;\">0</td><td style = \"text-align: right;\">0</td><td style = \"text-align: right;\">0</td><td style = \"text-align: right;\">0</td><td style = \"text-align: right;\">0</td><td style = \"text-align: right;\">0</td><td style = \"text-align: right;\">0</td><td style = \"text-align: right;\">0</td><td style = \"text-align: right;\">0</td><td style = \"text-align: right;\">0</td><td style = \"text-align: right;\">0</td><td style = \"text-align: right;\">0</td><td style = \"text-align: right;\">0</td><td style = \"text-align: right;\">0</td><td style = \"text-align: right;\">0</td><td style = \"text-align: right;\">0</td><td style = \"text-align: right;\">0</td><td style = \"text-align: right;\">0</td><td style = \"text-align: right;\">0</td><td style = \"text-align: right;\">0</td><td style = \"text-align: right;\">0</td><td style = \"text-align: right;\">0</td><td style = \"text-align: right;\">0</td><td style = \"text-align: right;\">0</td><td style = \"text-align: right;\">0</td><td style = \"text-align: right;\">0</td><td style = \"text-align: right;\">0</td><td style = \"text-align: right;\">0</td><td style = \"text-align: right;\">0</td><td style = \"text-align: right;\">0</td><td style = \"text-align: right;\">0</td><td style = \"text-align: right;\">0</td><td style = \"text-align: right;\">0</td><td style = \"text-align: right;\">0</td><td style = \"text-align: right;\">0</td><td style = \"text-align: right;\">0</td><td style = \"text-align: right;\">0</td><td style = \"text-align: right;\">0</td><td style = \"text-align: right;\">0</td><td style = \"text-align: right;\">0</td><td style = \"text-align: right;\">0</td><td style = \"text-align: right;\">0</td><td style = \"text-align: right;\">0</td><td style = \"text-align: right;\">0</td><td style = \"text-align: right;\">0</td><td style = \"text-align: right;\">0</td><td style = \"text-align: right;\">0</td><td style = \"text-align: right;\">0</td><td style = \"text-align: right;\">0</td><td style = \"text-align: right;\">0</td><td style = \"text-align: right;\">0</td><td style = \"text-align: right;\">0</td><td style = \"text-align: right;\">0</td><td style = \"text-align: right;\">0</td><td style = \"text-align: right;\">0</td><td style = \"text-align: right;\">0</td><td style = \"text-align: right;\">0</td><td style = \"text-align: right;\">0</td><td style = \"text-align: right;\">0</td><td style = \"text-align: right;\">0</td><td style = \"text-align: right;\">0</td><td style = \"text-align: right;\">0</td><td style = \"text-align: right;\">0</td><td style = \"text-align: right;\">0</td><td style = \"text-align: right;\">1</td><td style = \"text-align: right;\">0</td><td style = \"text-align: right;\">0</td><td style = \"text-align: right;\">0</td><td style = \"text-align: right;\">0</td><td style = \"text-align: right;\">0</td><td style = \"text-align: right;\">0</td><td style = \"text-align: right;\">0</td><td style = \"text-align: right;\">&ctdot;</td></tr><tr><td class = \"rowNumber\" style = \"font-weight: bold; text-align: right;\">33532</td><td style = \"text-align: left;\">AC023491.2</td><td style = \"text-align: right;\">0</td><td style = \"text-align: right;\">0</td><td style = \"text-align: right;\">0</td><td style = \"text-align: right;\">0</td><td style = \"text-align: right;\">0</td><td style = \"text-align: right;\">0</td><td style = \"text-align: right;\">0</td><td style = \"text-align: right;\">0</td><td style = \"text-align: right;\">0</td><td style = \"text-align: right;\">0</td><td style = \"text-align: right;\">0</td><td style = \"text-align: right;\">0</td><td style = \"text-align: right;\">0</td><td style = \"text-align: right;\">0</td><td style = \"text-align: right;\">0</td><td style = \"text-align: right;\">0</td><td style = \"text-align: right;\">0</td><td style = \"text-align: right;\">0</td><td style = \"text-align: right;\">0</td><td style = \"text-align: right;\">0</td><td style = \"text-align: right;\">0</td><td style = \"text-align: right;\">0</td><td style = \"text-align: right;\">0</td><td style = \"text-align: right;\">0</td><td style = \"text-align: right;\">0</td><td style = \"text-align: right;\">0</td><td style = \"text-align: right;\">0</td><td style = \"text-align: right;\">0</td><td style = \"text-align: right;\">0</td><td style = \"text-align: right;\">0</td><td style = \"text-align: right;\">0</td><td style = \"text-align: right;\">0</td><td style = \"text-align: right;\">0</td><td style = \"text-align: right;\">0</td><td style = \"text-align: right;\">0</td><td style = \"text-align: right;\">0</td><td style = \"text-align: right;\">0</td><td style = \"text-align: right;\">0</td><td style = \"text-align: right;\">0</td><td style = \"text-align: right;\">0</td><td style = \"text-align: right;\">0</td><td style = \"text-align: right;\">0</td><td style = \"text-align: right;\">0</td><td style = \"text-align: right;\">0</td><td style = \"text-align: right;\">0</td><td style = \"text-align: right;\">0</td><td style = \"text-align: right;\">0</td><td style = \"text-align: right;\">0</td><td style = \"text-align: right;\">0</td><td style = \"text-align: right;\">0</td><td style = \"text-align: right;\">0</td><td style = \"text-align: right;\">0</td><td style = \"text-align: right;\">0</td><td style = \"text-align: right;\">0</td><td style = \"text-align: right;\">0</td><td style = \"text-align: right;\">0</td><td style = \"text-align: right;\">0</td><td style = \"text-align: right;\">0</td><td style = \"text-align: right;\">0</td><td style = \"text-align: right;\">0</td><td style = \"text-align: right;\">0</td><td style = \"text-align: right;\">0</td><td style = \"text-align: right;\">0</td><td style = \"text-align: right;\">0</td><td style = \"text-align: right;\">0</td><td style = \"text-align: right;\">0</td><td style = \"text-align: right;\">0</td><td style = \"text-align: right;\">0</td><td style = \"text-align: right;\">0</td><td style = \"text-align: right;\">0</td><td style = \"text-align: right;\">0</td><td style = \"text-align: right;\">0</td><td style = \"text-align: right;\">0</td><td style = \"text-align: right;\">0</td><td style = \"text-align: right;\">0</td><td style = \"text-align: right;\">0</td><td style = \"text-align: right;\">0</td><td style = \"text-align: right;\">0</td><td style = \"text-align: right;\">0</td><td style = \"text-align: right;\">0</td><td style = \"text-align: right;\">0</td><td style = \"text-align: right;\">0</td><td style = \"text-align: right;\">0</td><td style = \"text-align: right;\">0</td><td style = \"text-align: right;\">0</td><td style = \"text-align: right;\">0</td><td style = \"text-align: right;\">0</td><td style = \"text-align: right;\">0</td><td style = \"text-align: right;\">0</td><td style = \"text-align: right;\">0</td><td style = \"text-align: right;\">0</td><td style = \"text-align: right;\">0</td><td style = \"text-align: right;\">0</td><td style = \"text-align: right;\">0</td><td style = \"text-align: right;\">0</td><td style = \"text-align: right;\">0</td><td style = \"text-align: right;\">0</td><td style = \"text-align: right;\">0</td><td style = \"text-align: right;\">0</td><td style = \"text-align: right;\">&ctdot;</td></tr><tr><td class = \"rowNumber\" style = \"font-weight: bold; text-align: right;\">33533</td><td style = \"text-align: left;\">AC004556.1</td><td style = \"text-align: right;\">0</td><td style = \"text-align: right;\">0</td><td style = \"text-align: right;\">0</td><td style = \"text-align: right;\">0</td><td style = \"text-align: right;\">0</td><td style = \"text-align: right;\">0</td><td style = \"text-align: right;\">0</td><td style = \"text-align: right;\">0</td><td style = \"text-align: right;\">0</td><td style = \"text-align: right;\">0</td><td style = \"text-align: right;\">0</td><td style = \"text-align: right;\">0</td><td style = \"text-align: right;\">0</td><td style = \"text-align: right;\">0</td><td style = \"text-align: right;\">0</td><td style = \"text-align: right;\">0</td><td style = \"text-align: right;\">0</td><td style = \"text-align: right;\">0</td><td style = \"text-align: right;\">0</td><td style = \"text-align: right;\">0</td><td style = \"text-align: right;\">0</td><td style = \"text-align: right;\">0</td><td style = \"text-align: right;\">0</td><td style = \"text-align: right;\">0</td><td style = \"text-align: right;\">0</td><td style = \"text-align: right;\">0</td><td style = \"text-align: right;\">0</td><td style = \"text-align: right;\">0</td><td style = \"text-align: right;\">0</td><td style = \"text-align: right;\">0</td><td style = \"text-align: right;\">0</td><td style = \"text-align: right;\">0</td><td style = \"text-align: right;\">0</td><td style = \"text-align: right;\">0</td><td style = \"text-align: right;\">0</td><td style = \"text-align: right;\">0</td><td style = \"text-align: right;\">0</td><td style = \"text-align: right;\">0</td><td style = \"text-align: right;\">0</td><td style = \"text-align: right;\">0</td><td style = \"text-align: right;\">0</td><td style = \"text-align: right;\">0</td><td style = \"text-align: right;\">0</td><td style = \"text-align: right;\">0</td><td style = \"text-align: right;\">0</td><td style = \"text-align: right;\">0</td><td style = \"text-align: right;\">0</td><td style = \"text-align: right;\">0</td><td style = \"text-align: right;\">0</td><td style = \"text-align: right;\">0</td><td style = \"text-align: right;\">0</td><td style = \"text-align: right;\">0</td><td style = \"text-align: right;\">0</td><td style = \"text-align: right;\">0</td><td style = \"text-align: right;\">0</td><td style = \"text-align: right;\">0</td><td style = \"text-align: right;\">0</td><td style = \"text-align: right;\">0</td><td style = \"text-align: right;\">0</td><td style = \"text-align: right;\">0</td><td style = \"text-align: right;\">0</td><td style = \"text-align: right;\">0</td><td style = \"text-align: right;\">0</td><td style = \"text-align: right;\">0</td><td style = \"text-align: right;\">0</td><td style = \"text-align: right;\">0</td><td style = \"text-align: right;\">0</td><td style = \"text-align: right;\">0</td><td style = \"text-align: right;\">0</td><td style = \"text-align: right;\">0</td><td style = \"text-align: right;\">0</td><td style = \"text-align: right;\">0</td><td style = \"text-align: right;\">0</td><td style = \"text-align: right;\">0</td><td style = \"text-align: right;\">0</td><td style = \"text-align: right;\">0</td><td style = \"text-align: right;\">0</td><td style = \"text-align: right;\">0</td><td style = \"text-align: right;\">0</td><td style = \"text-align: right;\">0</td><td style = \"text-align: right;\">0</td><td style = \"text-align: right;\">0</td><td style = \"text-align: right;\">0</td><td style = \"text-align: right;\">0</td><td style = \"text-align: right;\">0</td><td style = \"text-align: right;\">0</td><td style = \"text-align: right;\">0</td><td style = \"text-align: right;\">0</td><td style = \"text-align: right;\">0</td><td style = \"text-align: right;\">0</td><td style = \"text-align: right;\">0</td><td style = \"text-align: right;\">0</td><td style = \"text-align: right;\">0</td><td style = \"text-align: right;\">0</td><td style = \"text-align: right;\">0</td><td style = \"text-align: right;\">0</td><td style = \"text-align: right;\">0</td><td style = \"text-align: right;\">0</td><td style = \"text-align: right;\">0</td><td style = \"text-align: right;\">&ctdot;</td></tr><tr><td class = \"rowNumber\" style = \"font-weight: bold; text-align: right;\">33534</td><td style = \"text-align: left;\">AC233755.2</td><td style = \"text-align: right;\">0</td><td style = \"text-align: right;\">0</td><td style = \"text-align: right;\">0</td><td style = \"text-align: right;\">0</td><td style = \"text-align: right;\">0</td><td style = \"text-align: right;\">0</td><td style = \"text-align: right;\">0</td><td style = \"text-align: right;\">0</td><td style = \"text-align: right;\">0</td><td style = \"text-align: right;\">0</td><td style = \"text-align: right;\">0</td><td style = \"text-align: right;\">0</td><td style = \"text-align: right;\">0</td><td style = \"text-align: right;\">0</td><td style = \"text-align: right;\">0</td><td style = \"text-align: right;\">0</td><td style = \"text-align: right;\">0</td><td style = \"text-align: right;\">0</td><td style = \"text-align: right;\">0</td><td style = \"text-align: right;\">0</td><td style = \"text-align: right;\">0</td><td style = \"text-align: right;\">0</td><td style = \"text-align: right;\">0</td><td style = \"text-align: right;\">0</td><td style = \"text-align: right;\">0</td><td style = \"text-align: right;\">0</td><td style = \"text-align: right;\">0</td><td style = \"text-align: right;\">0</td><td style = \"text-align: right;\">0</td><td style = \"text-align: right;\">0</td><td style = \"text-align: right;\">0</td><td style = \"text-align: right;\">0</td><td style = \"text-align: right;\">0</td><td style = \"text-align: right;\">0</td><td style = \"text-align: right;\">0</td><td style = \"text-align: right;\">0</td><td style = \"text-align: right;\">0</td><td style = \"text-align: right;\">0</td><td style = \"text-align: right;\">0</td><td style = \"text-align: right;\">0</td><td style = \"text-align: right;\">0</td><td style = \"text-align: right;\">0</td><td style = \"text-align: right;\">0</td><td style = \"text-align: right;\">0</td><td style = \"text-align: right;\">0</td><td style = \"text-align: right;\">0</td><td style = \"text-align: right;\">0</td><td style = \"text-align: right;\">0</td><td style = \"text-align: right;\">0</td><td style = \"text-align: right;\">0</td><td style = \"text-align: right;\">0</td><td style = \"text-align: right;\">0</td><td style = \"text-align: right;\">0</td><td style = \"text-align: right;\">0</td><td style = \"text-align: right;\">0</td><td style = \"text-align: right;\">0</td><td style = \"text-align: right;\">0</td><td style = \"text-align: right;\">0</td><td style = \"text-align: right;\">0</td><td style = \"text-align: right;\">0</td><td style = \"text-align: right;\">0</td><td style = \"text-align: right;\">0</td><td style = \"text-align: right;\">0</td><td style = \"text-align: right;\">0</td><td style = \"text-align: right;\">0</td><td style = \"text-align: right;\">0</td><td style = \"text-align: right;\">0</td><td style = \"text-align: right;\">0</td><td style = \"text-align: right;\">0</td><td style = \"text-align: right;\">0</td><td style = \"text-align: right;\">0</td><td style = \"text-align: right;\">0</td><td style = \"text-align: right;\">0</td><td style = \"text-align: right;\">0</td><td style = \"text-align: right;\">0</td><td style = \"text-align: right;\">0</td><td style = \"text-align: right;\">0</td><td style = \"text-align: right;\">0</td><td style = \"text-align: right;\">0</td><td style = \"text-align: right;\">0</td><td style = \"text-align: right;\">0</td><td style = \"text-align: right;\">0</td><td style = \"text-align: right;\">0</td><td style = \"text-align: right;\">0</td><td style = \"text-align: right;\">0</td><td style = \"text-align: right;\">0</td><td style = \"text-align: right;\">0</td><td style = \"text-align: right;\">0</td><td style = \"text-align: right;\">0</td><td style = \"text-align: right;\">0</td><td style = \"text-align: right;\">0</td><td style = \"text-align: right;\">0</td><td style = \"text-align: right;\">0</td><td style = \"text-align: right;\">0</td><td style = \"text-align: right;\">0</td><td style = \"text-align: right;\">0</td><td style = \"text-align: right;\">0</td><td style = \"text-align: right;\">0</td><td style = \"text-align: right;\">0</td><td style = \"text-align: right;\">&ctdot;</td></tr><tr><td class = \"rowNumber\" style = \"font-weight: bold; text-align: right;\">33535</td><td style = \"text-align: left;\">AC233755.1</td><td style = \"text-align: right;\">0</td><td style = \"text-align: right;\">0</td><td style = \"text-align: right;\">0</td><td style = \"text-align: right;\">0</td><td style = \"text-align: right;\">0</td><td style = \"text-align: right;\">0</td><td style = \"text-align: right;\">0</td><td style = \"text-align: right;\">0</td><td style = \"text-align: right;\">0</td><td style = \"text-align: right;\">0</td><td style = \"text-align: right;\">0</td><td style = \"text-align: right;\">0</td><td style = \"text-align: right;\">0</td><td style = \"text-align: right;\">0</td><td style = \"text-align: right;\">0</td><td style = \"text-align: right;\">0</td><td style = \"text-align: right;\">0</td><td style = \"text-align: right;\">0</td><td style = \"text-align: right;\">0</td><td style = \"text-align: right;\">0</td><td style = \"text-align: right;\">0</td><td style = \"text-align: right;\">0</td><td style = \"text-align: right;\">0</td><td style = \"text-align: right;\">0</td><td style = \"text-align: right;\">0</td><td style = \"text-align: right;\">0</td><td style = \"text-align: right;\">0</td><td style = \"text-align: right;\">0</td><td style = \"text-align: right;\">0</td><td style = \"text-align: right;\">0</td><td style = \"text-align: right;\">0</td><td style = \"text-align: right;\">0</td><td style = \"text-align: right;\">0</td><td style = \"text-align: right;\">0</td><td style = \"text-align: right;\">0</td><td style = \"text-align: right;\">0</td><td style = \"text-align: right;\">0</td><td style = \"text-align: right;\">0</td><td style = \"text-align: right;\">0</td><td style = \"text-align: right;\">0</td><td style = \"text-align: right;\">0</td><td style = \"text-align: right;\">0</td><td style = \"text-align: right;\">0</td><td style = \"text-align: right;\">0</td><td style = \"text-align: right;\">0</td><td style = \"text-align: right;\">0</td><td style = \"text-align: right;\">0</td><td style = \"text-align: right;\">0</td><td style = \"text-align: right;\">0</td><td style = \"text-align: right;\">0</td><td style = \"text-align: right;\">0</td><td style = \"text-align: right;\">0</td><td style = \"text-align: right;\">0</td><td style = \"text-align: right;\">0</td><td style = \"text-align: right;\">0</td><td style = \"text-align: right;\">0</td><td style = \"text-align: right;\">0</td><td style = \"text-align: right;\">0</td><td style = \"text-align: right;\">0</td><td style = \"text-align: right;\">0</td><td style = \"text-align: right;\">0</td><td style = \"text-align: right;\">0</td><td style = \"text-align: right;\">0</td><td style = \"text-align: right;\">0</td><td style = \"text-align: right;\">0</td><td style = \"text-align: right;\">0</td><td style = \"text-align: right;\">0</td><td style = \"text-align: right;\">0</td><td style = \"text-align: right;\">0</td><td style = \"text-align: right;\">0</td><td style = \"text-align: right;\">0</td><td style = \"text-align: right;\">0</td><td style = \"text-align: right;\">0</td><td style = \"text-align: right;\">0</td><td style = \"text-align: right;\">0</td><td style = \"text-align: right;\">0</td><td style = \"text-align: right;\">0</td><td style = \"text-align: right;\">0</td><td style = \"text-align: right;\">0</td><td style = \"text-align: right;\">0</td><td style = \"text-align: right;\">0</td><td style = \"text-align: right;\">0</td><td style = \"text-align: right;\">0</td><td style = \"text-align: right;\">0</td><td style = \"text-align: right;\">0</td><td style = \"text-align: right;\">0</td><td style = \"text-align: right;\">0</td><td style = \"text-align: right;\">0</td><td style = \"text-align: right;\">0</td><td style = \"text-align: right;\">0</td><td style = \"text-align: right;\">0</td><td style = \"text-align: right;\">0</td><td style = \"text-align: right;\">0</td><td style = \"text-align: right;\">0</td><td style = \"text-align: right;\">0</td><td style = \"text-align: right;\">0</td><td style = \"text-align: right;\">0</td><td style = \"text-align: right;\">0</td><td style = \"text-align: right;\">0</td><td style = \"text-align: right;\">&ctdot;</td></tr><tr><td class = \"rowNumber\" style = \"font-weight: bold; text-align: right;\">33536</td><td style = \"text-align: left;\">AC240274.1</td><td style = \"text-align: right;\">0</td><td style = \"text-align: right;\">1</td><td style = \"text-align: right;\">0</td><td style = \"text-align: right;\">0</td><td style = \"text-align: right;\">0</td><td style = \"text-align: right;\">0</td><td style = \"text-align: right;\">0</td><td style = \"text-align: right;\">0</td><td style = \"text-align: right;\">0</td><td style = \"text-align: right;\">0</td><td style = \"text-align: right;\">0</td><td style = \"text-align: right;\">0</td><td style = \"text-align: right;\">0</td><td style = \"text-align: right;\">0</td><td style = \"text-align: right;\">0</td><td style = \"text-align: right;\">0</td><td style = \"text-align: right;\">0</td><td style = \"text-align: right;\">0</td><td style = \"text-align: right;\">0</td><td style = \"text-align: right;\">0</td><td style = \"text-align: right;\">0</td><td style = \"text-align: right;\">0</td><td style = \"text-align: right;\">0</td><td style = \"text-align: right;\">0</td><td style = \"text-align: right;\">0</td><td style = \"text-align: right;\">0</td><td style = \"text-align: right;\">0</td><td style = \"text-align: right;\">0</td><td style = \"text-align: right;\">0</td><td style = \"text-align: right;\">0</td><td style = \"text-align: right;\">0</td><td style = \"text-align: right;\">0</td><td style = \"text-align: right;\">0</td><td style = \"text-align: right;\">0</td><td style = \"text-align: right;\">0</td><td style = \"text-align: right;\">0</td><td style = \"text-align: right;\">0</td><td style = \"text-align: right;\">0</td><td style = \"text-align: right;\">0</td><td style = \"text-align: right;\">0</td><td style = \"text-align: right;\">0</td><td style = \"text-align: right;\">0</td><td style = \"text-align: right;\">0</td><td style = \"text-align: right;\">0</td><td style = \"text-align: right;\">0</td><td style = \"text-align: right;\">0</td><td style = \"text-align: right;\">0</td><td style = \"text-align: right;\">0</td><td style = \"text-align: right;\">0</td><td style = \"text-align: right;\">0</td><td style = \"text-align: right;\">0</td><td style = \"text-align: right;\">0</td><td style = \"text-align: right;\">0</td><td style = \"text-align: right;\">0</td><td style = \"text-align: right;\">0</td><td style = \"text-align: right;\">0</td><td style = \"text-align: right;\">0</td><td style = \"text-align: right;\">0</td><td style = \"text-align: right;\">0</td><td style = \"text-align: right;\">0</td><td style = \"text-align: right;\">0</td><td style = \"text-align: right;\">0</td><td style = \"text-align: right;\">0</td><td style = \"text-align: right;\">0</td><td style = \"text-align: right;\">0</td><td style = \"text-align: right;\">0</td><td style = \"text-align: right;\">0</td><td style = \"text-align: right;\">0</td><td style = \"text-align: right;\">0</td><td style = \"text-align: right;\">0</td><td style = \"text-align: right;\">0</td><td style = \"text-align: right;\">0</td><td style = \"text-align: right;\">0</td><td style = \"text-align: right;\">0</td><td style = \"text-align: right;\">0</td><td style = \"text-align: right;\">0</td><td style = \"text-align: right;\">0</td><td style = \"text-align: right;\">0</td><td style = \"text-align: right;\">0</td><td style = \"text-align: right;\">0</td><td style = \"text-align: right;\">0</td><td style = \"text-align: right;\">0</td><td style = \"text-align: right;\">0</td><td style = \"text-align: right;\">0</td><td style = \"text-align: right;\">0</td><td style = \"text-align: right;\">0</td><td style = \"text-align: right;\">0</td><td style = \"text-align: right;\">0</td><td style = \"text-align: right;\">0</td><td style = \"text-align: right;\">0</td><td style = \"text-align: right;\">0</td><td style = \"text-align: right;\">0</td><td style = \"text-align: right;\">0</td><td style = \"text-align: right;\">0</td><td style = \"text-align: right;\">0</td><td style = \"text-align: right;\">0</td><td style = \"text-align: right;\">0</td><td style = \"text-align: right;\">0</td><td style = \"text-align: right;\">0</td><td style = \"text-align: right;\">&ctdot;</td></tr><tr><td class = \"rowNumber\" style = \"font-weight: bold; text-align: right;\">33537</td><td style = \"text-align: left;\">AC213203.1</td><td style = \"text-align: right;\">0</td><td style = \"text-align: right;\">0</td><td style = \"text-align: right;\">0</td><td style = \"text-align: right;\">0</td><td style = \"text-align: right;\">0</td><td style = \"text-align: right;\">0</td><td style = \"text-align: right;\">0</td><td style = \"text-align: right;\">0</td><td style = \"text-align: right;\">0</td><td style = \"text-align: right;\">0</td><td style = \"text-align: right;\">0</td><td style = \"text-align: right;\">0</td><td style = \"text-align: right;\">0</td><td style = \"text-align: right;\">0</td><td style = \"text-align: right;\">0</td><td style = \"text-align: right;\">0</td><td style = \"text-align: right;\">0</td><td style = \"text-align: right;\">0</td><td style = \"text-align: right;\">0</td><td style = \"text-align: right;\">0</td><td style = \"text-align: right;\">0</td><td style = \"text-align: right;\">0</td><td style = \"text-align: right;\">0</td><td style = \"text-align: right;\">0</td><td style = \"text-align: right;\">0</td><td style = \"text-align: right;\">0</td><td style = \"text-align: right;\">0</td><td style = \"text-align: right;\">0</td><td style = \"text-align: right;\">0</td><td style = \"text-align: right;\">0</td><td style = \"text-align: right;\">0</td><td style = \"text-align: right;\">0</td><td style = \"text-align: right;\">0</td><td style = \"text-align: right;\">0</td><td style = \"text-align: right;\">0</td><td style = \"text-align: right;\">0</td><td style = \"text-align: right;\">0</td><td style = \"text-align: right;\">0</td><td style = \"text-align: right;\">0</td><td style = \"text-align: right;\">0</td><td style = \"text-align: right;\">0</td><td style = \"text-align: right;\">0</td><td style = \"text-align: right;\">0</td><td style = \"text-align: right;\">0</td><td style = \"text-align: right;\">0</td><td style = \"text-align: right;\">0</td><td style = \"text-align: right;\">0</td><td style = \"text-align: right;\">0</td><td style = \"text-align: right;\">0</td><td style = \"text-align: right;\">0</td><td style = \"text-align: right;\">0</td><td style = \"text-align: right;\">0</td><td style = \"text-align: right;\">0</td><td style = \"text-align: right;\">0</td><td style = \"text-align: right;\">0</td><td style = \"text-align: right;\">0</td><td style = \"text-align: right;\">0</td><td style = \"text-align: right;\">0</td><td style = \"text-align: right;\">0</td><td style = \"text-align: right;\">0</td><td style = \"text-align: right;\">0</td><td style = \"text-align: right;\">0</td><td style = \"text-align: right;\">0</td><td style = \"text-align: right;\">0</td><td style = \"text-align: right;\">0</td><td style = \"text-align: right;\">0</td><td style = \"text-align: right;\">0</td><td style = \"text-align: right;\">0</td><td style = \"text-align: right;\">0</td><td style = \"text-align: right;\">0</td><td style = \"text-align: right;\">0</td><td style = \"text-align: right;\">0</td><td style = \"text-align: right;\">0</td><td style = \"text-align: right;\">0</td><td style = \"text-align: right;\">0</td><td style = \"text-align: right;\">0</td><td style = \"text-align: right;\">0</td><td style = \"text-align: right;\">0</td><td style = \"text-align: right;\">0</td><td style = \"text-align: right;\">0</td><td style = \"text-align: right;\">0</td><td style = \"text-align: right;\">0</td><td style = \"text-align: right;\">0</td><td style = \"text-align: right;\">0</td><td style = \"text-align: right;\">0</td><td style = \"text-align: right;\">0</td><td style = \"text-align: right;\">0</td><td style = \"text-align: right;\">0</td><td style = \"text-align: right;\">0</td><td style = \"text-align: right;\">0</td><td style = \"text-align: right;\">0</td><td style = \"text-align: right;\">0</td><td style = \"text-align: right;\">0</td><td style = \"text-align: right;\">0</td><td style = \"text-align: right;\">0</td><td style = \"text-align: right;\">0</td><td style = \"text-align: right;\">0</td><td style = \"text-align: right;\">0</td><td style = \"text-align: right;\">0</td><td style = \"text-align: right;\">&ctdot;</td></tr><tr><td class = \"rowNumber\" style = \"font-weight: bold; text-align: right;\">33538</td><td style = \"text-align: left;\">FAM231C</td><td style = \"text-align: right;\">0</td><td style = \"text-align: right;\">0</td><td style = \"text-align: right;\">0</td><td style = \"text-align: right;\">0</td><td style = \"text-align: right;\">0</td><td style = \"text-align: right;\">0</td><td style = \"text-align: right;\">0</td><td style = \"text-align: right;\">0</td><td style = \"text-align: right;\">0</td><td style = \"text-align: right;\">0</td><td style = \"text-align: right;\">0</td><td style = \"text-align: right;\">0</td><td style = \"text-align: right;\">0</td><td style = \"text-align: right;\">0</td><td style = \"text-align: right;\">0</td><td style = \"text-align: right;\">0</td><td style = \"text-align: right;\">0</td><td style = \"text-align: right;\">0</td><td style = \"text-align: right;\">0</td><td style = \"text-align: right;\">0</td><td style = \"text-align: right;\">0</td><td style = \"text-align: right;\">0</td><td style = \"text-align: right;\">0</td><td style = \"text-align: right;\">0</td><td style = \"text-align: right;\">0</td><td style = \"text-align: right;\">0</td><td style = \"text-align: right;\">0</td><td style = \"text-align: right;\">0</td><td style = \"text-align: right;\">0</td><td style = \"text-align: right;\">0</td><td style = \"text-align: right;\">0</td><td style = \"text-align: right;\">0</td><td style = \"text-align: right;\">0</td><td style = \"text-align: right;\">0</td><td style = \"text-align: right;\">0</td><td style = \"text-align: right;\">0</td><td style = \"text-align: right;\">0</td><td style = \"text-align: right;\">0</td><td style = \"text-align: right;\">0</td><td style = \"text-align: right;\">0</td><td style = \"text-align: right;\">0</td><td style = \"text-align: right;\">0</td><td style = \"text-align: right;\">0</td><td style = \"text-align: right;\">0</td><td style = \"text-align: right;\">0</td><td style = \"text-align: right;\">0</td><td style = \"text-align: right;\">0</td><td style = \"text-align: right;\">0</td><td style = \"text-align: right;\">0</td><td style = \"text-align: right;\">0</td><td style = \"text-align: right;\">0</td><td style = \"text-align: right;\">0</td><td style = \"text-align: right;\">0</td><td style = \"text-align: right;\">0</td><td style = \"text-align: right;\">0</td><td style = \"text-align: right;\">0</td><td style = \"text-align: right;\">0</td><td style = \"text-align: right;\">0</td><td style = \"text-align: right;\">0</td><td style = \"text-align: right;\">0</td><td style = \"text-align: right;\">0</td><td style = \"text-align: right;\">0</td><td style = \"text-align: right;\">0</td><td style = \"text-align: right;\">0</td><td style = \"text-align: right;\">0</td><td style = \"text-align: right;\">0</td><td style = \"text-align: right;\">0</td><td style = \"text-align: right;\">0</td><td style = \"text-align: right;\">0</td><td style = \"text-align: right;\">0</td><td style = \"text-align: right;\">0</td><td style = \"text-align: right;\">0</td><td style = \"text-align: right;\">0</td><td style = \"text-align: right;\">0</td><td style = \"text-align: right;\">0</td><td style = \"text-align: right;\">0</td><td style = \"text-align: right;\">0</td><td style = \"text-align: right;\">0</td><td style = \"text-align: right;\">0</td><td style = \"text-align: right;\">0</td><td style = \"text-align: right;\">0</td><td style = \"text-align: right;\">0</td><td style = \"text-align: right;\">0</td><td style = \"text-align: right;\">0</td><td style = \"text-align: right;\">0</td><td style = \"text-align: right;\">0</td><td style = \"text-align: right;\">0</td><td style = \"text-align: right;\">0</td><td style = \"text-align: right;\">0</td><td style = \"text-align: right;\">0</td><td style = \"text-align: right;\">0</td><td style = \"text-align: right;\">0</td><td style = \"text-align: right;\">0</td><td style = \"text-align: right;\">0</td><td style = \"text-align: right;\">0</td><td style = \"text-align: right;\">0</td><td style = \"text-align: right;\">0</td><td style = \"text-align: right;\">0</td><td style = \"text-align: right;\">0</td><td style = \"text-align: right;\">&ctdot;</td></tr></tbody></table></div>"
      ],
      "text/latex": [
       "\\begin{tabular}{r|ccccc}\n",
       "\t& Genes & A2780S\\_CT\\_S\\_AAACCTGCAGGGTATG & A2780S\\_CT\\_S\\_AAACCTGGTAGCGTCC & A2780S\\_CT\\_S\\_AAACCTGGTATAGGGC & \\\\\n",
       "\t\\hline\n",
       "\t& String31 & Int64 & Int64 & Int64 & \\\\\n",
       "\t\\hline\n",
       "\t1 & MIR1302-2HG & 0 & 0 & 0 & $\\dots$ \\\\\n",
       "\t2 & FAM138A & 0 & 0 & 0 & $\\dots$ \\\\\n",
       "\t3 & OR4F5 & 0 & 0 & 0 & $\\dots$ \\\\\n",
       "\t4 & AL627309.1 & 0 & 0 & 0 & $\\dots$ \\\\\n",
       "\t5 & AL627309.3 & 0 & 0 & 0 & $\\dots$ \\\\\n",
       "\t6 & AL627309.2 & 0 & 0 & 0 & $\\dots$ \\\\\n",
       "\t7 & AL627309.4 & 0 & 0 & 0 & $\\dots$ \\\\\n",
       "\t8 & AL732372.1 & 0 & 0 & 0 & $\\dots$ \\\\\n",
       "\t9 & OR4F29 & 0 & 0 & 0 & $\\dots$ \\\\\n",
       "\t10 & AC114498.1 & 0 & 0 & 0 & $\\dots$ \\\\\n",
       "\t11 & OR4F16 & 0 & 0 & 0 & $\\dots$ \\\\\n",
       "\t12 & AL669831.2 & 0 & 0 & 0 & $\\dots$ \\\\\n",
       "\t13 & AL669831.5 & 0 & 0 & 0 & $\\dots$ \\\\\n",
       "\t14 & FAM87B & 0 & 0 & 0 & $\\dots$ \\\\\n",
       "\t15 & LINC00115 & 0 & 0 & 0 & $\\dots$ \\\\\n",
       "\t16 & FAM41C & 0 & 0 & 0 & $\\dots$ \\\\\n",
       "\t17 & AL645608.7 & 0 & 0 & 0 & $\\dots$ \\\\\n",
       "\t18 & AL645608.3 & 0 & 0 & 0 & $\\dots$ \\\\\n",
       "\t19 & AL645608.5 & 0 & 0 & 0 & $\\dots$ \\\\\n",
       "\t20 & AL645608.1 & 0 & 0 & 0 & $\\dots$ \\\\\n",
       "\t21 & SAMD11 & 0 & 0 & 0 & $\\dots$ \\\\\n",
       "\t22 & NOC2L & 1 & 0 & 0 & $\\dots$ \\\\\n",
       "\t23 & KLHL17 & 0 & 0 & 0 & $\\dots$ \\\\\n",
       "\t24 & PLEKHN1 & 0 & 0 & 0 & $\\dots$ \\\\\n",
       "\t25 & PERM1 & 0 & 0 & 0 & $\\dots$ \\\\\n",
       "\t26 & AL645608.8 & 0 & 0 & 0 & $\\dots$ \\\\\n",
       "\t27 & HES4 & 1 & 1 & 0 & $\\dots$ \\\\\n",
       "\t28 & ISG15 & 0 & 0 & 0 & $\\dots$ \\\\\n",
       "\t29 & AL645608.2 & 0 & 0 & 0 & $\\dots$ \\\\\n",
       "\t30 & AGRN & 0 & 0 & 0 & $\\dots$ \\\\\n",
       "\t$\\dots$ & $\\dots$ & $\\dots$ & $\\dots$ & $\\dots$ &  \\\\\n",
       "\\end{tabular}\n"
      ],
      "text/plain": [
       "\u001b[1m33538×3871 DataFrame\u001b[0m\n",
       "\u001b[1m   Row \u001b[0m│\u001b[1m Genes       \u001b[0m\u001b[1m A2780S_CT_S_AAACCTGCAGGGTATG \u001b[0m\u001b[1m A2780S_CT_S_AAACCTGGTAGCGT\u001b[0m ⋯\n",
       "       │\u001b[90m String31    \u001b[0m\u001b[90m Int64                        \u001b[0m\u001b[90m Int64                     \u001b[0m ⋯\n",
       "───────┼────────────────────────────────────────────────────────────────────────\n",
       "     1 │ MIR1302-2HG                             0                             ⋯\n",
       "     2 │ FAM138A                                 0\n",
       "     3 │ OR4F5                                   0\n",
       "     4 │ AL627309.1                              0\n",
       "     5 │ AL627309.3                              0                             ⋯\n",
       "     6 │ AL627309.2                              0\n",
       "     7 │ AL627309.4                              0\n",
       "     8 │ AL732372.1                              0\n",
       "     9 │ OR4F29                                  0                             ⋯\n",
       "    10 │ AC114498.1                              0\n",
       "    11 │ OR4F16                                  0\n",
       "   ⋮   │      ⋮                    ⋮                             ⋮             ⋱\n",
       " 33529 │ AC007325.2                              0\n",
       " 33530 │ BX072566.1                              0                             ⋯\n",
       " 33531 │ AL354822.1                              0\n",
       " 33532 │ AC023491.2                              0\n",
       " 33533 │ AC004556.1                              0\n",
       " 33534 │ AC233755.2                              0                             ⋯\n",
       " 33535 │ AC233755.1                              0\n",
       " 33536 │ AC240274.1                              0\n",
       " 33537 │ AC213203.1                              0\n",
       " 33538 │ FAM231C                                 0                             ⋯\n",
       "\u001b[36m                                             3869 columns and 33517 rows omitted\u001b[0m"
      ]
     },
     "execution_count": 3,
     "metadata": {},
     "output_type": "execute_result"
    }
   ],
   "source": [
    "A2780S_raw = CSV.read(\"/Users/jingyi/Julia/A2780S_rawdata.csv\", DataFrame);\n",
    "rename!(A2780S_raw, \"Column1\" => \"Genes\")"
   ]
  },
  {
   "cell_type": "code",
   "execution_count": 4,
   "id": "9b04aa85",
   "metadata": {
    "scrolled": true
   },
   "outputs": [
    {
     "data": {
      "text/html": [
       "<div><div style = \"float: left;\"><span>3870×4 DataFrame</span></div><div style = \"float: right;\"><span style = \"font-style: italic;\">3845 rows omitted</span></div><div style = \"clear: both;\"></div></div><div class = \"data-frame\" style = \"overflow-x: scroll;\"><table class = \"data-frame\" style = \"margin-bottom: 6px;\"><thead><tr class = \"header\"><th class = \"rowNumber\" style = \"font-weight: bold; text-align: right;\">Row</th><th style = \"text-align: left;\">Cells</th><th style = \"text-align: left;\">orig.ident</th><th style = \"text-align: left;\">nCount_RNA</th><th style = \"text-align: left;\">nFeature_RNA</th></tr><tr class = \"subheader headerLastRow\"><th class = \"rowNumber\" style = \"font-weight: bold; text-align: right;\"></th><th title = \"String31\" style = \"text-align: left;\">String31</th><th title = \"String15\" style = \"text-align: left;\">String15</th><th title = \"Int64\" style = \"text-align: left;\">Int64</th><th title = \"Int64\" style = \"text-align: left;\">Int64</th></tr></thead><tbody><tr><td class = \"rowNumber\" style = \"font-weight: bold; text-align: right;\">1</td><td style = \"text-align: left;\">A2780S_CT_S_AAACCTGCAGGGTATG</td><td style = \"text-align: left;\">A2780S_CT_S</td><td style = \"text-align: right;\">19540</td><td style = \"text-align: right;\">3903</td></tr><tr><td class = \"rowNumber\" style = \"font-weight: bold; text-align: right;\">2</td><td style = \"text-align: left;\">A2780S_CT_S_AAACCTGGTAGCGTCC</td><td style = \"text-align: left;\">A2780S_CT_S</td><td style = \"text-align: right;\">19408</td><td style = \"text-align: right;\">3499</td></tr><tr><td class = \"rowNumber\" style = \"font-weight: bold; text-align: right;\">3</td><td style = \"text-align: left;\">A2780S_CT_S_AAACCTGGTATAGGGC</td><td style = \"text-align: left;\">A2780S_CT_S</td><td style = \"text-align: right;\">1643</td><td style = \"text-align: right;\">859</td></tr><tr><td class = \"rowNumber\" style = \"font-weight: bold; text-align: right;\">4</td><td style = \"text-align: left;\">A2780S_CT_S_AAACCTGGTGAAGGCT</td><td style = \"text-align: left;\">A2780S_CT_S</td><td style = \"text-align: right;\">970</td><td style = \"text-align: right;\">661</td></tr><tr><td class = \"rowNumber\" style = \"font-weight: bold; text-align: right;\">5</td><td style = \"text-align: left;\">A2780S_CT_S_AAACCTGGTGCCTTGG</td><td style = \"text-align: left;\">A2780S_CT_S</td><td style = \"text-align: right;\">580</td><td style = \"text-align: right;\">404</td></tr><tr><td class = \"rowNumber\" style = \"font-weight: bold; text-align: right;\">6</td><td style = \"text-align: left;\">A2780S_CT_S_AAACCTGTCAGTTTGG</td><td style = \"text-align: left;\">A2780S_CT_S</td><td style = \"text-align: right;\">1162</td><td style = \"text-align: right;\">680</td></tr><tr><td class = \"rowNumber\" style = \"font-weight: bold; text-align: right;\">7</td><td style = \"text-align: left;\">A2780S_CT_S_AAACCTGTCATGCAAC</td><td style = \"text-align: left;\">A2780S_CT_S</td><td style = \"text-align: right;\">1408</td><td style = \"text-align: right;\">810</td></tr><tr><td class = \"rowNumber\" style = \"font-weight: bold; text-align: right;\">8</td><td style = \"text-align: left;\">A2780S_CT_S_AAACGGGCAAGGTGTG</td><td style = \"text-align: left;\">A2780S_CT_S</td><td style = \"text-align: right;\">14693</td><td style = \"text-align: right;\">3462</td></tr><tr><td class = \"rowNumber\" style = \"font-weight: bold; text-align: right;\">9</td><td style = \"text-align: left;\">A2780S_CT_S_AAACGGGCACATCTTT</td><td style = \"text-align: left;\">A2780S_CT_S</td><td style = \"text-align: right;\">6551</td><td style = \"text-align: right;\">2232</td></tr><tr><td class = \"rowNumber\" style = \"font-weight: bold; text-align: right;\">10</td><td style = \"text-align: left;\">A2780S_CT_S_AAACGGGCAGGCGATA</td><td style = \"text-align: left;\">A2780S_CT_S</td><td style = \"text-align: right;\">2156</td><td style = \"text-align: right;\">864</td></tr><tr><td class = \"rowNumber\" style = \"font-weight: bold; text-align: right;\">11</td><td style = \"text-align: left;\">A2780S_CT_S_AAACGGGTCCGAAGAG</td><td style = \"text-align: left;\">A2780S_CT_S</td><td style = \"text-align: right;\">638</td><td style = \"text-align: right;\">415</td></tr><tr><td class = \"rowNumber\" style = \"font-weight: bold; text-align: right;\">12</td><td style = \"text-align: left;\">A2780S_CT_S_AAACGGGTCCTTTCGG</td><td style = \"text-align: left;\">A2780S_CT_S</td><td style = \"text-align: right;\">4667</td><td style = \"text-align: right;\">1749</td></tr><tr><td class = \"rowNumber\" style = \"font-weight: bold; text-align: right;\">13</td><td style = \"text-align: left;\">A2780S_CT_S_AAACGGGTCTTCAACT</td><td style = \"text-align: left;\">A2780S_CT_S</td><td style = \"text-align: right;\">14647</td><td style = \"text-align: right;\">3743</td></tr><tr><td style = \"text-align: right;\">&vellip;</td><td style = \"text-align: right;\">&vellip;</td><td style = \"text-align: right;\">&vellip;</td><td style = \"text-align: right;\">&vellip;</td><td style = \"text-align: right;\">&vellip;</td></tr><tr><td class = \"rowNumber\" style = \"font-weight: bold; text-align: right;\">3859</td><td style = \"text-align: left;\">A2780S_CT_R_TTTCCTCGTGCACCAC</td><td style = \"text-align: left;\">A2780S_CT_R</td><td style = \"text-align: right;\">30806</td><td style = \"text-align: right;\">4463</td></tr><tr><td class = \"rowNumber\" style = \"font-weight: bold; text-align: right;\">3860</td><td style = \"text-align: left;\">A2780S_CT_R_TTTCCTCTCGCGGATC</td><td style = \"text-align: left;\">A2780S_CT_R</td><td style = \"text-align: right;\">4084</td><td style = \"text-align: right;\">1926</td></tr><tr><td class = \"rowNumber\" style = \"font-weight: bold; text-align: right;\">3861</td><td style = \"text-align: left;\">A2780S_CT_R_TTTGCGCAGTAGGTGC</td><td style = \"text-align: left;\">A2780S_CT_R</td><td style = \"text-align: right;\">18452</td><td style = \"text-align: right;\">3845</td></tr><tr><td class = \"rowNumber\" style = \"font-weight: bold; text-align: right;\">3862</td><td style = \"text-align: left;\">A2780S_CT_R_TTTGGTTCAAACCCAT</td><td style = \"text-align: left;\">A2780S_CT_R</td><td style = \"text-align: right;\">30439</td><td style = \"text-align: right;\">4971</td></tr><tr><td class = \"rowNumber\" style = \"font-weight: bold; text-align: right;\">3863</td><td style = \"text-align: left;\">A2780S_CT_R_TTTGGTTCACAGACAG</td><td style = \"text-align: left;\">A2780S_CT_R</td><td style = \"text-align: right;\">681</td><td style = \"text-align: right;\">251</td></tr><tr><td class = \"rowNumber\" style = \"font-weight: bold; text-align: right;\">3864</td><td style = \"text-align: left;\">A2780S_CT_R_TTTGGTTGTAGCGCTC</td><td style = \"text-align: left;\">A2780S_CT_R</td><td style = \"text-align: right;\">6891</td><td style = \"text-align: right;\">1710</td></tr><tr><td class = \"rowNumber\" style = \"font-weight: bold; text-align: right;\">3865</td><td style = \"text-align: left;\">A2780S_CT_R_TTTGGTTGTTACGTCA</td><td style = \"text-align: left;\">A2780S_CT_R</td><td style = \"text-align: right;\">541</td><td style = \"text-align: right;\">386</td></tr><tr><td class = \"rowNumber\" style = \"font-weight: bold; text-align: right;\">3866</td><td style = \"text-align: left;\">A2780S_CT_R_TTTGTCACAACAACCT</td><td style = \"text-align: left;\">A2780S_CT_R</td><td style = \"text-align: right;\">19118</td><td style = \"text-align: right;\">3891</td></tr><tr><td class = \"rowNumber\" style = \"font-weight: bold; text-align: right;\">3867</td><td style = \"text-align: left;\">A2780S_CT_R_TTTGTCACAAGAAAGG</td><td style = \"text-align: left;\">A2780S_CT_R</td><td style = \"text-align: right;\">2483</td><td style = \"text-align: right;\">700</td></tr><tr><td class = \"rowNumber\" style = \"font-weight: bold; text-align: right;\">3868</td><td style = \"text-align: left;\">A2780S_CT_R_TTTGTCAGTCTGGTCG</td><td style = \"text-align: left;\">A2780S_CT_R</td><td style = \"text-align: right;\">18152</td><td style = \"text-align: right;\">3899</td></tr><tr><td class = \"rowNumber\" style = \"font-weight: bold; text-align: right;\">3869</td><td style = \"text-align: left;\">A2780S_CT_R_TTTGTCATCTGAAAGA</td><td style = \"text-align: left;\">A2780S_CT_R</td><td style = \"text-align: right;\">1014</td><td style = \"text-align: right;\">683</td></tr><tr><td class = \"rowNumber\" style = \"font-weight: bold; text-align: right;\">3870</td><td style = \"text-align: left;\">A2780S_CT_R_TTTGTCATCTTGACGA</td><td style = \"text-align: left;\">A2780S_CT_R</td><td style = \"text-align: right;\">3475</td><td style = \"text-align: right;\">656</td></tr></tbody></table></div>"
      ],
      "text/latex": [
       "\\begin{tabular}{r|cccc}\n",
       "\t& Cells & orig.ident & nCount\\_RNA & nFeature\\_RNA\\\\\n",
       "\t\\hline\n",
       "\t& String31 & String15 & Int64 & Int64\\\\\n",
       "\t\\hline\n",
       "\t1 & A2780S\\_CT\\_S\\_AAACCTGCAGGGTATG & A2780S\\_CT\\_S & 19540 & 3903 \\\\\n",
       "\t2 & A2780S\\_CT\\_S\\_AAACCTGGTAGCGTCC & A2780S\\_CT\\_S & 19408 & 3499 \\\\\n",
       "\t3 & A2780S\\_CT\\_S\\_AAACCTGGTATAGGGC & A2780S\\_CT\\_S & 1643 & 859 \\\\\n",
       "\t4 & A2780S\\_CT\\_S\\_AAACCTGGTGAAGGCT & A2780S\\_CT\\_S & 970 & 661 \\\\\n",
       "\t5 & A2780S\\_CT\\_S\\_AAACCTGGTGCCTTGG & A2780S\\_CT\\_S & 580 & 404 \\\\\n",
       "\t6 & A2780S\\_CT\\_S\\_AAACCTGTCAGTTTGG & A2780S\\_CT\\_S & 1162 & 680 \\\\\n",
       "\t7 & A2780S\\_CT\\_S\\_AAACCTGTCATGCAAC & A2780S\\_CT\\_S & 1408 & 810 \\\\\n",
       "\t8 & A2780S\\_CT\\_S\\_AAACGGGCAAGGTGTG & A2780S\\_CT\\_S & 14693 & 3462 \\\\\n",
       "\t9 & A2780S\\_CT\\_S\\_AAACGGGCACATCTTT & A2780S\\_CT\\_S & 6551 & 2232 \\\\\n",
       "\t10 & A2780S\\_CT\\_S\\_AAACGGGCAGGCGATA & A2780S\\_CT\\_S & 2156 & 864 \\\\\n",
       "\t11 & A2780S\\_CT\\_S\\_AAACGGGTCCGAAGAG & A2780S\\_CT\\_S & 638 & 415 \\\\\n",
       "\t12 & A2780S\\_CT\\_S\\_AAACGGGTCCTTTCGG & A2780S\\_CT\\_S & 4667 & 1749 \\\\\n",
       "\t13 & A2780S\\_CT\\_S\\_AAACGGGTCTTCAACT & A2780S\\_CT\\_S & 14647 & 3743 \\\\\n",
       "\t14 & A2780S\\_CT\\_S\\_AAAGATGAGGCCCTTG & A2780S\\_CT\\_S & 2358 & 1097 \\\\\n",
       "\t15 & A2780S\\_CT\\_S\\_AAAGATGTCCGCTGTT & A2780S\\_CT\\_S & 1128 & 656 \\\\\n",
       "\t16 & A2780S\\_CT\\_S\\_AAAGATGTCGATCCCT & A2780S\\_CT\\_S & 1246 & 627 \\\\\n",
       "\t17 & A2780S\\_CT\\_S\\_AAAGCAACACGGTGTC & A2780S\\_CT\\_S & 16416 & 3604 \\\\\n",
       "\t18 & A2780S\\_CT\\_S\\_AAAGCAACACTTCTGC & A2780S\\_CT\\_S & 12951 & 3454 \\\\\n",
       "\t19 & A2780S\\_CT\\_S\\_AAAGCAAGTCACTTCC & A2780S\\_CT\\_S & 650 & 434 \\\\\n",
       "\t20 & A2780S\\_CT\\_S\\_AAAGCAAGTGCGATAG & A2780S\\_CT\\_S & 21276 & 4060 \\\\\n",
       "\t21 & A2780S\\_CT\\_S\\_AAAGCAATCCAGAAGG & A2780S\\_CT\\_S & 900 & 551 \\\\\n",
       "\t22 & A2780S\\_CT\\_S\\_AAAGCAATCGAGGTAG & A2780S\\_CT\\_S & 1708 & 368 \\\\\n",
       "\t23 & A2780S\\_CT\\_S\\_AAAGTAGAGCCTTGAT & A2780S\\_CT\\_S & 537 & 141 \\\\\n",
       "\t24 & A2780S\\_CT\\_S\\_AAAGTAGCACATCCAA & A2780S\\_CT\\_S & 7867 & 2527 \\\\\n",
       "\t25 & A2780S\\_CT\\_S\\_AAAGTAGCAGTCAGCC & A2780S\\_CT\\_S & 616 & 242 \\\\\n",
       "\t26 & A2780S\\_CT\\_S\\_AAAGTAGCATCTACGA & A2780S\\_CT\\_S & 3691 & 1519 \\\\\n",
       "\t27 & A2780S\\_CT\\_S\\_AAAGTAGGTCGAACAG & A2780S\\_CT\\_S & 1189 & 189 \\\\\n",
       "\t28 & A2780S\\_CT\\_S\\_AAAGTAGTCACGCGGT & A2780S\\_CT\\_S & 14666 & 3569 \\\\\n",
       "\t29 & A2780S\\_CT\\_S\\_AAATGCCAGTACGACG & A2780S\\_CT\\_S & 1473 & 977 \\\\\n",
       "\t30 & A2780S\\_CT\\_S\\_AAATGCCGTTAAAGTG & A2780S\\_CT\\_S & 2979 & 1219 \\\\\n",
       "\t$\\dots$ & $\\dots$ & $\\dots$ & $\\dots$ & $\\dots$ \\\\\n",
       "\\end{tabular}\n"
      ],
      "text/plain": [
       "\u001b[1m3870×4 DataFrame\u001b[0m\n",
       "\u001b[1m  Row \u001b[0m│\u001b[1m Cells                        \u001b[0m\u001b[1m orig.ident  \u001b[0m\u001b[1m nCount_RNA \u001b[0m\u001b[1m nFeature_RNA \u001b[0m\n",
       "      │\u001b[90m String31                     \u001b[0m\u001b[90m String15    \u001b[0m\u001b[90m Int64      \u001b[0m\u001b[90m Int64        \u001b[0m\n",
       "──────┼─────────────────────────────────────────────────────────────────────\n",
       "    1 │ A2780S_CT_S_AAACCTGCAGGGTATG  A2780S_CT_S       19540          3903\n",
       "    2 │ A2780S_CT_S_AAACCTGGTAGCGTCC  A2780S_CT_S       19408          3499\n",
       "    3 │ A2780S_CT_S_AAACCTGGTATAGGGC  A2780S_CT_S        1643           859\n",
       "    4 │ A2780S_CT_S_AAACCTGGTGAAGGCT  A2780S_CT_S         970           661\n",
       "    5 │ A2780S_CT_S_AAACCTGGTGCCTTGG  A2780S_CT_S         580           404\n",
       "    6 │ A2780S_CT_S_AAACCTGTCAGTTTGG  A2780S_CT_S        1162           680\n",
       "    7 │ A2780S_CT_S_AAACCTGTCATGCAAC  A2780S_CT_S        1408           810\n",
       "    8 │ A2780S_CT_S_AAACGGGCAAGGTGTG  A2780S_CT_S       14693          3462\n",
       "    9 │ A2780S_CT_S_AAACGGGCACATCTTT  A2780S_CT_S        6551          2232\n",
       "   10 │ A2780S_CT_S_AAACGGGCAGGCGATA  A2780S_CT_S        2156           864\n",
       "   11 │ A2780S_CT_S_AAACGGGTCCGAAGAG  A2780S_CT_S         638           415\n",
       "  ⋮   │              ⋮                     ⋮           ⋮            ⋮\n",
       " 3861 │ A2780S_CT_R_TTTGCGCAGTAGGTGC  A2780S_CT_R       18452          3845\n",
       " 3862 │ A2780S_CT_R_TTTGGTTCAAACCCAT  A2780S_CT_R       30439          4971\n",
       " 3863 │ A2780S_CT_R_TTTGGTTCACAGACAG  A2780S_CT_R         681           251\n",
       " 3864 │ A2780S_CT_R_TTTGGTTGTAGCGCTC  A2780S_CT_R        6891          1710\n",
       " 3865 │ A2780S_CT_R_TTTGGTTGTTACGTCA  A2780S_CT_R         541           386\n",
       " 3866 │ A2780S_CT_R_TTTGTCACAACAACCT  A2780S_CT_R       19118          3891\n",
       " 3867 │ A2780S_CT_R_TTTGTCACAAGAAAGG  A2780S_CT_R        2483           700\n",
       " 3868 │ A2780S_CT_R_TTTGTCAGTCTGGTCG  A2780S_CT_R       18152          3899\n",
       " 3869 │ A2780S_CT_R_TTTGTCATCTGAAAGA  A2780S_CT_R        1014           683\n",
       " 3870 │ A2780S_CT_R_TTTGTCATCTTGACGA  A2780S_CT_R        3475           656\n",
       "\u001b[36m                                                           3849 rows omitted\u001b[0m"
      ]
     },
     "execution_count": 4,
     "metadata": {},
     "output_type": "execute_result"
    }
   ],
   "source": [
    "A2780S_meta = CSV.read(\"/Users/jingyi/Julia/A2780S_metadata.csv\", DataFrame);\n",
    "rename!(A2780S_meta, \"Column1\" => \"Cells\")"
   ]
  },
  {
   "cell_type": "code",
   "execution_count": 5,
   "id": "1d3004d8",
   "metadata": {
    "scrolled": false
   },
   "outputs": [
    {
     "data": {
      "text/plain": [
       "33538×3870 Matrix{Int64}:\n",
       " 0  0  0  0  0  0  0  0  0  0  0  0  0  …  0  0  0  0  0  0  0  0  0  0  0  0\n",
       " 0  0  0  0  0  0  0  0  0  0  0  0  0     0  0  0  0  0  0  0  0  0  0  0  0\n",
       " 0  0  0  0  0  0  0  0  0  0  0  0  0     0  0  0  0  0  0  0  0  0  0  0  0\n",
       " 0  0  0  0  0  0  0  0  0  0  0  0  0     0  0  0  0  0  0  0  0  0  0  0  0\n",
       " 0  0  0  0  0  0  0  0  0  0  0  0  0     0  0  0  0  0  0  0  0  0  0  0  0\n",
       " 0  0  0  0  0  0  0  0  0  0  0  0  0  …  0  0  0  0  0  0  0  0  0  0  0  0\n",
       " 0  0  0  0  0  0  0  0  0  0  0  0  0     0  0  0  0  0  0  0  0  0  0  0  0\n",
       " 0  0  0  0  0  0  0  0  0  0  0  0  0     0  0  0  0  0  0  0  0  0  0  0  0\n",
       " 0  0  0  0  0  0  0  0  0  0  0  0  0     0  0  0  0  0  0  0  0  0  0  0  0\n",
       " 0  0  0  0  0  0  0  0  0  0  0  0  0     0  0  0  0  0  0  0  0  0  0  0  0\n",
       " 0  0  0  0  0  0  0  0  0  0  0  0  0  …  0  0  0  0  0  0  0  0  0  0  0  0\n",
       " 0  0  0  0  0  0  0  0  0  0  0  0  0     0  0  0  0  0  0  0  0  0  0  0  0\n",
       " 0  0  0  0  0  0  0  0  0  0  0  0  0     0  0  0  0  0  0  0  0  0  0  0  0\n",
       " ⋮              ⋮              ⋮        ⋱        ⋮              ⋮           \n",
       " 0  0  0  0  0  0  0  0  0  0  0  0  0     0  0  0  0  0  0  0  0  0  0  0  0\n",
       " 0  0  0  0  0  0  0  0  0  0  0  0  0     0  0  0  0  0  0  0  0  0  0  0  0\n",
       " 0  0  0  0  0  0  0  0  0  0  0  0  0     0  0  0  0  0  0  0  0  0  0  0  0\n",
       " 0  0  0  0  0  0  0  0  0  0  0  0  0     0  0  0  0  0  0  0  0  0  0  0  0\n",
       " 0  0  0  0  0  0  0  0  0  0  0  0  0  …  0  0  0  0  0  0  0  0  0  0  0  0\n",
       " 0  0  0  0  0  0  0  0  0  0  0  0  0     0  0  0  0  0  0  0  0  0  0  0  0\n",
       " 0  0  0  0  0  0  0  0  0  0  0  0  0     0  0  0  0  0  0  0  0  0  0  0  0\n",
       " 0  0  0  0  0  0  0  0  0  0  0  0  0     0  0  0  0  0  0  0  0  0  0  0  0\n",
       " 0  0  0  0  0  0  0  0  0  0  0  0  0     0  0  0  0  0  0  0  0  0  0  0  0\n",
       " 0  1  0  0  0  0  0  0  0  0  0  0  0  …  0  0  0  0  0  0  0  0  0  0  0  0\n",
       " 0  0  0  0  0  0  0  0  0  0  0  0  0     0  0  0  0  0  0  0  0  0  0  0  0\n",
       " 0  0  0  0  0  0  0  0  0  0  0  0  0     0  0  0  0  0  0  0  0  0  0  0  0"
      ]
     },
     "execution_count": 5,
     "metadata": {},
     "output_type": "execute_result"
    }
   ],
   "source": [
    "matrix = Matrix(A2780S_raw[:, 2:end])"
   ]
  },
  {
   "cell_type": "code",
   "execution_count": 6,
   "id": "b35686f9",
   "metadata": {},
   "outputs": [
    {
     "data": {
      "text/plain": [
       "33538×3870 SparseMatrixCSC{Int64, Int64} with 6929610 stored entries:\n",
       "⎡⣿⣿⣿⣿⣿⣿⎤\n",
       "⎢⣿⣿⣿⣿⣿⣿⎥\n",
       "⎢⣿⣿⣿⣿⣿⣿⎥\n",
       "⎢⣿⣿⣿⣿⣿⣿⎥\n",
       "⎢⣿⣿⣿⣿⣿⣿⎥\n",
       "⎢⣿⣿⣿⣿⣿⣿⎥\n",
       "⎢⣿⣿⣿⣿⣿⣿⎥\n",
       "⎢⣿⣿⣿⣿⣿⣿⎥\n",
       "⎢⣿⣿⣿⣿⣿⣿⎥\n",
       "⎢⣿⣿⣿⣿⣿⣿⎥\n",
       "⎢⣿⣿⣿⣿⣿⣿⎥\n",
       "⎢⣿⣿⣿⣿⣿⣿⎥\n",
       "⎢⣿⣿⣿⣿⣿⣿⎥\n",
       "⎢⣿⣿⣿⣿⣿⣿⎥\n",
       "⎢⣿⣿⣿⣿⣿⣿⎥\n",
       "⎢⣿⣿⣿⣿⣿⣿⎥\n",
       "⎢⣿⣿⣿⣿⣿⣿⎥\n",
       "⎢⣿⣿⣿⣿⣿⣿⎥\n",
       "⎢⣿⣿⣿⣿⣿⣿⎥\n",
       "⎢⣿⣿⣿⣿⣿⣿⎥\n",
       "⎢⣿⣿⣿⣿⣿⣿⎥\n",
       "⎢⣿⣿⣿⣿⣿⣿⎥\n",
       "⎢⣿⣿⣿⣿⣿⣿⎥\n",
       "⎢⣿⣿⣿⣿⣿⣿⎥\n",
       "⎢⣿⣿⣿⣿⣿⣿⎥\n",
       "⎣⣿⣿⣿⣿⣿⣿⎦"
      ]
     },
     "execution_count": 6,
     "metadata": {},
     "output_type": "execute_result"
    }
   ],
   "source": [
    "matrix_sparsed = SparseArrays.sparse(matrix)"
   ]
  },
  {
   "cell_type": "code",
   "execution_count": 7,
   "id": "9da7b9c5",
   "metadata": {},
   "outputs": [
    {
     "data": {
      "text/plain": [
       "33538-element Vector{Float64}:\n",
       " 0.0\n",
       " 0.0\n",
       " 0.0\n",
       " 0.0007751937984496124\n",
       " 0.0\n",
       " 0.0\n",
       " 0.0\n",
       " 0.0\n",
       " 0.0\n",
       " 0.0\n",
       " 0.0\n",
       " 0.0\n",
       " 0.020930232558139535\n",
       " ⋮\n",
       " 0.0\n",
       " 0.013953488372093023\n",
       " 0.0\n",
       " 0.0\n",
       " 0.006459948320413436\n",
       " 0.0\n",
       " 0.00025839793281653745\n",
       " 0.0\n",
       " 0.0\n",
       " 0.04211886304909561\n",
       " 0.0\n",
       " 0.0"
      ]
     },
     "execution_count": 7,
     "metadata": {},
     "output_type": "execute_result"
    }
   ],
   "source": [
    "mean_val = vec(mean(matrix, dims=2))"
   ]
  },
  {
   "cell_type": "code",
   "execution_count": 8,
   "id": "d0cfd50d",
   "metadata": {},
   "outputs": [
    {
     "data": {
      "text/html": [
       "<div><div style = \"float: left;\"><span>33538×3 DataFrame</span></div><div style = \"float: right;\"><span style = \"font-style: italic;\">33513 rows omitted</span></div><div style = \"clear: both;\"></div></div><div class = \"data-frame\" style = \"overflow-x: scroll;\"><table class = \"data-frame\" style = \"margin-bottom: 6px;\"><thead><tr class = \"header\"><th class = \"rowNumber\" style = \"font-weight: bold; text-align: right;\">Row</th><th style = \"text-align: left;\">Genes</th><th style = \"text-align: left;\">id</th><th style = \"text-align: left;\">mean</th></tr><tr class = \"subheader headerLastRow\"><th class = \"rowNumber\" style = \"font-weight: bold; text-align: right;\"></th><th title = \"String31\" style = \"text-align: left;\">String31</th><th title = \"String31\" style = \"text-align: left;\">String31</th><th title = \"Float64\" style = \"text-align: left;\">Float64</th></tr></thead><tbody><tr><td class = \"rowNumber\" style = \"font-weight: bold; text-align: right;\">1</td><td style = \"text-align: left;\">MIR1302-2HG</td><td style = \"text-align: left;\">MIR1302-2HG</td><td style = \"text-align: right;\">0.0</td></tr><tr><td class = \"rowNumber\" style = \"font-weight: bold; text-align: right;\">2</td><td style = \"text-align: left;\">FAM138A</td><td style = \"text-align: left;\">FAM138A</td><td style = \"text-align: right;\">0.0</td></tr><tr><td class = \"rowNumber\" style = \"font-weight: bold; text-align: right;\">3</td><td style = \"text-align: left;\">OR4F5</td><td style = \"text-align: left;\">OR4F5</td><td style = \"text-align: right;\">0.0</td></tr><tr><td class = \"rowNumber\" style = \"font-weight: bold; text-align: right;\">4</td><td style = \"text-align: left;\">AL627309.1</td><td style = \"text-align: left;\">AL627309.1</td><td style = \"text-align: right;\">0.000775194</td></tr><tr><td class = \"rowNumber\" style = \"font-weight: bold; text-align: right;\">5</td><td style = \"text-align: left;\">AL627309.3</td><td style = \"text-align: left;\">AL627309.3</td><td style = \"text-align: right;\">0.0</td></tr><tr><td class = \"rowNumber\" style = \"font-weight: bold; text-align: right;\">6</td><td style = \"text-align: left;\">AL627309.2</td><td style = \"text-align: left;\">AL627309.2</td><td style = \"text-align: right;\">0.0</td></tr><tr><td class = \"rowNumber\" style = \"font-weight: bold; text-align: right;\">7</td><td style = \"text-align: left;\">AL627309.4</td><td style = \"text-align: left;\">AL627309.4</td><td style = \"text-align: right;\">0.0</td></tr><tr><td class = \"rowNumber\" style = \"font-weight: bold; text-align: right;\">8</td><td style = \"text-align: left;\">AL732372.1</td><td style = \"text-align: left;\">AL732372.1</td><td style = \"text-align: right;\">0.0</td></tr><tr><td class = \"rowNumber\" style = \"font-weight: bold; text-align: right;\">9</td><td style = \"text-align: left;\">OR4F29</td><td style = \"text-align: left;\">OR4F29</td><td style = \"text-align: right;\">0.0</td></tr><tr><td class = \"rowNumber\" style = \"font-weight: bold; text-align: right;\">10</td><td style = \"text-align: left;\">AC114498.1</td><td style = \"text-align: left;\">AC114498.1</td><td style = \"text-align: right;\">0.0</td></tr><tr><td class = \"rowNumber\" style = \"font-weight: bold; text-align: right;\">11</td><td style = \"text-align: left;\">OR4F16</td><td style = \"text-align: left;\">OR4F16</td><td style = \"text-align: right;\">0.0</td></tr><tr><td class = \"rowNumber\" style = \"font-weight: bold; text-align: right;\">12</td><td style = \"text-align: left;\">AL669831.2</td><td style = \"text-align: left;\">AL669831.2</td><td style = \"text-align: right;\">0.0</td></tr><tr><td class = \"rowNumber\" style = \"font-weight: bold; text-align: right;\">13</td><td style = \"text-align: left;\">AL669831.5</td><td style = \"text-align: left;\">AL669831.5</td><td style = \"text-align: right;\">0.0209302</td></tr><tr><td style = \"text-align: right;\">&vellip;</td><td style = \"text-align: right;\">&vellip;</td><td style = \"text-align: right;\">&vellip;</td><td style = \"text-align: right;\">&vellip;</td></tr><tr><td class = \"rowNumber\" style = \"font-weight: bold; text-align: right;\">33527</td><td style = \"text-align: left;\">AC007325.1</td><td style = \"text-align: left;\">AC007325.1</td><td style = \"text-align: right;\">0.0</td></tr><tr><td class = \"rowNumber\" style = \"font-weight: bold; text-align: right;\">33528</td><td style = \"text-align: left;\">AC007325.4</td><td style = \"text-align: left;\">AC007325.4</td><td style = \"text-align: right;\">0.0139535</td></tr><tr><td class = \"rowNumber\" style = \"font-weight: bold; text-align: right;\">33529</td><td style = \"text-align: left;\">AC007325.2</td><td style = \"text-align: left;\">AC007325.2</td><td style = \"text-align: right;\">0.0</td></tr><tr><td class = \"rowNumber\" style = \"font-weight: bold; text-align: right;\">33530</td><td style = \"text-align: left;\">BX072566.1</td><td style = \"text-align: left;\">BX072566.1</td><td style = \"text-align: right;\">0.0</td></tr><tr><td class = \"rowNumber\" style = \"font-weight: bold; text-align: right;\">33531</td><td style = \"text-align: left;\">AL354822.1</td><td style = \"text-align: left;\">AL354822.1</td><td style = \"text-align: right;\">0.00645995</td></tr><tr><td class = \"rowNumber\" style = \"font-weight: bold; text-align: right;\">33532</td><td style = \"text-align: left;\">AC023491.2</td><td style = \"text-align: left;\">AC023491.2</td><td style = \"text-align: right;\">0.0</td></tr><tr><td class = \"rowNumber\" style = \"font-weight: bold; text-align: right;\">33533</td><td style = \"text-align: left;\">AC004556.1</td><td style = \"text-align: left;\">AC004556.1</td><td style = \"text-align: right;\">0.000258398</td></tr><tr><td class = \"rowNumber\" style = \"font-weight: bold; text-align: right;\">33534</td><td style = \"text-align: left;\">AC233755.2</td><td style = \"text-align: left;\">AC233755.2</td><td style = \"text-align: right;\">0.0</td></tr><tr><td class = \"rowNumber\" style = \"font-weight: bold; text-align: right;\">33535</td><td style = \"text-align: left;\">AC233755.1</td><td style = \"text-align: left;\">AC233755.1</td><td style = \"text-align: right;\">0.0</td></tr><tr><td class = \"rowNumber\" style = \"font-weight: bold; text-align: right;\">33536</td><td style = \"text-align: left;\">AC240274.1</td><td style = \"text-align: left;\">AC240274.1</td><td style = \"text-align: right;\">0.0421189</td></tr><tr><td class = \"rowNumber\" style = \"font-weight: bold; text-align: right;\">33537</td><td style = \"text-align: left;\">AC213203.1</td><td style = \"text-align: left;\">AC213203.1</td><td style = \"text-align: right;\">0.0</td></tr><tr><td class = \"rowNumber\" style = \"font-weight: bold; text-align: right;\">33538</td><td style = \"text-align: left;\">FAM231C</td><td style = \"text-align: left;\">FAM231C</td><td style = \"text-align: right;\">0.0</td></tr></tbody></table></div>"
      ],
      "text/latex": [
       "\\begin{tabular}{r|ccc}\n",
       "\t& Genes & id & mean\\\\\n",
       "\t\\hline\n",
       "\t& String31 & String31 & Float64\\\\\n",
       "\t\\hline\n",
       "\t1 & MIR1302-2HG & MIR1302-2HG & 0.0 \\\\\n",
       "\t2 & FAM138A & FAM138A & 0.0 \\\\\n",
       "\t3 & OR4F5 & OR4F5 & 0.0 \\\\\n",
       "\t4 & AL627309.1 & AL627309.1 & 0.000775194 \\\\\n",
       "\t5 & AL627309.3 & AL627309.3 & 0.0 \\\\\n",
       "\t6 & AL627309.2 & AL627309.2 & 0.0 \\\\\n",
       "\t7 & AL627309.4 & AL627309.4 & 0.0 \\\\\n",
       "\t8 & AL732372.1 & AL732372.1 & 0.0 \\\\\n",
       "\t9 & OR4F29 & OR4F29 & 0.0 \\\\\n",
       "\t10 & AC114498.1 & AC114498.1 & 0.0 \\\\\n",
       "\t11 & OR4F16 & OR4F16 & 0.0 \\\\\n",
       "\t12 & AL669831.2 & AL669831.2 & 0.0 \\\\\n",
       "\t13 & AL669831.5 & AL669831.5 & 0.0209302 \\\\\n",
       "\t14 & FAM87B & FAM87B & 0.00697674 \\\\\n",
       "\t15 & LINC00115 & LINC00115 & 0.0116279 \\\\\n",
       "\t16 & FAM41C & FAM41C & 0.0170543 \\\\\n",
       "\t17 & AL645608.7 & AL645608.7 & 0.00129199 \\\\\n",
       "\t18 & AL645608.3 & AL645608.3 & 0.0178295 \\\\\n",
       "\t19 & AL645608.5 & AL645608.5 & 0.00232558 \\\\\n",
       "\t20 & AL645608.1 & AL645608.1 & 0.018863 \\\\\n",
       "\t21 & SAMD11 & SAMD11 & 0.148062 \\\\\n",
       "\t22 & NOC2L & NOC2L & 0.748579 \\\\\n",
       "\t23 & KLHL17 & KLHL17 & 0.0255814 \\\\\n",
       "\t24 & PLEKHN1 & PLEKHN1 & 0.00775194 \\\\\n",
       "\t25 & PERM1 & PERM1 & 0.000258398 \\\\\n",
       "\t26 & AL645608.8 & AL645608.8 & 0.00206718 \\\\\n",
       "\t27 & HES4 & HES4 & 0.685271 \\\\\n",
       "\t28 & ISG15 & ISG15 & 0.339276 \\\\\n",
       "\t29 & AL645608.2 & AL645608.2 & 0.0 \\\\\n",
       "\t30 & AGRN & AGRN & 0.0767442 \\\\\n",
       "\t$\\dots$ & $\\dots$ & $\\dots$ & $\\dots$ \\\\\n",
       "\\end{tabular}\n"
      ],
      "text/plain": [
       "\u001b[1m33538×3 DataFrame\u001b[0m\n",
       "\u001b[1m   Row \u001b[0m│\u001b[1m Genes       \u001b[0m\u001b[1m id          \u001b[0m\u001b[1m mean        \u001b[0m\n",
       "       │\u001b[90m String31    \u001b[0m\u001b[90m String31    \u001b[0m\u001b[90m Float64     \u001b[0m\n",
       "───────┼───────────────────────────────────────\n",
       "     1 │ MIR1302-2HG  MIR1302-2HG  0.0\n",
       "     2 │ FAM138A      FAM138A      0.0\n",
       "     3 │ OR4F5        OR4F5        0.0\n",
       "     4 │ AL627309.1   AL627309.1   0.000775194\n",
       "     5 │ AL627309.3   AL627309.3   0.0\n",
       "     6 │ AL627309.2   AL627309.2   0.0\n",
       "     7 │ AL627309.4   AL627309.4   0.0\n",
       "     8 │ AL732372.1   AL732372.1   0.0\n",
       "     9 │ OR4F29       OR4F29       0.0\n",
       "    10 │ AC114498.1   AC114498.1   0.0\n",
       "    11 │ OR4F16       OR4F16       0.0\n",
       "   ⋮   │      ⋮            ⋮            ⋮\n",
       " 33529 │ AC007325.2   AC007325.2   0.0\n",
       " 33530 │ BX072566.1   BX072566.1   0.0\n",
       " 33531 │ AL354822.1   AL354822.1   0.00645995\n",
       " 33532 │ AC023491.2   AC023491.2   0.0\n",
       " 33533 │ AC004556.1   AC004556.1   0.000258398\n",
       " 33534 │ AC233755.2   AC233755.2   0.0\n",
       " 33535 │ AC233755.1   AC233755.1   0.0\n",
       " 33536 │ AC240274.1   AC240274.1   0.0421189\n",
       " 33537 │ AC213203.1   AC213203.1   0.0\n",
       " 33538 │ FAM231C      FAM231C      0.0\n",
       "\u001b[36m                             33517 rows omitted\u001b[0m"
      ]
     },
     "execution_count": 8,
     "metadata": {},
     "output_type": "execute_result"
    }
   ],
   "source": [
    "var = DataFrame(Genes = copy(A2780S_raw[!,1]));\n",
    "var.id = var.Genes;\n",
    "var.mean = mean_val;\n",
    "var"
   ]
  },
  {
   "cell_type": "code",
   "execution_count": 9,
   "id": "d684b0da",
   "metadata": {
    "scrolled": true
   },
   "outputs": [
    {
     "data": {
      "text/html": [
       "<div><div style = \"float: left;\"><span>3870×5 DataFrame</span></div><div style = \"float: right;\"><span style = \"font-style: italic;\">3845 rows omitted</span></div><div style = \"clear: both;\"></div></div><div class = \"data-frame\" style = \"overflow-x: scroll;\"><table class = \"data-frame\" style = \"margin-bottom: 6px;\"><thead><tr class = \"header\"><th class = \"rowNumber\" style = \"font-weight: bold; text-align: right;\">Row</th><th style = \"text-align: left;\">Cells</th><th style = \"text-align: left;\">orig.ident</th><th style = \"text-align: left;\">nCount_RNA</th><th style = \"text-align: left;\">nFeature_RNA</th><th style = \"text-align: left;\">id</th></tr><tr class = \"subheader headerLastRow\"><th class = \"rowNumber\" style = \"font-weight: bold; text-align: right;\"></th><th title = \"String31\" style = \"text-align: left;\">String31</th><th title = \"String15\" style = \"text-align: left;\">String15</th><th title = \"Int64\" style = \"text-align: left;\">Int64</th><th title = \"Int64\" style = \"text-align: left;\">Int64</th><th title = \"String31\" style = \"text-align: left;\">String31</th></tr></thead><tbody><tr><td class = \"rowNumber\" style = \"font-weight: bold; text-align: right;\">1</td><td style = \"text-align: left;\">A2780S_CT_S_AAACCTGCAGGGTATG</td><td style = \"text-align: left;\">A2780S_CT_S</td><td style = \"text-align: right;\">19540</td><td style = \"text-align: right;\">3903</td><td style = \"text-align: left;\">A2780S_CT_S_AAACCTGCAGGGTATG</td></tr><tr><td class = \"rowNumber\" style = \"font-weight: bold; text-align: right;\">2</td><td style = \"text-align: left;\">A2780S_CT_S_AAACCTGGTAGCGTCC</td><td style = \"text-align: left;\">A2780S_CT_S</td><td style = \"text-align: right;\">19408</td><td style = \"text-align: right;\">3499</td><td style = \"text-align: left;\">A2780S_CT_S_AAACCTGGTAGCGTCC</td></tr><tr><td class = \"rowNumber\" style = \"font-weight: bold; text-align: right;\">3</td><td style = \"text-align: left;\">A2780S_CT_S_AAACCTGGTATAGGGC</td><td style = \"text-align: left;\">A2780S_CT_S</td><td style = \"text-align: right;\">1643</td><td style = \"text-align: right;\">859</td><td style = \"text-align: left;\">A2780S_CT_S_AAACCTGGTATAGGGC</td></tr><tr><td class = \"rowNumber\" style = \"font-weight: bold; text-align: right;\">4</td><td style = \"text-align: left;\">A2780S_CT_S_AAACCTGGTGAAGGCT</td><td style = \"text-align: left;\">A2780S_CT_S</td><td style = \"text-align: right;\">970</td><td style = \"text-align: right;\">661</td><td style = \"text-align: left;\">A2780S_CT_S_AAACCTGGTGAAGGCT</td></tr><tr><td class = \"rowNumber\" style = \"font-weight: bold; text-align: right;\">5</td><td style = \"text-align: left;\">A2780S_CT_S_AAACCTGGTGCCTTGG</td><td style = \"text-align: left;\">A2780S_CT_S</td><td style = \"text-align: right;\">580</td><td style = \"text-align: right;\">404</td><td style = \"text-align: left;\">A2780S_CT_S_AAACCTGGTGCCTTGG</td></tr><tr><td class = \"rowNumber\" style = \"font-weight: bold; text-align: right;\">6</td><td style = \"text-align: left;\">A2780S_CT_S_AAACCTGTCAGTTTGG</td><td style = \"text-align: left;\">A2780S_CT_S</td><td style = \"text-align: right;\">1162</td><td style = \"text-align: right;\">680</td><td style = \"text-align: left;\">A2780S_CT_S_AAACCTGTCAGTTTGG</td></tr><tr><td class = \"rowNumber\" style = \"font-weight: bold; text-align: right;\">7</td><td style = \"text-align: left;\">A2780S_CT_S_AAACCTGTCATGCAAC</td><td style = \"text-align: left;\">A2780S_CT_S</td><td style = \"text-align: right;\">1408</td><td style = \"text-align: right;\">810</td><td style = \"text-align: left;\">A2780S_CT_S_AAACCTGTCATGCAAC</td></tr><tr><td class = \"rowNumber\" style = \"font-weight: bold; text-align: right;\">8</td><td style = \"text-align: left;\">A2780S_CT_S_AAACGGGCAAGGTGTG</td><td style = \"text-align: left;\">A2780S_CT_S</td><td style = \"text-align: right;\">14693</td><td style = \"text-align: right;\">3462</td><td style = \"text-align: left;\">A2780S_CT_S_AAACGGGCAAGGTGTG</td></tr><tr><td class = \"rowNumber\" style = \"font-weight: bold; text-align: right;\">9</td><td style = \"text-align: left;\">A2780S_CT_S_AAACGGGCACATCTTT</td><td style = \"text-align: left;\">A2780S_CT_S</td><td style = \"text-align: right;\">6551</td><td style = \"text-align: right;\">2232</td><td style = \"text-align: left;\">A2780S_CT_S_AAACGGGCACATCTTT</td></tr><tr><td class = \"rowNumber\" style = \"font-weight: bold; text-align: right;\">10</td><td style = \"text-align: left;\">A2780S_CT_S_AAACGGGCAGGCGATA</td><td style = \"text-align: left;\">A2780S_CT_S</td><td style = \"text-align: right;\">2156</td><td style = \"text-align: right;\">864</td><td style = \"text-align: left;\">A2780S_CT_S_AAACGGGCAGGCGATA</td></tr><tr><td class = \"rowNumber\" style = \"font-weight: bold; text-align: right;\">11</td><td style = \"text-align: left;\">A2780S_CT_S_AAACGGGTCCGAAGAG</td><td style = \"text-align: left;\">A2780S_CT_S</td><td style = \"text-align: right;\">638</td><td style = \"text-align: right;\">415</td><td style = \"text-align: left;\">A2780S_CT_S_AAACGGGTCCGAAGAG</td></tr><tr><td class = \"rowNumber\" style = \"font-weight: bold; text-align: right;\">12</td><td style = \"text-align: left;\">A2780S_CT_S_AAACGGGTCCTTTCGG</td><td style = \"text-align: left;\">A2780S_CT_S</td><td style = \"text-align: right;\">4667</td><td style = \"text-align: right;\">1749</td><td style = \"text-align: left;\">A2780S_CT_S_AAACGGGTCCTTTCGG</td></tr><tr><td class = \"rowNumber\" style = \"font-weight: bold; text-align: right;\">13</td><td style = \"text-align: left;\">A2780S_CT_S_AAACGGGTCTTCAACT</td><td style = \"text-align: left;\">A2780S_CT_S</td><td style = \"text-align: right;\">14647</td><td style = \"text-align: right;\">3743</td><td style = \"text-align: left;\">A2780S_CT_S_AAACGGGTCTTCAACT</td></tr><tr><td style = \"text-align: right;\">&vellip;</td><td style = \"text-align: right;\">&vellip;</td><td style = \"text-align: right;\">&vellip;</td><td style = \"text-align: right;\">&vellip;</td><td style = \"text-align: right;\">&vellip;</td><td style = \"text-align: right;\">&vellip;</td></tr><tr><td class = \"rowNumber\" style = \"font-weight: bold; text-align: right;\">3859</td><td style = \"text-align: left;\">A2780S_CT_R_TTTCCTCGTGCACCAC</td><td style = \"text-align: left;\">A2780S_CT_R</td><td style = \"text-align: right;\">30806</td><td style = \"text-align: right;\">4463</td><td style = \"text-align: left;\">A2780S_CT_R_TTTCCTCGTGCACCAC</td></tr><tr><td class = \"rowNumber\" style = \"font-weight: bold; text-align: right;\">3860</td><td style = \"text-align: left;\">A2780S_CT_R_TTTCCTCTCGCGGATC</td><td style = \"text-align: left;\">A2780S_CT_R</td><td style = \"text-align: right;\">4084</td><td style = \"text-align: right;\">1926</td><td style = \"text-align: left;\">A2780S_CT_R_TTTCCTCTCGCGGATC</td></tr><tr><td class = \"rowNumber\" style = \"font-weight: bold; text-align: right;\">3861</td><td style = \"text-align: left;\">A2780S_CT_R_TTTGCGCAGTAGGTGC</td><td style = \"text-align: left;\">A2780S_CT_R</td><td style = \"text-align: right;\">18452</td><td style = \"text-align: right;\">3845</td><td style = \"text-align: left;\">A2780S_CT_R_TTTGCGCAGTAGGTGC</td></tr><tr><td class = \"rowNumber\" style = \"font-weight: bold; text-align: right;\">3862</td><td style = \"text-align: left;\">A2780S_CT_R_TTTGGTTCAAACCCAT</td><td style = \"text-align: left;\">A2780S_CT_R</td><td style = \"text-align: right;\">30439</td><td style = \"text-align: right;\">4971</td><td style = \"text-align: left;\">A2780S_CT_R_TTTGGTTCAAACCCAT</td></tr><tr><td class = \"rowNumber\" style = \"font-weight: bold; text-align: right;\">3863</td><td style = \"text-align: left;\">A2780S_CT_R_TTTGGTTCACAGACAG</td><td style = \"text-align: left;\">A2780S_CT_R</td><td style = \"text-align: right;\">681</td><td style = \"text-align: right;\">251</td><td style = \"text-align: left;\">A2780S_CT_R_TTTGGTTCACAGACAG</td></tr><tr><td class = \"rowNumber\" style = \"font-weight: bold; text-align: right;\">3864</td><td style = \"text-align: left;\">A2780S_CT_R_TTTGGTTGTAGCGCTC</td><td style = \"text-align: left;\">A2780S_CT_R</td><td style = \"text-align: right;\">6891</td><td style = \"text-align: right;\">1710</td><td style = \"text-align: left;\">A2780S_CT_R_TTTGGTTGTAGCGCTC</td></tr><tr><td class = \"rowNumber\" style = \"font-weight: bold; text-align: right;\">3865</td><td style = \"text-align: left;\">A2780S_CT_R_TTTGGTTGTTACGTCA</td><td style = \"text-align: left;\">A2780S_CT_R</td><td style = \"text-align: right;\">541</td><td style = \"text-align: right;\">386</td><td style = \"text-align: left;\">A2780S_CT_R_TTTGGTTGTTACGTCA</td></tr><tr><td class = \"rowNumber\" style = \"font-weight: bold; text-align: right;\">3866</td><td style = \"text-align: left;\">A2780S_CT_R_TTTGTCACAACAACCT</td><td style = \"text-align: left;\">A2780S_CT_R</td><td style = \"text-align: right;\">19118</td><td style = \"text-align: right;\">3891</td><td style = \"text-align: left;\">A2780S_CT_R_TTTGTCACAACAACCT</td></tr><tr><td class = \"rowNumber\" style = \"font-weight: bold; text-align: right;\">3867</td><td style = \"text-align: left;\">A2780S_CT_R_TTTGTCACAAGAAAGG</td><td style = \"text-align: left;\">A2780S_CT_R</td><td style = \"text-align: right;\">2483</td><td style = \"text-align: right;\">700</td><td style = \"text-align: left;\">A2780S_CT_R_TTTGTCACAAGAAAGG</td></tr><tr><td class = \"rowNumber\" style = \"font-weight: bold; text-align: right;\">3868</td><td style = \"text-align: left;\">A2780S_CT_R_TTTGTCAGTCTGGTCG</td><td style = \"text-align: left;\">A2780S_CT_R</td><td style = \"text-align: right;\">18152</td><td style = \"text-align: right;\">3899</td><td style = \"text-align: left;\">A2780S_CT_R_TTTGTCAGTCTGGTCG</td></tr><tr><td class = \"rowNumber\" style = \"font-weight: bold; text-align: right;\">3869</td><td style = \"text-align: left;\">A2780S_CT_R_TTTGTCATCTGAAAGA</td><td style = \"text-align: left;\">A2780S_CT_R</td><td style = \"text-align: right;\">1014</td><td style = \"text-align: right;\">683</td><td style = \"text-align: left;\">A2780S_CT_R_TTTGTCATCTGAAAGA</td></tr><tr><td class = \"rowNumber\" style = \"font-weight: bold; text-align: right;\">3870</td><td style = \"text-align: left;\">A2780S_CT_R_TTTGTCATCTTGACGA</td><td style = \"text-align: left;\">A2780S_CT_R</td><td style = \"text-align: right;\">3475</td><td style = \"text-align: right;\">656</td><td style = \"text-align: left;\">A2780S_CT_R_TTTGTCATCTTGACGA</td></tr></tbody></table></div>"
      ],
      "text/latex": [
       "\\begin{tabular}{r|ccccc}\n",
       "\t& Cells & orig.ident & nCount\\_RNA & nFeature\\_RNA & id\\\\\n",
       "\t\\hline\n",
       "\t& String31 & String15 & Int64 & Int64 & String31\\\\\n",
       "\t\\hline\n",
       "\t1 & A2780S\\_CT\\_S\\_AAACCTGCAGGGTATG & A2780S\\_CT\\_S & 19540 & 3903 & A2780S\\_CT\\_S\\_AAACCTGCAGGGTATG \\\\\n",
       "\t2 & A2780S\\_CT\\_S\\_AAACCTGGTAGCGTCC & A2780S\\_CT\\_S & 19408 & 3499 & A2780S\\_CT\\_S\\_AAACCTGGTAGCGTCC \\\\\n",
       "\t3 & A2780S\\_CT\\_S\\_AAACCTGGTATAGGGC & A2780S\\_CT\\_S & 1643 & 859 & A2780S\\_CT\\_S\\_AAACCTGGTATAGGGC \\\\\n",
       "\t4 & A2780S\\_CT\\_S\\_AAACCTGGTGAAGGCT & A2780S\\_CT\\_S & 970 & 661 & A2780S\\_CT\\_S\\_AAACCTGGTGAAGGCT \\\\\n",
       "\t5 & A2780S\\_CT\\_S\\_AAACCTGGTGCCTTGG & A2780S\\_CT\\_S & 580 & 404 & A2780S\\_CT\\_S\\_AAACCTGGTGCCTTGG \\\\\n",
       "\t6 & A2780S\\_CT\\_S\\_AAACCTGTCAGTTTGG & A2780S\\_CT\\_S & 1162 & 680 & A2780S\\_CT\\_S\\_AAACCTGTCAGTTTGG \\\\\n",
       "\t7 & A2780S\\_CT\\_S\\_AAACCTGTCATGCAAC & A2780S\\_CT\\_S & 1408 & 810 & A2780S\\_CT\\_S\\_AAACCTGTCATGCAAC \\\\\n",
       "\t8 & A2780S\\_CT\\_S\\_AAACGGGCAAGGTGTG & A2780S\\_CT\\_S & 14693 & 3462 & A2780S\\_CT\\_S\\_AAACGGGCAAGGTGTG \\\\\n",
       "\t9 & A2780S\\_CT\\_S\\_AAACGGGCACATCTTT & A2780S\\_CT\\_S & 6551 & 2232 & A2780S\\_CT\\_S\\_AAACGGGCACATCTTT \\\\\n",
       "\t10 & A2780S\\_CT\\_S\\_AAACGGGCAGGCGATA & A2780S\\_CT\\_S & 2156 & 864 & A2780S\\_CT\\_S\\_AAACGGGCAGGCGATA \\\\\n",
       "\t11 & A2780S\\_CT\\_S\\_AAACGGGTCCGAAGAG & A2780S\\_CT\\_S & 638 & 415 & A2780S\\_CT\\_S\\_AAACGGGTCCGAAGAG \\\\\n",
       "\t12 & A2780S\\_CT\\_S\\_AAACGGGTCCTTTCGG & A2780S\\_CT\\_S & 4667 & 1749 & A2780S\\_CT\\_S\\_AAACGGGTCCTTTCGG \\\\\n",
       "\t13 & A2780S\\_CT\\_S\\_AAACGGGTCTTCAACT & A2780S\\_CT\\_S & 14647 & 3743 & A2780S\\_CT\\_S\\_AAACGGGTCTTCAACT \\\\\n",
       "\t14 & A2780S\\_CT\\_S\\_AAAGATGAGGCCCTTG & A2780S\\_CT\\_S & 2358 & 1097 & A2780S\\_CT\\_S\\_AAAGATGAGGCCCTTG \\\\\n",
       "\t15 & A2780S\\_CT\\_S\\_AAAGATGTCCGCTGTT & A2780S\\_CT\\_S & 1128 & 656 & A2780S\\_CT\\_S\\_AAAGATGTCCGCTGTT \\\\\n",
       "\t16 & A2780S\\_CT\\_S\\_AAAGATGTCGATCCCT & A2780S\\_CT\\_S & 1246 & 627 & A2780S\\_CT\\_S\\_AAAGATGTCGATCCCT \\\\\n",
       "\t17 & A2780S\\_CT\\_S\\_AAAGCAACACGGTGTC & A2780S\\_CT\\_S & 16416 & 3604 & A2780S\\_CT\\_S\\_AAAGCAACACGGTGTC \\\\\n",
       "\t18 & A2780S\\_CT\\_S\\_AAAGCAACACTTCTGC & A2780S\\_CT\\_S & 12951 & 3454 & A2780S\\_CT\\_S\\_AAAGCAACACTTCTGC \\\\\n",
       "\t19 & A2780S\\_CT\\_S\\_AAAGCAAGTCACTTCC & A2780S\\_CT\\_S & 650 & 434 & A2780S\\_CT\\_S\\_AAAGCAAGTCACTTCC \\\\\n",
       "\t20 & A2780S\\_CT\\_S\\_AAAGCAAGTGCGATAG & A2780S\\_CT\\_S & 21276 & 4060 & A2780S\\_CT\\_S\\_AAAGCAAGTGCGATAG \\\\\n",
       "\t21 & A2780S\\_CT\\_S\\_AAAGCAATCCAGAAGG & A2780S\\_CT\\_S & 900 & 551 & A2780S\\_CT\\_S\\_AAAGCAATCCAGAAGG \\\\\n",
       "\t22 & A2780S\\_CT\\_S\\_AAAGCAATCGAGGTAG & A2780S\\_CT\\_S & 1708 & 368 & A2780S\\_CT\\_S\\_AAAGCAATCGAGGTAG \\\\\n",
       "\t23 & A2780S\\_CT\\_S\\_AAAGTAGAGCCTTGAT & A2780S\\_CT\\_S & 537 & 141 & A2780S\\_CT\\_S\\_AAAGTAGAGCCTTGAT \\\\\n",
       "\t24 & A2780S\\_CT\\_S\\_AAAGTAGCACATCCAA & A2780S\\_CT\\_S & 7867 & 2527 & A2780S\\_CT\\_S\\_AAAGTAGCACATCCAA \\\\\n",
       "\t25 & A2780S\\_CT\\_S\\_AAAGTAGCAGTCAGCC & A2780S\\_CT\\_S & 616 & 242 & A2780S\\_CT\\_S\\_AAAGTAGCAGTCAGCC \\\\\n",
       "\t26 & A2780S\\_CT\\_S\\_AAAGTAGCATCTACGA & A2780S\\_CT\\_S & 3691 & 1519 & A2780S\\_CT\\_S\\_AAAGTAGCATCTACGA \\\\\n",
       "\t27 & A2780S\\_CT\\_S\\_AAAGTAGGTCGAACAG & A2780S\\_CT\\_S & 1189 & 189 & A2780S\\_CT\\_S\\_AAAGTAGGTCGAACAG \\\\\n",
       "\t28 & A2780S\\_CT\\_S\\_AAAGTAGTCACGCGGT & A2780S\\_CT\\_S & 14666 & 3569 & A2780S\\_CT\\_S\\_AAAGTAGTCACGCGGT \\\\\n",
       "\t29 & A2780S\\_CT\\_S\\_AAATGCCAGTACGACG & A2780S\\_CT\\_S & 1473 & 977 & A2780S\\_CT\\_S\\_AAATGCCAGTACGACG \\\\\n",
       "\t30 & A2780S\\_CT\\_S\\_AAATGCCGTTAAAGTG & A2780S\\_CT\\_S & 2979 & 1219 & A2780S\\_CT\\_S\\_AAATGCCGTTAAAGTG \\\\\n",
       "\t$\\dots$ & $\\dots$ & $\\dots$ & $\\dots$ & $\\dots$ & $\\dots$ \\\\\n",
       "\\end{tabular}\n"
      ],
      "text/plain": [
       "\u001b[1m3870×5 DataFrame\u001b[0m\n",
       "\u001b[1m  Row \u001b[0m│\u001b[1m Cells                        \u001b[0m\u001b[1m orig.ident  \u001b[0m\u001b[1m nCount_RNA \u001b[0m\u001b[1m nFeature_RNA \u001b[0m\u001b[1m i\u001b[0m ⋯\n",
       "      │\u001b[90m String31                     \u001b[0m\u001b[90m String15    \u001b[0m\u001b[90m Int64      \u001b[0m\u001b[90m Int64        \u001b[0m\u001b[90m S\u001b[0m ⋯\n",
       "──────┼─────────────────────────────────────────────────────────────────────────\n",
       "    1 │ A2780S_CT_S_AAACCTGCAGGGTATG  A2780S_CT_S       19540          3903  A ⋯\n",
       "    2 │ A2780S_CT_S_AAACCTGGTAGCGTCC  A2780S_CT_S       19408          3499  A\n",
       "    3 │ A2780S_CT_S_AAACCTGGTATAGGGC  A2780S_CT_S        1643           859  A\n",
       "    4 │ A2780S_CT_S_AAACCTGGTGAAGGCT  A2780S_CT_S         970           661  A\n",
       "    5 │ A2780S_CT_S_AAACCTGGTGCCTTGG  A2780S_CT_S         580           404  A ⋯\n",
       "    6 │ A2780S_CT_S_AAACCTGTCAGTTTGG  A2780S_CT_S        1162           680  A\n",
       "    7 │ A2780S_CT_S_AAACCTGTCATGCAAC  A2780S_CT_S        1408           810  A\n",
       "    8 │ A2780S_CT_S_AAACGGGCAAGGTGTG  A2780S_CT_S       14693          3462  A\n",
       "    9 │ A2780S_CT_S_AAACGGGCACATCTTT  A2780S_CT_S        6551          2232  A ⋯\n",
       "   10 │ A2780S_CT_S_AAACGGGCAGGCGATA  A2780S_CT_S        2156           864  A\n",
       "   11 │ A2780S_CT_S_AAACGGGTCCGAAGAG  A2780S_CT_S         638           415  A\n",
       "  ⋮   │              ⋮                     ⋮           ⋮            ⋮          ⋱\n",
       " 3861 │ A2780S_CT_R_TTTGCGCAGTAGGTGC  A2780S_CT_R       18452          3845  A\n",
       " 3862 │ A2780S_CT_R_TTTGGTTCAAACCCAT  A2780S_CT_R       30439          4971  A ⋯\n",
       " 3863 │ A2780S_CT_R_TTTGGTTCACAGACAG  A2780S_CT_R         681           251  A\n",
       " 3864 │ A2780S_CT_R_TTTGGTTGTAGCGCTC  A2780S_CT_R        6891          1710  A\n",
       " 3865 │ A2780S_CT_R_TTTGGTTGTTACGTCA  A2780S_CT_R         541           386  A\n",
       " 3866 │ A2780S_CT_R_TTTGTCACAACAACCT  A2780S_CT_R       19118          3891  A ⋯\n",
       " 3867 │ A2780S_CT_R_TTTGTCACAAGAAAGG  A2780S_CT_R        2483           700  A\n",
       " 3868 │ A2780S_CT_R_TTTGTCAGTCTGGTCG  A2780S_CT_R       18152          3899  A\n",
       " 3869 │ A2780S_CT_R_TTTGTCATCTGAAAGA  A2780S_CT_R        1014           683  A\n",
       " 3870 │ A2780S_CT_R_TTTGTCATCTTGACGA  A2780S_CT_R        3475           656  A ⋯\n",
       "\u001b[36m                                                  1 column and 3849 rows omitted\u001b[0m"
      ]
     },
     "execution_count": 9,
     "metadata": {},
     "output_type": "execute_result"
    }
   ],
   "source": [
    "obs = copy(A2780S_meta);\n",
    "obs.id = obs.Cells;\n",
    "obs"
   ]
  },
  {
   "cell_type": "code",
   "execution_count": null,
   "id": "f7023d63",
   "metadata": {},
   "outputs": [],
   "source": []
  },
  {
   "cell_type": "code",
   "execution_count": 10,
   "id": "5b182416",
   "metadata": {
    "scrolled": true
   },
   "outputs": [
    {
     "data": {
      "text/plain": [
       "DataMatrix (33538 variables and 3870 observations)\n",
       "  SparseMatrixCSC{Int64, Int64}\n",
       "  Variables: \u001b[0m\u001b[4mid\u001b[24m, \u001b[0mGenes, \u001b[0mmean\n",
       "  Observations: \u001b[0m\u001b[4mid\u001b[24m, \u001b[0mCells, \u001b[0morig.ident, \u001b[0mnCount_RNA, \u001b[0mnFeature_RNA"
      ]
     },
     "execution_count": 10,
     "metadata": {},
     "output_type": "execute_result"
    }
   ],
   "source": [
    "A2780S = DataMatrix(matrix_sparsed, var, obs; var_id_cols = nothing, obs_id_cols = nothing)"
   ]
  },
  {
   "cell_type": "markdown",
   "id": "dfefc3aa",
   "metadata": {},
   "source": [
    "## QC"
   ]
  },
  {
   "cell_type": "code",
   "execution_count": 11,
   "id": "9539135c",
   "metadata": {
    "scrolled": true
   },
   "outputs": [
    {
     "data": {
      "text/plain": [
       "DataMatrix (33538 variables and 3870 observations)\n",
       "  SparseMatrixCSC{Int64, Int64}\n",
       "  Variables: \u001b[0m\u001b[4mid\u001b[24m, \u001b[0mGenes, \u001b[0mmean\n",
       "  Observations: \u001b[0m\u001b[4mid\u001b[24m, \u001b[0mCells, \u001b[0morig.ident, \u001b[0mnCount_RNA, \u001b[0mnFeature_RNA, \u001b[0mfraction_mt\n",
       "  Models: VarCountsFractionModel(subset_size=13, total_size=33538, col=\"fraction_mt\")"
      ]
     },
     "execution_count": 11,
     "metadata": {},
     "output_type": "execute_result"
    }
   ],
   "source": [
    "var_counts_fraction!(A2780S, \"Genes\"=>startswith(r\"MT-\"), Returns(true), \"fraction_mt\")"
   ]
  },
  {
   "cell_type": "markdown",
   "id": "2f863ee8",
   "metadata": {},
   "source": [
    "## Filter"
   ]
  },
  {
   "cell_type": "code",
   "execution_count": 12,
   "id": "7f738dd8",
   "metadata": {
    "scrolled": true
   },
   "outputs": [
    {
     "name": "stdout",
     "output_type": "stream",
     "text": [
      "Summary Stats:\n",
      "Length:         3870\n",
      "Missing Count:  0\n",
      "Mean:           1790.596899\n",
      "Minimum:        123.000000\n",
      "1st Quartile:   575.000000\n",
      "Median:         1095.000000\n",
      "3rd Quartile:   3235.750000\n",
      "Maximum:        9602.000000\n",
      "Type:           Int64\n"
     ]
    }
   ],
   "source": [
    "describe(A2780S.obs[!,:nFeature_RNA])"
   ]
  },
  {
   "cell_type": "code",
   "execution_count": 13,
   "id": "87cefec6",
   "metadata": {},
   "outputs": [
    {
     "name": "stdout",
     "output_type": "stream",
     "text": [
      "mean_feature = mean(A2780S.obs[!, :nFeature_RNA]) = 1790.5968992248063\n",
      "sd_feature = std(A2780S.obs[!, :nFeature_RNA]) = 1459.8241111706327\n",
      "nFeature_Lower = 200 = 200\n",
      "nFeature_Upper = mean_feature + 2sd_feature = 4710.245121566071\n"
     ]
    }
   ],
   "source": [
    "@show mean_feature = mean(A2780S.obs[!,:nFeature_RNA]);\n",
    "@show sd_feature = std(A2780S.obs[!,:nFeature_RNA]);\n",
    "@show nFeature_Lower = 200;\n",
    "@show nFeature_Upper = mean_feature + 2 * sd_feature;"
   ]
  },
  {
   "cell_type": "code",
   "execution_count": 14,
   "id": "a1be5df7",
   "metadata": {},
   "outputs": [
    {
     "name": "stdout",
     "output_type": "stream",
     "text": [
      "Summary Stats:\n",
      "Length:         3870\n",
      "Missing Count:  0\n",
      "Mean:           0.131966\n",
      "Minimum:        0.000000\n",
      "1st Quartile:   0.033962\n",
      "Median:         0.067723\n",
      "3rd Quartile:   0.098820\n",
      "Maximum:        0.929275\n",
      "Type:           Float64\n"
     ]
    }
   ],
   "source": [
    "describe(A2780S.obs[!,:fraction_mt])"
   ]
  },
  {
   "cell_type": "code",
   "execution_count": 15,
   "id": "5759af9d",
   "metadata": {},
   "outputs": [
    {
     "name": "stdout",
     "output_type": "stream",
     "text": [
      "mean_fractionMT = mean(A2780S.obs[!, :fraction_mt]) = 0.13196564783999243\n",
      "sd_fractionMT = std(A2780S.obs[!, :fraction_mt]) = 0.18480269138043545\n",
      "fractionMito_Upper = mean_fractionMT + 2sd_fractionMT = 0.5015710306008634\n",
      "fractionMito_Low = mean_fractionMT - 2sd_fractionMT = -0.23763973492087848\n"
     ]
    }
   ],
   "source": [
    "@show mean_fractionMT = mean(A2780S.obs[!,:fraction_mt]);\n",
    "@show sd_fractionMT = std(A2780S.obs[!,:fraction_mt]);\n",
    "@show fractionMito_Upper = mean_fractionMT + 2 * sd_fractionMT;\n",
    "@show fractionMito_Low = mean_fractionMT - 2 * sd_fractionMT;"
   ]
  },
  {
   "cell_type": "code",
   "execution_count": 16,
   "id": "1e577a29",
   "metadata": {},
   "outputs": [
    {
     "data": {
      "text/plain": [
       "DataMatrix (10475 variables and 3449 observations)\n",
       "  SparseMatrixCSC{Int64, Int64}\n",
       "  Variables: \u001b[0m\u001b[4mid\u001b[24m, \u001b[0mGenes, \u001b[0mmean\n",
       "  Observations: \u001b[0m\u001b[4mid\u001b[24m, \u001b[0mCells, \u001b[0morig.ident, \u001b[0mnCount_RNA, \u001b[0mnFeature_RNA, \u001b[0mfraction_mt\n",
       "  Models: FilterModel([13, 16, 18, 20, 21, 22, 23, 27, 28, 30  …  33494, 33496, 33501, 33505, 33508, 33512, 33524, 33526, 33528, 33536], :), Filter, VarCountsFraction"
      ]
     },
     "execution_count": 16,
     "metadata": {},
     "output_type": "execute_result"
    }
   ],
   "source": [
    "A2780S_filtered_obs = filter_obs(row -> \n",
    "                         row[:nFeature_RNA] > nFeature_Lower &&\n",
    "                         row[:nFeature_RNA] < nFeature_Upper &&\n",
    "                         row[:fraction_mt] < fractionMito_Upper, A2780S);\n",
    "A2780S_filtered = filter_var(row -> 0.0125 <= row.mean <= 3.0 , A2780S_filtered_obs)"
   ]
  },
  {
   "cell_type": "code",
   "execution_count": null,
   "id": "8fedac9c",
   "metadata": {},
   "outputs": [],
   "source": []
  },
  {
   "cell_type": "markdown",
   "id": "04bec8d7",
   "metadata": {},
   "source": [
    "## Transformed"
   ]
  },
  {
   "cell_type": "code",
   "execution_count": 17,
   "id": "3e25c537",
   "metadata": {},
   "outputs": [
    {
     "name": "stderr",
     "output_type": "stream",
     "text": [
      "\u001b[36m\u001b[1m[ \u001b[22m\u001b[39m\u001b[36m\u001b[1mInfo: \u001b[22m\u001b[39mSCTransform parameters loaded from cache.\n",
      "\u001b[36m\u001b[1m[ \u001b[22m\u001b[39m\u001b[36m\u001b[1mInfo: \u001b[22m\u001b[39m- Removed 2 variables that were not found in Model\n"
     ]
    },
    {
     "data": {
      "text/plain": [
       "DataMatrix (10473 variables and 3449 observations)\n",
       "  A+B₁B₂B₃\n",
       "  Variables: \u001b[0m\u001b[4mid\u001b[24m, \u001b[0mGenes, \u001b[0mmean, \u001b[0mlogGeneMean, \u001b[0moutlier, \u001b[0mbeta0, \u001b[0mbeta1, \u001b[0mtheta\n",
       "  Observations: \u001b[0m\u001b[4mid\u001b[24m, \u001b[0mCells, \u001b[0morig.ident, \u001b[0mnCount_RNA, \u001b[0mnFeature_RNA, \u001b[0mfraction_mt\n",
       "  Models: SCTransformModel(nvar=10473, clip=10.72), Filter, Filter, VarCountsFraction"
      ]
     },
     "execution_count": 17,
     "metadata": {},
     "output_type": "execute_result"
    }
   ],
   "source": [
    "A2780S_filtered_transformed = sctransform(A2780S_filtered)"
   ]
  },
  {
   "cell_type": "code",
   "execution_count": null,
   "id": "ee4533f0",
   "metadata": {},
   "outputs": [],
   "source": []
  },
  {
   "cell_type": "markdown",
   "id": "2ddaa8c2",
   "metadata": {},
   "source": [
    "## Normalization"
   ]
  },
  {
   "cell_type": "code",
   "execution_count": 18,
   "id": "41732a48",
   "metadata": {},
   "outputs": [
    {
     "data": {
      "text/plain": [
       "DataMatrix (10473 variables and 3449 observations)\n",
       "  A+B₁B₂B₃+(-β)X'\n",
       "  Variables: \u001b[0m\u001b[4mid\u001b[24m, \u001b[0mGenes, \u001b[0mmean, \u001b[0mlogGeneMean, \u001b[0moutlier, \u001b[0mbeta0, \u001b[0mbeta1, \u001b[0mtheta\n",
       "  Observations: \u001b[0m\u001b[4mid\u001b[24m, \u001b[0mCells, \u001b[0morig.ident, \u001b[0mnCount_RNA, \u001b[0mnFeature_RNA, \u001b[0mfraction_mt\n",
       "  Models: NormalizationModel(rank=3, ~1+num(fraction_mt)+num(nCount_RNA)), SCTransform, Filter, Filter, VarCountsFraction"
      ]
     },
     "execution_count": 18,
     "metadata": {},
     "output_type": "execute_result"
    }
   ],
   "source": [
    "A2780S_filtered_transformed_normalized = normalize_matrix(A2780S_filtered_transformed,\"fraction_mt\",\"nCount_RNA\")"
   ]
  },
  {
   "cell_type": "markdown",
   "id": "682e1223",
   "metadata": {},
   "source": [
    "## PCA"
   ]
  },
  {
   "cell_type": "code",
   "execution_count": 19,
   "id": "e043bec3",
   "metadata": {},
   "outputs": [
    {
     "data": {
      "text/plain": [
       "DataMatrix (10473 variables and 3449 observations)\n",
       "  SVD (200 dimensions)\n",
       "  Variables: \u001b[0m\u001b[4mid\u001b[24m, \u001b[0mGenes, \u001b[0mmean, \u001b[0mlogGeneMean, \u001b[0moutlier, \u001b[0mbeta0, \u001b[0mbeta1, \u001b[0mtheta\n",
       "  Observations: \u001b[0m\u001b[4mid\u001b[24m, \u001b[0mCells, \u001b[0morig.ident, \u001b[0mnCount_RNA, \u001b[0mnFeature_RNA, \u001b[0mfraction_mt\n",
       "  Models: SVDModel(nsv=200), Normalization, SCTransform, Filter, Filter, ..."
      ]
     },
     "execution_count": 19,
     "metadata": {},
     "output_type": "execute_result"
    }
   ],
   "source": [
    "A2780S_reduced = svd(A2780S_filtered_transformed_normalized; nsv=200)"
   ]
  },
  {
   "cell_type": "markdown",
   "id": "ab135b38",
   "metadata": {},
   "source": [
    "## Plot function"
   ]
  },
  {
   "cell_type": "code",
   "execution_count": 20,
   "id": "e34bc6e6",
   "metadata": {},
   "outputs": [
    {
     "data": {
      "text/plain": [
       "plot_categorical_3d (generic function with 1 method)"
      ]
     },
     "execution_count": 20,
     "metadata": {},
     "output_type": "execute_result"
    }
   ],
   "source": [
    "function plot_categorical_3d(data, annotation; marker_size=7)\n",
    "    points = obs_coordinates(data)\n",
    "    traces = GenericTrace[]\n",
    "    for sub in groupby(data.obs, annotation; sort=true)\n",
    "        value = sub[1,annotation]\n",
    "        ind = parentindices(sub)[1]\n",
    "        push!(traces, scatter3d(;x=points[1,ind], y=points[2,ind], z=points[3,ind], mode=\"markers\", marker_size, name=value))\n",
    "    end\n",
    "    plot(traces, Layout(;legend=attr(itemsizing=\"constant\")))\n",
    "end"
   ]
  },
  {
   "cell_type": "code",
   "execution_count": null,
   "id": "5af87026",
   "metadata": {},
   "outputs": [],
   "source": []
  },
  {
   "cell_type": "code",
   "execution_count": null,
   "id": "82d94459",
   "metadata": {},
   "outputs": [],
   "source": []
  },
  {
   "cell_type": "code",
   "execution_count": 21,
   "id": "010b1842",
   "metadata": {
    "scrolled": true
   },
   "outputs": [
    {
     "data": {
      "text/plain": [
       "\"SingleCellProjection/pca.html\""
      ]
     },
     "execution_count": 21,
     "metadata": {},
     "output_type": "execute_result"
    }
   ],
   "source": [
    "pca = plot_categorical_3d(A2780S_reduced, \"orig.ident\")\n",
    "savefig(pca, \"SingleCellProjection/pca.html\")"
   ]
  },
  {
   "cell_type": "code",
   "execution_count": null,
   "id": "2ec6e3e1",
   "metadata": {},
   "outputs": [],
   "source": []
  },
  {
   "cell_type": "markdown",
   "id": "c2e73163",
   "metadata": {},
   "source": [
    "## UMAP"
   ]
  },
  {
   "cell_type": "code",
   "execution_count": 23,
   "id": "52521210",
   "metadata": {},
   "outputs": [
    {
     "data": {
      "text/plain": [
       "DataMatrix (50 variables and 3449 observations)\n",
       "  Matrix{Float64}\n",
       "  Variables: \u001b[0m\u001b[4mid\u001b[24m\n",
       "  Observations: \u001b[0m\u001b[4mid\u001b[24m, \u001b[0mCells, \u001b[0morig.ident, \u001b[0mnCount_RNA, \u001b[0mnFeature_RNA, \u001b[0mfraction_mt\n",
       "  Models: UMAPModel(n_components=50), SVD, Normalization, SCTransform, Filter, ..."
      ]
     },
     "execution_count": 23,
     "metadata": {},
     "output_type": "execute_result"
    }
   ],
   "source": [
    "A2780S_umapped = umap(A2780S_reduced, 50 )"
   ]
  },
  {
   "cell_type": "code",
   "execution_count": 24,
   "id": "f7a5c0fb",
   "metadata": {},
   "outputs": [
    {
     "data": {
      "text/plain": [
       "\"SingleCellProjection/umapped.html\""
      ]
     },
     "execution_count": 24,
     "metadata": {},
     "output_type": "execute_result"
    }
   ],
   "source": [
    "mapped = plot_categorical_3d(A2780S_umapped, \"orig.ident\")\n",
    "savefig(mapped, \"SingleCellProjection/umapped.html\")"
   ]
  },
  {
   "cell_type": "markdown",
   "id": "190ec173",
   "metadata": {},
   "source": [
    "## T-SNE"
   ]
  },
  {
   "cell_type": "code",
   "execution_count": 25,
   "id": "9b64fa2d",
   "metadata": {},
   "outputs": [
    {
     "name": "stderr",
     "output_type": "stream",
     "text": [
      "\u001b[33m\u001b[1m┌ \u001b[22m\u001b[39m\u001b[33m\u001b[1mWarning: \u001b[22m\u001b[39mProgressMeter by default refresh meters with additional information in IJulia via `IJulia.clear_output`, which clears all outputs in the cell. \n",
      "\u001b[33m\u001b[1m│ \u001b[22m\u001b[39m - To prevent this behaviour, do `ProgressMeter.ijulia_behavior(:append)`. \n",
      "\u001b[33m\u001b[1m│ \u001b[22m\u001b[39m - To disable this warning message, do `ProgressMeter.ijulia_behavior(:clear)`.\n",
      "\u001b[33m\u001b[1m└ \u001b[22m\u001b[39m\u001b[90m@ ProgressMeter ~/.julia/packages/ProgressMeter/dMfiC/src/ProgressMeter.jl:594\u001b[39m\n",
      "\r",
      "\u001b[32mComputing t-SNE 100%|████████████████████████████████████| Time: 0:00:32\u001b[39m\r\n",
      "\u001b[34m  KL_divergence:  2.6595\u001b[39m\n"
     ]
    },
    {
     "data": {
      "text/plain": [
       "DataMatrix (50 variables and 3449 observations)\n",
       "  Matrix{Float64}\n",
       "  Variables: \u001b[0m\u001b[4mid\u001b[24m\n",
       "  Observations: \u001b[0m\u001b[4mid\u001b[24m, \u001b[0mCells, \u001b[0morig.ident, \u001b[0mnCount_RNA, \u001b[0mnFeature_RNA, \u001b[0mfraction_mt\n",
       "  Models: NearestNeighborModel(base=\"tsne\", k=10), SVD, Normalization, SCTransform, Filter, ..."
      ]
     },
     "execution_count": 25,
     "metadata": {},
     "output_type": "execute_result"
    }
   ],
   "source": [
    "T = tsne(A2780S_reduced,50)"
   ]
  },
  {
   "cell_type": "code",
   "execution_count": 26,
   "id": "0fd7094a",
   "metadata": {},
   "outputs": [
    {
     "data": {
      "text/plain": [
       "\"SingleCellProjection/tsne.html\""
      ]
     },
     "execution_count": 26,
     "metadata": {},
     "output_type": "execute_result"
    }
   ],
   "source": [
    "tsne_plot = plot_categorical_3d(A2780S_umapped, \"orig.ident\")\n",
    "savefig(tsne_plot, \"SingleCellProjection/tsne.html\")"
   ]
  },
  {
   "cell_type": "markdown",
   "id": "459445ae",
   "metadata": {},
   "source": [
    "## force_layout graph"
   ]
  },
  {
   "cell_type": "code",
   "execution_count": 27,
   "id": "1c399646",
   "metadata": {},
   "outputs": [
    {
     "data": {
      "text/plain": [
       "DataMatrix (10 variables and 3449 observations)\n",
       "  Matrix{Float64}\n",
       "  Variables: \u001b[0m\u001b[4mid\u001b[24m\n",
       "  Observations: \u001b[0m\u001b[4mid\u001b[24m, \u001b[0mCells, \u001b[0morig.ident, \u001b[0mnCount_RNA, \u001b[0mnFeature_RNA, \u001b[0mfraction_mt\n",
       "  Models: NearestNeighborModel(base=\"force_layout\", k=10), SVD, Normalization, SCTransform, Filter, ..."
      ]
     },
     "execution_count": 27,
     "metadata": {},
     "output_type": "execute_result"
    }
   ],
   "source": [
    "A2780S_fl = force_layout(A2780S_reduced; ndim = 10, k = 100)"
   ]
  },
  {
   "cell_type": "code",
   "execution_count": 28,
   "id": "43ea649a",
   "metadata": {},
   "outputs": [
    {
     "data": {
      "text/plain": [
       "\"SingleCellProjection/force_layout.html\""
      ]
     },
     "execution_count": 28,
     "metadata": {},
     "output_type": "execute_result"
    }
   ],
   "source": [
    "fl_plot = plot_categorical_3d(A2780S_fl, \"orig.ident\")\n",
    "savefig(fl_plot, \"SingleCellProjection/force_layout.html\")"
   ]
  },
  {
   "cell_type": "code",
   "execution_count": null,
   "id": "46922507",
   "metadata": {},
   "outputs": [],
   "source": []
  }
 ],
 "metadata": {
  "@webio": {
   "lastCommId": "229f348ff4274fb8974920e144748ef7",
   "lastKernelId": "3ba1c655-07d0-4a9f-ab5d-902897b453b2"
  },
  "kernelspec": {
   "display_name": "Julia 1.9.3",
   "language": "julia",
   "name": "julia-1.9"
  },
  "language_info": {
   "file_extension": ".jl",
   "mimetype": "application/julia",
   "name": "julia",
   "version": "1.9.3"
  }
 },
 "nbformat": 4,
 "nbformat_minor": 5
}
